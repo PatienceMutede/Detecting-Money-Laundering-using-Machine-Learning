{
  "cells": [
    {
      "cell_type": "markdown",
      "metadata": {
        "id": "view-in-github",
        "colab_type": "text"
      },
      "source": [
        "<a href=\"https://colab.research.google.com/github/PatienceMutede/Detecting-Money-Laundering-using-Machine-Learning/blob/main/21027679_Detecting_Money_Laundering_Transactions_using_Machine_Learning_Algorithms.ipynb\" target=\"_parent\"><img src=\"https://colab.research.google.com/assets/colab-badge.svg\" alt=\"Open In Colab\"/></a>"
      ]
    },
    {
      "cell_type": "code",
      "execution_count": null,
      "metadata": {
        "id": "vHa7nGT34isq"
      },
      "outputs": [],
      "source": [
        "import pandas as pd\n",
        "import seaborn as sns\n",
        "from scipy.stats import spearmanr, kendalltau\n",
        "import numpy as np\n",
        "from sklearn.model_selection import train_test_split\n",
        "from sklearn.metrics import r2_score, mean_squared_error, mean_absolute_error\n",
        "import seaborn as sns\n",
        "from math import sqrt\n",
        "import matplotlib.pyplot as plt\n",
        "import matplotlib.pyplot as plt\n",
        "plt.style.use('ggplot')\n",
        "import matplotlib as mpl\n",
        "import matplotlib.pyplot as plt\n",
        "from matplotlib import pyplot\n",
        "from sklearn.preprocessing import StandardScaler\n",
        "from scipy import stats\n",
        "from scipy.stats import kurtosis\n",
        "from scipy.stats import skew\n",
        "from scipy.stats import norm\n",
        "%matplotlib inline\n",
        "from sklearn.preprocessing import LabelEncoder\n",
        "from sklearn import preprocessing\n",
        "from sklearn.ensemble import RandomForestRegressor\n",
        "from sklearn.model_selection import GridSearchCV\n",
        "from sklearn import metrics\n",
        "from sklearn.metrics import accuracy_score\n",
        "from sklearn.metrics import confusion_matrix\n",
        "import math\n",
        "from sklearn.linear_model import LogisticRegression\n",
        "from sklearn.ensemble import RandomForestClassifier\n",
        "from sklearn.model_selection import GridSearchCV,RandomizedSearchCV\n",
        "from sklearn.model_selection import StratifiedKFold\n",
        "from sklearn.metrics import confusion_matrix, accuracy_score, classification_report\n",
        "from sklearn.svm import SVC\n",
        "from sklearn.metrics import classification_report, confusion_matrix\n",
        "from sklearn.metrics import r2_score, classification_report, confusion_matrix, accuracy_score, roc_auc_score, roc_curve, precision_recall_curve, average_precision_score\n",
        "from sklearn.metrics import confusion_matrix, ConfusionMatrixDisplay, classification_report, f1_score"
      ]
    },
    {
      "cell_type": "markdown",
      "metadata": {
        "id": "swTSAWWnkRq3"
      },
      "source": [
        "**Importing the Dataset**"
      ]
    },
    {
      "cell_type": "code",
      "execution_count": null,
      "metadata": {
        "id": "XsJ9Fn-q7Nxm"
      },
      "outputs": [],
      "source": [
        "data=\"/content/drive/MyDrive/Data Money Laundering/HI-Small_Trans.csv\""
      ]
    },
    {
      "cell_type": "code",
      "execution_count": null,
      "metadata": {
        "id": "HwJfV7irBBQv"
      },
      "outputs": [],
      "source": [
        "dataset=pd.read_csv(data)"
      ]
    },
    {
      "cell_type": "markdown",
      "metadata": {
        "id": "YuvF10mfkiof"
      },
      "source": [
        "**Dataset Overview**"
      ]
    },
    {
      "cell_type": "code",
      "execution_count": null,
      "metadata": {
        "colab": {
          "base_uri": "https://localhost:8080/",
          "height": 423
        },
        "id": "NcTKYBbRIdxx",
        "outputId": "f61103c1-b0b2-4cbf-a62e-8efd1e6a171d"
      },
      "outputs": [
        {
          "output_type": "execute_result",
          "data": {
            "text/plain": [
              "                Timestamp  From Bank    Account  To Bank  Account.1  \\\n",
              "0        2022/09/01 00:20         10  8000EBD30       10  8000EBD30   \n",
              "1        2022/09/01 00:20       3208  8000F4580        1  8000F5340   \n",
              "2        2022/09/01 00:00       3209  8000F4670     3209  8000F4670   \n",
              "3        2022/09/01 00:02         12  8000F5030       12  8000F5030   \n",
              "4        2022/09/01 00:06         10  8000F5200       10  8000F5200   \n",
              "...                   ...        ...        ...      ...        ...   \n",
              "5078340  2022/09/10 23:57      54219  8148A6631   256398  8148A8711   \n",
              "5078341  2022/09/10 23:35         15  8148A8671   256398  8148A8711   \n",
              "5078342  2022/09/10 23:52     154365  8148A6771   256398  8148A8711   \n",
              "5078343  2022/09/10 23:46     256398  8148A6311   256398  8148A8711   \n",
              "5078344  2022/09/10 23:37     154518  8148A6091   256398  8148A8711   \n",
              "\n",
              "         Amount Received Receiving Currency   Amount Paid Payment Currency  \\\n",
              "0            3697.340000          US Dollar   3697.340000        US Dollar   \n",
              "1               0.010000          US Dollar      0.010000        US Dollar   \n",
              "2           14675.570000          US Dollar  14675.570000        US Dollar   \n",
              "3            2806.970000          US Dollar   2806.970000        US Dollar   \n",
              "4           36682.970000          US Dollar  36682.970000        US Dollar   \n",
              "...                  ...                ...           ...              ...   \n",
              "5078340         0.154978            Bitcoin      0.154978          Bitcoin   \n",
              "5078341         0.108128            Bitcoin      0.108128          Bitcoin   \n",
              "5078342         0.004988            Bitcoin      0.004988          Bitcoin   \n",
              "5078343         0.038417            Bitcoin      0.038417          Bitcoin   \n",
              "5078344         0.281983            Bitcoin      0.281983          Bitcoin   \n",
              "\n",
              "        Payment Format  Is Laundering  \n",
              "0         Reinvestment              0  \n",
              "1               Cheque              0  \n",
              "2         Reinvestment              0  \n",
              "3         Reinvestment              0  \n",
              "4         Reinvestment              0  \n",
              "...                ...            ...  \n",
              "5078340        Bitcoin              0  \n",
              "5078341        Bitcoin              0  \n",
              "5078342        Bitcoin              0  \n",
              "5078343        Bitcoin              0  \n",
              "5078344        Bitcoin              0  \n",
              "\n",
              "[5078345 rows x 11 columns]"
            ],
            "text/html": [
              "\n",
              "  <div id=\"df-fd2a7159-331f-4100-bfe0-276f3ee68096\" class=\"colab-df-container\">\n",
              "    <div>\n",
              "<style scoped>\n",
              "    .dataframe tbody tr th:only-of-type {\n",
              "        vertical-align: middle;\n",
              "    }\n",
              "\n",
              "    .dataframe tbody tr th {\n",
              "        vertical-align: top;\n",
              "    }\n",
              "\n",
              "    .dataframe thead th {\n",
              "        text-align: right;\n",
              "    }\n",
              "</style>\n",
              "<table border=\"1\" class=\"dataframe\">\n",
              "  <thead>\n",
              "    <tr style=\"text-align: right;\">\n",
              "      <th></th>\n",
              "      <th>Timestamp</th>\n",
              "      <th>From Bank</th>\n",
              "      <th>Account</th>\n",
              "      <th>To Bank</th>\n",
              "      <th>Account.1</th>\n",
              "      <th>Amount Received</th>\n",
              "      <th>Receiving Currency</th>\n",
              "      <th>Amount Paid</th>\n",
              "      <th>Payment Currency</th>\n",
              "      <th>Payment Format</th>\n",
              "      <th>Is Laundering</th>\n",
              "    </tr>\n",
              "  </thead>\n",
              "  <tbody>\n",
              "    <tr>\n",
              "      <th>0</th>\n",
              "      <td>2022/09/01 00:20</td>\n",
              "      <td>10</td>\n",
              "      <td>8000EBD30</td>\n",
              "      <td>10</td>\n",
              "      <td>8000EBD30</td>\n",
              "      <td>3697.340000</td>\n",
              "      <td>US Dollar</td>\n",
              "      <td>3697.340000</td>\n",
              "      <td>US Dollar</td>\n",
              "      <td>Reinvestment</td>\n",
              "      <td>0</td>\n",
              "    </tr>\n",
              "    <tr>\n",
              "      <th>1</th>\n",
              "      <td>2022/09/01 00:20</td>\n",
              "      <td>3208</td>\n",
              "      <td>8000F4580</td>\n",
              "      <td>1</td>\n",
              "      <td>8000F5340</td>\n",
              "      <td>0.010000</td>\n",
              "      <td>US Dollar</td>\n",
              "      <td>0.010000</td>\n",
              "      <td>US Dollar</td>\n",
              "      <td>Cheque</td>\n",
              "      <td>0</td>\n",
              "    </tr>\n",
              "    <tr>\n",
              "      <th>2</th>\n",
              "      <td>2022/09/01 00:00</td>\n",
              "      <td>3209</td>\n",
              "      <td>8000F4670</td>\n",
              "      <td>3209</td>\n",
              "      <td>8000F4670</td>\n",
              "      <td>14675.570000</td>\n",
              "      <td>US Dollar</td>\n",
              "      <td>14675.570000</td>\n",
              "      <td>US Dollar</td>\n",
              "      <td>Reinvestment</td>\n",
              "      <td>0</td>\n",
              "    </tr>\n",
              "    <tr>\n",
              "      <th>3</th>\n",
              "      <td>2022/09/01 00:02</td>\n",
              "      <td>12</td>\n",
              "      <td>8000F5030</td>\n",
              "      <td>12</td>\n",
              "      <td>8000F5030</td>\n",
              "      <td>2806.970000</td>\n",
              "      <td>US Dollar</td>\n",
              "      <td>2806.970000</td>\n",
              "      <td>US Dollar</td>\n",
              "      <td>Reinvestment</td>\n",
              "      <td>0</td>\n",
              "    </tr>\n",
              "    <tr>\n",
              "      <th>4</th>\n",
              "      <td>2022/09/01 00:06</td>\n",
              "      <td>10</td>\n",
              "      <td>8000F5200</td>\n",
              "      <td>10</td>\n",
              "      <td>8000F5200</td>\n",
              "      <td>36682.970000</td>\n",
              "      <td>US Dollar</td>\n",
              "      <td>36682.970000</td>\n",
              "      <td>US Dollar</td>\n",
              "      <td>Reinvestment</td>\n",
              "      <td>0</td>\n",
              "    </tr>\n",
              "    <tr>\n",
              "      <th>...</th>\n",
              "      <td>...</td>\n",
              "      <td>...</td>\n",
              "      <td>...</td>\n",
              "      <td>...</td>\n",
              "      <td>...</td>\n",
              "      <td>...</td>\n",
              "      <td>...</td>\n",
              "      <td>...</td>\n",
              "      <td>...</td>\n",
              "      <td>...</td>\n",
              "      <td>...</td>\n",
              "    </tr>\n",
              "    <tr>\n",
              "      <th>5078340</th>\n",
              "      <td>2022/09/10 23:57</td>\n",
              "      <td>54219</td>\n",
              "      <td>8148A6631</td>\n",
              "      <td>256398</td>\n",
              "      <td>8148A8711</td>\n",
              "      <td>0.154978</td>\n",
              "      <td>Bitcoin</td>\n",
              "      <td>0.154978</td>\n",
              "      <td>Bitcoin</td>\n",
              "      <td>Bitcoin</td>\n",
              "      <td>0</td>\n",
              "    </tr>\n",
              "    <tr>\n",
              "      <th>5078341</th>\n",
              "      <td>2022/09/10 23:35</td>\n",
              "      <td>15</td>\n",
              "      <td>8148A8671</td>\n",
              "      <td>256398</td>\n",
              "      <td>8148A8711</td>\n",
              "      <td>0.108128</td>\n",
              "      <td>Bitcoin</td>\n",
              "      <td>0.108128</td>\n",
              "      <td>Bitcoin</td>\n",
              "      <td>Bitcoin</td>\n",
              "      <td>0</td>\n",
              "    </tr>\n",
              "    <tr>\n",
              "      <th>5078342</th>\n",
              "      <td>2022/09/10 23:52</td>\n",
              "      <td>154365</td>\n",
              "      <td>8148A6771</td>\n",
              "      <td>256398</td>\n",
              "      <td>8148A8711</td>\n",
              "      <td>0.004988</td>\n",
              "      <td>Bitcoin</td>\n",
              "      <td>0.004988</td>\n",
              "      <td>Bitcoin</td>\n",
              "      <td>Bitcoin</td>\n",
              "      <td>0</td>\n",
              "    </tr>\n",
              "    <tr>\n",
              "      <th>5078343</th>\n",
              "      <td>2022/09/10 23:46</td>\n",
              "      <td>256398</td>\n",
              "      <td>8148A6311</td>\n",
              "      <td>256398</td>\n",
              "      <td>8148A8711</td>\n",
              "      <td>0.038417</td>\n",
              "      <td>Bitcoin</td>\n",
              "      <td>0.038417</td>\n",
              "      <td>Bitcoin</td>\n",
              "      <td>Bitcoin</td>\n",
              "      <td>0</td>\n",
              "    </tr>\n",
              "    <tr>\n",
              "      <th>5078344</th>\n",
              "      <td>2022/09/10 23:37</td>\n",
              "      <td>154518</td>\n",
              "      <td>8148A6091</td>\n",
              "      <td>256398</td>\n",
              "      <td>8148A8711</td>\n",
              "      <td>0.281983</td>\n",
              "      <td>Bitcoin</td>\n",
              "      <td>0.281983</td>\n",
              "      <td>Bitcoin</td>\n",
              "      <td>Bitcoin</td>\n",
              "      <td>0</td>\n",
              "    </tr>\n",
              "  </tbody>\n",
              "</table>\n",
              "<p>5078345 rows × 11 columns</p>\n",
              "</div>\n",
              "    <div class=\"colab-df-buttons\">\n",
              "\n",
              "  <div class=\"colab-df-container\">\n",
              "    <button class=\"colab-df-convert\" onclick=\"convertToInteractive('df-fd2a7159-331f-4100-bfe0-276f3ee68096')\"\n",
              "            title=\"Convert this dataframe to an interactive table.\"\n",
              "            style=\"display:none;\">\n",
              "\n",
              "  <svg xmlns=\"http://www.w3.org/2000/svg\" height=\"24px\" viewBox=\"0 -960 960 960\">\n",
              "    <path d=\"M120-120v-720h720v720H120Zm60-500h600v-160H180v160Zm220 220h160v-160H400v160Zm0 220h160v-160H400v160ZM180-400h160v-160H180v160Zm440 0h160v-160H620v160ZM180-180h160v-160H180v160Zm440 0h160v-160H620v160Z\"/>\n",
              "  </svg>\n",
              "    </button>\n",
              "\n",
              "  <style>\n",
              "    .colab-df-container {\n",
              "      display:flex;\n",
              "      gap: 12px;\n",
              "    }\n",
              "\n",
              "    .colab-df-convert {\n",
              "      background-color: #E8F0FE;\n",
              "      border: none;\n",
              "      border-radius: 50%;\n",
              "      cursor: pointer;\n",
              "      display: none;\n",
              "      fill: #1967D2;\n",
              "      height: 32px;\n",
              "      padding: 0 0 0 0;\n",
              "      width: 32px;\n",
              "    }\n",
              "\n",
              "    .colab-df-convert:hover {\n",
              "      background-color: #E2EBFA;\n",
              "      box-shadow: 0px 1px 2px rgba(60, 64, 67, 0.3), 0px 1px 3px 1px rgba(60, 64, 67, 0.15);\n",
              "      fill: #174EA6;\n",
              "    }\n",
              "\n",
              "    .colab-df-buttons div {\n",
              "      margin-bottom: 4px;\n",
              "    }\n",
              "\n",
              "    [theme=dark] .colab-df-convert {\n",
              "      background-color: #3B4455;\n",
              "      fill: #D2E3FC;\n",
              "    }\n",
              "\n",
              "    [theme=dark] .colab-df-convert:hover {\n",
              "      background-color: #434B5C;\n",
              "      box-shadow: 0px 1px 3px 1px rgba(0, 0, 0, 0.15);\n",
              "      filter: drop-shadow(0px 1px 2px rgba(0, 0, 0, 0.3));\n",
              "      fill: #FFFFFF;\n",
              "    }\n",
              "  </style>\n",
              "\n",
              "    <script>\n",
              "      const buttonEl =\n",
              "        document.querySelector('#df-fd2a7159-331f-4100-bfe0-276f3ee68096 button.colab-df-convert');\n",
              "      buttonEl.style.display =\n",
              "        google.colab.kernel.accessAllowed ? 'block' : 'none';\n",
              "\n",
              "      async function convertToInteractive(key) {\n",
              "        const element = document.querySelector('#df-fd2a7159-331f-4100-bfe0-276f3ee68096');\n",
              "        const dataTable =\n",
              "          await google.colab.kernel.invokeFunction('convertToInteractive',\n",
              "                                                    [key], {});\n",
              "        if (!dataTable) return;\n",
              "\n",
              "        const docLinkHtml = 'Like what you see? Visit the ' +\n",
              "          '<a target=\"_blank\" href=https://colab.research.google.com/notebooks/data_table.ipynb>data table notebook</a>'\n",
              "          + ' to learn more about interactive tables.';\n",
              "        element.innerHTML = '';\n",
              "        dataTable['output_type'] = 'display_data';\n",
              "        await google.colab.output.renderOutput(dataTable, element);\n",
              "        const docLink = document.createElement('div');\n",
              "        docLink.innerHTML = docLinkHtml;\n",
              "        element.appendChild(docLink);\n",
              "      }\n",
              "    </script>\n",
              "  </div>\n",
              "\n",
              "\n",
              "<div id=\"df-16a76c7a-2482-4615-900d-dee68e88295b\">\n",
              "  <button class=\"colab-df-quickchart\" onclick=\"quickchart('df-16a76c7a-2482-4615-900d-dee68e88295b')\"\n",
              "            title=\"Suggest charts.\"\n",
              "            style=\"display:none;\">\n",
              "\n",
              "<svg xmlns=\"http://www.w3.org/2000/svg\" height=\"24px\"viewBox=\"0 0 24 24\"\n",
              "     width=\"24px\">\n",
              "    <g>\n",
              "        <path d=\"M19 3H5c-1.1 0-2 .9-2 2v14c0 1.1.9 2 2 2h14c1.1 0 2-.9 2-2V5c0-1.1-.9-2-2-2zM9 17H7v-7h2v7zm4 0h-2V7h2v10zm4 0h-2v-4h2v4z\"/>\n",
              "    </g>\n",
              "</svg>\n",
              "  </button>\n",
              "\n",
              "<style>\n",
              "  .colab-df-quickchart {\n",
              "    background-color: #E8F0FE;\n",
              "    border: none;\n",
              "    border-radius: 50%;\n",
              "    cursor: pointer;\n",
              "    display: none;\n",
              "    fill: #1967D2;\n",
              "    height: 32px;\n",
              "    padding: 0 0 0 0;\n",
              "    width: 32px;\n",
              "  }\n",
              "\n",
              "  .colab-df-quickchart:hover {\n",
              "    background-color: #E2EBFA;\n",
              "    box-shadow: 0px 1px 2px rgba(60, 64, 67, 0.3), 0px 1px 3px 1px rgba(60, 64, 67, 0.15);\n",
              "    fill: #174EA6;\n",
              "  }\n",
              "\n",
              "  [theme=dark] .colab-df-quickchart {\n",
              "    background-color: #3B4455;\n",
              "    fill: #D2E3FC;\n",
              "  }\n",
              "\n",
              "  [theme=dark] .colab-df-quickchart:hover {\n",
              "    background-color: #434B5C;\n",
              "    box-shadow: 0px 1px 3px 1px rgba(0, 0, 0, 0.15);\n",
              "    filter: drop-shadow(0px 1px 2px rgba(0, 0, 0, 0.3));\n",
              "    fill: #FFFFFF;\n",
              "  }\n",
              "</style>\n",
              "\n",
              "  <script>\n",
              "    async function quickchart(key) {\n",
              "      const charts = await google.colab.kernel.invokeFunction(\n",
              "          'suggestCharts', [key], {});\n",
              "    }\n",
              "    (() => {\n",
              "      let quickchartButtonEl =\n",
              "        document.querySelector('#df-16a76c7a-2482-4615-900d-dee68e88295b button');\n",
              "      quickchartButtonEl.style.display =\n",
              "        google.colab.kernel.accessAllowed ? 'block' : 'none';\n",
              "    })();\n",
              "  </script>\n",
              "</div>\n",
              "    </div>\n",
              "  </div>\n"
            ]
          },
          "metadata": {},
          "execution_count": 4
        }
      ],
      "source": [
        "dataset"
      ]
    },
    {
      "cell_type": "code",
      "execution_count": null,
      "metadata": {
        "colab": {
          "base_uri": "https://localhost:8080/"
        },
        "id": "P1jJwbkSeP5A",
        "outputId": "0bfdab5c-ca7e-4ca6-86cb-41dc560d68a3"
      },
      "outputs": [
        {
          "output_type": "execute_result",
          "data": {
            "text/plain": [
              "(5078345, 11)"
            ]
          },
          "metadata": {},
          "execution_count": 5
        }
      ],
      "source": [
        "dataset.shape"
      ]
    },
    {
      "cell_type": "code",
      "execution_count": null,
      "metadata": {
        "colab": {
          "base_uri": "https://localhost:8080/"
        },
        "id": "TpHl09f_3Var",
        "outputId": "5b12bd7a-7d5b-4b27-d3b0-b1e43bf6fbae"
      },
      "outputs": [
        {
          "output_type": "stream",
          "name": "stdout",
          "text": [
            "<class 'pandas.core.frame.DataFrame'>\n",
            "RangeIndex: 5078345 entries, 0 to 5078344\n",
            "Data columns (total 11 columns):\n",
            " #   Column              Dtype  \n",
            "---  ------              -----  \n",
            " 0   Timestamp           object \n",
            " 1   From Bank           int64  \n",
            " 2   Account             object \n",
            " 3   To Bank             int64  \n",
            " 4   Account.1           object \n",
            " 5   Amount Received     float64\n",
            " 6   Receiving Currency  object \n",
            " 7   Amount Paid         float64\n",
            " 8   Payment Currency    object \n",
            " 9   Payment Format      object \n",
            " 10  Is Laundering       int64  \n",
            "dtypes: float64(2), int64(3), object(6)\n",
            "memory usage: 426.2+ MB\n"
          ]
        }
      ],
      "source": [
        "dataset.info()"
      ]
    },
    {
      "cell_type": "markdown",
      "metadata": {
        "id": "KNr9eMOMniX3"
      },
      "source": [
        "The dataset has 5 million rows and 8 columns"
      ]
    },
    {
      "cell_type": "markdown",
      "metadata": {
        "id": "WICQ6w3Jlt5C"
      },
      "source": [
        "**Checking for Data Imbalance**"
      ]
    },
    {
      "cell_type": "code",
      "execution_count": null,
      "metadata": {
        "id": "UIOB6KvNmBGI"
      },
      "outputs": [],
      "source": [
        "x = dataset['Is Laundering'].value_counts()"
      ]
    },
    {
      "cell_type": "code",
      "execution_count": null,
      "metadata": {
        "colab": {
          "base_uri": "https://localhost:8080/"
        },
        "id": "-RZCTg8NmVnf",
        "outputId": "d3eb1222-0466-414f-a79e-0d1b8a86baf5"
      },
      "outputs": [
        {
          "output_type": "execute_result",
          "data": {
            "text/plain": [
              "0    5073168\n",
              "1       5177\n",
              "Name: Is Laundering, dtype: int64"
            ]
          },
          "metadata": {},
          "execution_count": 8
        }
      ],
      "source": [
        "x"
      ]
    },
    {
      "cell_type": "code",
      "execution_count": null,
      "metadata": {
        "colab": {
          "base_uri": "https://localhost:8080/"
        },
        "id": "mpiquDgHmXN0",
        "outputId": "ffdfb906-6d41-438c-b10f-e23f88da9340"
      },
      "outputs": [
        {
          "output_type": "execute_result",
          "data": {
            "text/plain": [
              "0    0.998981\n",
              "1    0.001019\n",
              "Name: Is Laundering, dtype: float64"
            ]
          },
          "metadata": {},
          "execution_count": 9
        }
      ],
      "source": [
        "x/len(dataset)"
      ]
    },
    {
      "cell_type": "code",
      "execution_count": null,
      "metadata": {
        "colab": {
          "base_uri": "https://localhost:8080/"
        },
        "id": "YQ7JxW41mfb0",
        "outputId": "90f6132a-52db-402f-ee35-91e708c7dffa"
      },
      "outputs": [
        {
          "output_type": "execute_result",
          "data": {
            "text/plain": [
              "0.0010204668956360207"
            ]
          },
          "metadata": {},
          "execution_count": 10
        }
      ],
      "source": [
        "x[1]/x[0]"
      ]
    },
    {
      "cell_type": "markdown",
      "metadata": {
        "id": "K-2n0Xg4mstT"
      },
      "source": [
        "The ratio of the laundering transactions is very low and this is a case of imbalance\n",
        "\n",
        "The ratio of laundering to non-laundering is very low (0.001).In this section the ratio of laundering to non-laundering is going to be visualized."
      ]
    },
    {
      "cell_type": "code",
      "execution_count": null,
      "metadata": {
        "colab": {
          "base_uri": "https://localhost:8080/",
          "height": 467
        },
        "id": "tFmmVu91nQjq",
        "outputId": "7441c433-cf4e-4952-c8d6-b19147c01b28"
      },
      "outputs": [
        {
          "output_type": "execute_result",
          "data": {
            "text/plain": [
              "Text(0.5, 1.0, 'Class Distributions \\n (0:Non_Suspicious || 1: Suspicious)')"
            ]
          },
          "metadata": {},
          "execution_count": 11
        },
        {
          "output_type": "display_data",
          "data": {
            "text/plain": [
              "<Figure size 400x400 with 1 Axes>"
            ],
            "image/png": "[encoded data removed]"
          },
          "metadata": {}
        }
      ],
      "source": [
        "cls = [\"#008F8D\", \"#F9BF51\"]\n",
        "sns.set_palette(sns.color_palette(cls))\n",
        "\n",
        "fig,ax=plt.subplots(figsize=(4,4))\n",
        "\n",
        "sns.countplot( data=dataset,x='Is Laundering')\n",
        "plt.title('Class Distributions \\n (0:Non_Suspicious || 1: Suspicious)', fontsize=12)"
      ]
    },
    {
      "cell_type": "markdown",
      "metadata": {
        "id": "XLKv94tCnycy"
      },
      "source": [
        "It can be clearly seen from the histogram that there is a very huge data imbalance. There are 5073168 and 5177 non-suspicious and suspicious transactions respectively. In the next section data transformation will be done to cater for the data imbalance.\n"
      ]
    },
    {
      "cell_type": "markdown",
      "metadata": {
        "id": "MvJ-0t3vkz6u"
      },
      "source": [
        "**Data processing- Data Transformation**"
      ]
    },
    {
      "cell_type": "code",
      "execution_count": null,
      "metadata": {
        "id": "VGWGX153lcg0"
      },
      "outputs": [],
      "source": [
        "Suspicious= dataset[dataset['Is Laundering']==1]"
      ]
    },
    {
      "cell_type": "code",
      "execution_count": null,
      "metadata": {
        "colab": {
          "base_uri": "https://localhost:8080/"
        },
        "id": "XiZ0JRIQpHmE",
        "outputId": "c529ce62-bb4f-4bfb-c5f1-32b029c2b4cd"
      },
      "outputs": [
        {
          "output_type": "execute_result",
          "data": {
            "text/plain": [
              "(5177, 11)"
            ]
          },
          "metadata": {},
          "execution_count": 13
        }
      ],
      "source": [
        "Suspicious.shape"
      ]
    },
    {
      "cell_type": "code",
      "execution_count": null,
      "metadata": {
        "colab": {
          "base_uri": "https://localhost:8080/"
        },
        "id": "Xu6-uo01VBsw",
        "outputId": "99dc5c12-1271-467a-afeb-220207e70247"
      },
      "outputs": [
        {
          "output_type": "execute_result",
          "data": {
            "text/plain": [
              "count    5.177000e+03\n",
              "mean     3.613531e+07\n",
              "std      1.527919e+09\n",
              "min      3.227000e-03\n",
              "25%      2.634970e+03\n",
              "50%      8.667210e+03\n",
              "75%      1.883227e+04\n",
              "max      8.485314e+10\n",
              "Name: Amount Paid, dtype: float64"
            ]
          },
          "metadata": {},
          "execution_count": 14
        }
      ],
      "source": [
        "Suspicious['Amount Paid'].describe()"
      ]
    },
    {
      "cell_type": "code",
      "execution_count": null,
      "metadata": {
        "colab": {
          "base_uri": "https://localhost:8080/",
          "height": 423
        },
        "id": "HUlcsRSIj0qW",
        "outputId": "9c339895-bfac-4745-d329-8c998329c99e"
      },
      "outputs": [
        {
          "output_type": "execute_result",
          "data": {
            "text/plain": [
              "             Timestamp  From Bank    Account  To Bank  Account.1  \\\n",
              "0     2022/09/01 00:20         10  8000EBD30       10  8000EBD30   \n",
              "1     2022/09/01 00:20       3208  8000F4580        1  8000F5340   \n",
              "2     2022/09/01 00:00       3209  8000F4670     3209  8000F4670   \n",
              "3     2022/09/01 00:02         12  8000F5030       12  8000F5030   \n",
              "4     2022/09/01 00:06         10  8000F5200       10  8000F5200   \n",
              "...                ...        ...        ...      ...        ...   \n",
              "7995  2022/09/01 00:11       1686  800DB4A00     1686  800DB4A00   \n",
              "7996  2022/09/01 00:11      11904  800DB8320      908  812F2F8A0   \n",
              "7997  2022/09/01 00:04      21258  800DB92A0    21258  800DB92A0   \n",
              "7998  2022/09/01 00:06        701  800411880    21258  800DB92A0   \n",
              "7999  2022/09/01 00:01        701  800411880    21258  800DB92A0   \n",
              "\n",
              "      Amount Received Receiving Currency  Amount Paid Payment Currency  \\\n",
              "0             3697.34          US Dollar      3697.34        US Dollar   \n",
              "1                0.01          US Dollar         0.01        US Dollar   \n",
              "2            14675.57          US Dollar     14675.57        US Dollar   \n",
              "3             2806.97          US Dollar      2806.97        US Dollar   \n",
              "4            36682.97          US Dollar     36682.97        US Dollar   \n",
              "...               ...                ...          ...              ...   \n",
              "7995            17.64          US Dollar        17.64        US Dollar   \n",
              "7996             3.93          US Dollar         3.93        US Dollar   \n",
              "7997         95001.11          US Dollar     95001.11        US Dollar   \n",
              "7998          5274.06          US Dollar      5274.06        US Dollar   \n",
              "7999         23590.57          US Dollar     23590.57        US Dollar   \n",
              "\n",
              "     Payment Format  Is Laundering  \n",
              "0      Reinvestment              0  \n",
              "1            Cheque              0  \n",
              "2      Reinvestment              0  \n",
              "3      Reinvestment              0  \n",
              "4      Reinvestment              0  \n",
              "...             ...            ...  \n",
              "7995   Reinvestment              0  \n",
              "7996    Credit Card              0  \n",
              "7997   Reinvestment              0  \n",
              "7998         Cheque              0  \n",
              "7999    Credit Card              0  \n",
              "\n",
              "[8000 rows x 11 columns]"
            ],
            "text/html": [
              "\n",
              "  <div id=\"df-67d49d0d-f304-4640-a086-466bf1f2d325\" class=\"colab-df-container\">\n",
              "    <div>\n",
              "<style scoped>\n",
              "    .dataframe tbody tr th:only-of-type {\n",
              "        vertical-align: middle;\n",
              "    }\n",
              "\n",
              "    .dataframe tbody tr th {\n",
              "        vertical-align: top;\n",
              "    }\n",
              "\n",
              "    .dataframe thead th {\n",
              "        text-align: right;\n",
              "    }\n",
              "</style>\n",
              "<table border=\"1\" class=\"dataframe\">\n",
              "  <thead>\n",
              "    <tr style=\"text-align: right;\">\n",
              "      <th></th>\n",
              "      <th>Timestamp</th>\n",
              "      <th>From Bank</th>\n",
              "      <th>Account</th>\n",
              "      <th>To Bank</th>\n",
              "      <th>Account.1</th>\n",
              "      <th>Amount Received</th>\n",
              "      <th>Receiving Currency</th>\n",
              "      <th>Amount Paid</th>\n",
              "      <th>Payment Currency</th>\n",
              "      <th>Payment Format</th>\n",
              "      <th>Is Laundering</th>\n",
              "    </tr>\n",
              "  </thead>\n",
              "  <tbody>\n",
              "    <tr>\n",
              "      <th>0</th>\n",
              "      <td>2022/09/01 00:20</td>\n",
              "      <td>10</td>\n",
              "      <td>8000EBD30</td>\n",
              "      <td>10</td>\n",
              "      <td>8000EBD30</td>\n",
              "      <td>3697.34</td>\n",
              "      <td>US Dollar</td>\n",
              "      <td>3697.34</td>\n",
              "      <td>US Dollar</td>\n",
              "      <td>Reinvestment</td>\n",
              "      <td>0</td>\n",
              "    </tr>\n",
              "    <tr>\n",
              "      <th>1</th>\n",
              "      <td>2022/09/01 00:20</td>\n",
              "      <td>3208</td>\n",
              "      <td>8000F4580</td>\n",
              "      <td>1</td>\n",
              "      <td>8000F5340</td>\n",
              "      <td>0.01</td>\n",
              "      <td>US Dollar</td>\n",
              "      <td>0.01</td>\n",
              "      <td>US Dollar</td>\n",
              "      <td>Cheque</td>\n",
              "      <td>0</td>\n",
              "    </tr>\n",
              "    <tr>\n",
              "      <th>2</th>\n",
              "      <td>2022/09/01 00:00</td>\n",
              "      <td>3209</td>\n",
              "      <td>8000F4670</td>\n",
              "      <td>3209</td>\n",
              "      <td>8000F4670</td>\n",
              "      <td>14675.57</td>\n",
              "      <td>US Dollar</td>\n",
              "      <td>14675.57</td>\n",
              "      <td>US Dollar</td>\n",
              "      <td>Reinvestment</td>\n",
              "      <td>0</td>\n",
              "    </tr>\n",
              "    <tr>\n",
              "      <th>3</th>\n",
              "      <td>2022/09/01 00:02</td>\n",
              "      <td>12</td>\n",
              "      <td>8000F5030</td>\n",
              "      <td>12</td>\n",
              "      <td>8000F5030</td>\n",
              "      <td>2806.97</td>\n",
              "      <td>US Dollar</td>\n",
              "      <td>2806.97</td>\n",
              "      <td>US Dollar</td>\n",
              "      <td>Reinvestment</td>\n",
              "      <td>0</td>\n",
              "    </tr>\n",
              "    <tr>\n",
              "      <th>4</th>\n",
              "      <td>2022/09/01 00:06</td>\n",
              "      <td>10</td>\n",
              "      <td>8000F5200</td>\n",
              "      <td>10</td>\n",
              "      <td>8000F5200</td>\n",
              "      <td>36682.97</td>\n",
              "      <td>US Dollar</td>\n",
              "      <td>36682.97</td>\n",
              "      <td>US Dollar</td>\n",
              "      <td>Reinvestment</td>\n",
              "      <td>0</td>\n",
              "    </tr>\n",
              "    <tr>\n",
              "      <th>...</th>\n",
              "      <td>...</td>\n",
              "      <td>...</td>\n",
              "      <td>...</td>\n",
              "      <td>...</td>\n",
              "      <td>...</td>\n",
              "      <td>...</td>\n",
              "      <td>...</td>\n",
              "      <td>...</td>\n",
              "      <td>...</td>\n",
              "      <td>...</td>\n",
              "      <td>...</td>\n",
              "    </tr>\n",
              "    <tr>\n",
              "      <th>7995</th>\n",
              "      <td>2022/09/01 00:11</td>\n",
              "      <td>1686</td>\n",
              "      <td>800DB4A00</td>\n",
              "      <td>1686</td>\n",
              "      <td>800DB4A00</td>\n",
              "      <td>17.64</td>\n",
              "      <td>US Dollar</td>\n",
              "      <td>17.64</td>\n",
              "      <td>US Dollar</td>\n",
              "      <td>Reinvestment</td>\n",
              "      <td>0</td>\n",
              "    </tr>\n",
              "    <tr>\n",
              "      <th>7996</th>\n",
              "      <td>2022/09/01 00:11</td>\n",
              "      <td>11904</td>\n",
              "      <td>800DB8320</td>\n",
              "      <td>908</td>\n",
              "      <td>812F2F8A0</td>\n",
              "      <td>3.93</td>\n",
              "      <td>US Dollar</td>\n",
              "      <td>3.93</td>\n",
              "      <td>US Dollar</td>\n",
              "      <td>Credit Card</td>\n",
              "      <td>0</td>\n",
              "    </tr>\n",
              "    <tr>\n",
              "      <th>7997</th>\n",
              "      <td>2022/09/01 00:04</td>\n",
              "      <td>21258</td>\n",
              "      <td>800DB92A0</td>\n",
              "      <td>21258</td>\n",
              "      <td>800DB92A0</td>\n",
              "      <td>95001.11</td>\n",
              "      <td>US Dollar</td>\n",
              "      <td>95001.11</td>\n",
              "      <td>US Dollar</td>\n",
              "      <td>Reinvestment</td>\n",
              "      <td>0</td>\n",
              "    </tr>\n",
              "    <tr>\n",
              "      <th>7998</th>\n",
              "      <td>2022/09/01 00:06</td>\n",
              "      <td>701</td>\n",
              "      <td>800411880</td>\n",
              "      <td>21258</td>\n",
              "      <td>800DB92A0</td>\n",
              "      <td>5274.06</td>\n",
              "      <td>US Dollar</td>\n",
              "      <td>5274.06</td>\n",
              "      <td>US Dollar</td>\n",
              "      <td>Cheque</td>\n",
              "      <td>0</td>\n",
              "    </tr>\n",
              "    <tr>\n",
              "      <th>7999</th>\n",
              "      <td>2022/09/01 00:01</td>\n",
              "      <td>701</td>\n",
              "      <td>800411880</td>\n",
              "      <td>21258</td>\n",
              "      <td>800DB92A0</td>\n",
              "      <td>23590.57</td>\n",
              "      <td>US Dollar</td>\n",
              "      <td>23590.57</td>\n",
              "      <td>US Dollar</td>\n",
              "      <td>Credit Card</td>\n",
              "      <td>0</td>\n",
              "    </tr>\n",
              "  </tbody>\n",
              "</table>\n",
              "<p>8000 rows × 11 columns</p>\n",
              "</div>\n",
              "    <div class=\"colab-df-buttons\">\n",
              "\n",
              "  <div class=\"colab-df-container\">\n",
              "    <button class=\"colab-df-convert\" onclick=\"convertToInteractive('df-67d49d0d-f304-4640-a086-466bf1f2d325')\"\n",
              "            title=\"Convert this dataframe to an interactive table.\"\n",
              "            style=\"display:none;\">\n",
              "\n",
              "  <svg xmlns=\"http://www.w3.org/2000/svg\" height=\"24px\" viewBox=\"0 -960 960 960\">\n",
              "    <path d=\"M120-120v-720h720v720H120Zm60-500h600v-160H180v160Zm220 220h160v-160H400v160Zm0 220h160v-160H400v160ZM180-400h160v-160H180v160Zm440 0h160v-160H620v160ZM180-180h160v-160H180v160Zm440 0h160v-160H620v160Z\"/>\n",
              "  </svg>\n",
              "    </button>\n",
              "\n",
              "  <style>\n",
              "    .colab-df-container {\n",
              "      display:flex;\n",
              "      gap: 12px;\n",
              "    }\n",
              "\n",
              "    .colab-df-convert {\n",
              "      background-color: #E8F0FE;\n",
              "      border: none;\n",
              "      border-radius: 50%;\n",
              "      cursor: pointer;\n",
              "      display: none;\n",
              "      fill: #1967D2;\n",
              "      height: 32px;\n",
              "      padding: 0 0 0 0;\n",
              "      width: 32px;\n",
              "    }\n",
              "\n",
              "    .colab-df-convert:hover {\n",
              "      background-color: #E2EBFA;\n",
              "      box-shadow: 0px 1px 2px rgba(60, 64, 67, 0.3), 0px 1px 3px 1px rgba(60, 64, 67, 0.15);\n",
              "      fill: #174EA6;\n",
              "    }\n",
              "\n",
              "    .colab-df-buttons div {\n",
              "      margin-bottom: 4px;\n",
              "    }\n",
              "\n",
              "    [theme=dark] .colab-df-convert {\n",
              "      background-color: #3B4455;\n",
              "      fill: #D2E3FC;\n",
              "    }\n",
              "\n",
              "    [theme=dark] .colab-df-convert:hover {\n",
              "      background-color: #434B5C;\n",
              "      box-shadow: 0px 1px 3px 1px rgba(0, 0, 0, 0.15);\n",
              "      filter: drop-shadow(0px 1px 2px rgba(0, 0, 0, 0.3));\n",
              "      fill: #FFFFFF;\n",
              "    }\n",
              "  </style>\n",
              "\n",
              "    <script>\n",
              "      const buttonEl =\n",
              "        document.querySelector('#df-67d49d0d-f304-4640-a086-466bf1f2d325 button.colab-df-convert');\n",
              "      buttonEl.style.display =\n",
              "        google.colab.kernel.accessAllowed ? 'block' : 'none';\n",
              "\n",
              "      async function convertToInteractive(key) {\n",
              "        const element = document.querySelector('#df-67d49d0d-f304-4640-a086-466bf1f2d325');\n",
              "        const dataTable =\n",
              "          await google.colab.kernel.invokeFunction('convertToInteractive',\n",
              "                                                    [key], {});\n",
              "        if (!dataTable) return;\n",
              "\n",
              "        const docLinkHtml = 'Like what you see? Visit the ' +\n",
              "          '<a target=\"_blank\" href=https://colab.research.google.com/notebooks/data_table.ipynb>data table notebook</a>'\n",
              "          + ' to learn more about interactive tables.';\n",
              "        element.innerHTML = '';\n",
              "        dataTable['output_type'] = 'display_data';\n",
              "        await google.colab.output.renderOutput(dataTable, element);\n",
              "        const docLink = document.createElement('div');\n",
              "        docLink.innerHTML = docLinkHtml;\n",
              "        element.appendChild(docLink);\n",
              "      }\n",
              "    </script>\n",
              "  </div>\n",
              "\n",
              "\n",
              "<div id=\"df-0e3d7636-b2e0-4285-91e8-a10f99ce7034\">\n",
              "  <button class=\"colab-df-quickchart\" onclick=\"quickchart('df-0e3d7636-b2e0-4285-91e8-a10f99ce7034')\"\n",
              "            title=\"Suggest charts.\"\n",
              "            style=\"display:none;\">\n",
              "\n",
              "<svg xmlns=\"http://www.w3.org/2000/svg\" height=\"24px\"viewBox=\"0 0 24 24\"\n",
              "     width=\"24px\">\n",
              "    <g>\n",
              "        <path d=\"M19 3H5c-1.1 0-2 .9-2 2v14c0 1.1.9 2 2 2h14c1.1 0 2-.9 2-2V5c0-1.1-.9-2-2-2zM9 17H7v-7h2v7zm4 0h-2V7h2v10zm4 0h-2v-4h2v4z\"/>\n",
              "    </g>\n",
              "</svg>\n",
              "  </button>\n",
              "\n",
              "<style>\n",
              "  .colab-df-quickchart {\n",
              "    background-color: #E8F0FE;\n",
              "    border: none;\n",
              "    border-radius: 50%;\n",
              "    cursor: pointer;\n",
              "    display: none;\n",
              "    fill: #1967D2;\n",
              "    height: 32px;\n",
              "    padding: 0 0 0 0;\n",
              "    width: 32px;\n",
              "  }\n",
              "\n",
              "  .colab-df-quickchart:hover {\n",
              "    background-color: #E2EBFA;\n",
              "    box-shadow: 0px 1px 2px rgba(60, 64, 67, 0.3), 0px 1px 3px 1px rgba(60, 64, 67, 0.15);\n",
              "    fill: #174EA6;\n",
              "  }\n",
              "\n",
              "  [theme=dark] .colab-df-quickchart {\n",
              "    background-color: #3B4455;\n",
              "    fill: #D2E3FC;\n",
              "  }\n",
              "\n",
              "  [theme=dark] .colab-df-quickchart:hover {\n",
              "    background-color: #434B5C;\n",
              "    box-shadow: 0px 1px 3px 1px rgba(0, 0, 0, 0.15);\n",
              "    filter: drop-shadow(0px 1px 2px rgba(0, 0, 0, 0.3));\n",
              "    fill: #FFFFFF;\n",
              "  }\n",
              "</style>\n",
              "\n",
              "  <script>\n",
              "    async function quickchart(key) {\n",
              "      const charts = await google.colab.kernel.invokeFunction(\n",
              "          'suggestCharts', [key], {});\n",
              "    }\n",
              "    (() => {\n",
              "      let quickchartButtonEl =\n",
              "        document.querySelector('#df-0e3d7636-b2e0-4285-91e8-a10f99ce7034 button');\n",
              "      quickchartButtonEl.style.display =\n",
              "        google.colab.kernel.accessAllowed ? 'block' : 'none';\n",
              "    })();\n",
              "  </script>\n",
              "</div>\n",
              "    </div>\n",
              "  </div>\n"
            ]
          },
          "metadata": {},
          "execution_count": 15
        }
      ],
      "source": [
        "dataset.head(8000)"
      ]
    },
    {
      "cell_type": "code",
      "execution_count": null,
      "metadata": {
        "id": "XZD-KEctkdx7"
      },
      "outputs": [],
      "source": [
        "top=dataset.head(8000)"
      ]
    },
    {
      "cell_type": "markdown",
      "metadata": {
        "id": "HXrrl79AsDwc"
      },
      "source": [
        "Merging Two datasets"
      ]
    },
    {
      "cell_type": "code",
      "execution_count": null,
      "metadata": {
        "id": "HCaMcI67ocyu"
      },
      "outputs": [],
      "source": [
        "df=pd.concat([Suspicious, top])"
      ]
    },
    {
      "cell_type": "code",
      "execution_count": null,
      "metadata": {
        "colab": {
          "base_uri": "https://localhost:8080/"
        },
        "id": "8rFO8cpWpHfq",
        "outputId": "08ad282e-449e-4eb1-8880-d281dc769a64"
      },
      "outputs": [
        {
          "output_type": "execute_result",
          "data": {
            "text/plain": [
              "(13177, 11)"
            ]
          },
          "metadata": {},
          "execution_count": 18
        }
      ],
      "source": [
        "df.shape"
      ]
    },
    {
      "cell_type": "code",
      "execution_count": null,
      "metadata": {
        "colab": {
          "base_uri": "https://localhost:8080/",
          "height": 423
        },
        "id": "DONWeh3MYN8l",
        "outputId": "1cd56bf4-94bc-4da4-96b5-4c0b420533bc"
      },
      "outputs": [
        {
          "output_type": "execute_result",
          "data": {
            "text/plain": [
              "              Timestamp  From Bank    Account  To Bank  Account.1  \\\n",
              "4742   2022/09/01 00:21         70  100428660     1124  800825340   \n",
              "40621  2022/09/01 00:03         70  100428660    11474  805B716C0   \n",
              "69152  2022/09/01 00:01         70  100428660    15980  80B39E7B0   \n",
              "85763  2022/09/01 00:03         70  100428660   113798  80DC756E0   \n",
              "90684  2022/09/01 00:23         70  100428660    32375  80E480620   \n",
              "...                 ...        ...        ...      ...        ...   \n",
              "7995   2022/09/01 00:11       1686  800DB4A00     1686  800DB4A00   \n",
              "7996   2022/09/01 00:11      11904  800DB8320      908  812F2F8A0   \n",
              "7997   2022/09/01 00:04      21258  800DB92A0    21258  800DB92A0   \n",
              "7998   2022/09/01 00:06        701  800411880    21258  800DB92A0   \n",
              "7999   2022/09/01 00:01        701  800411880    21258  800DB92A0   \n",
              "\n",
              "       Amount Received Receiving Currency  Amount Paid Payment Currency  \\\n",
              "4742         389769.39          US Dollar    389769.39        US Dollar   \n",
              "40621         29024.33          US Dollar     29024.33        US Dollar   \n",
              "69152           792.92          US Dollar       792.92        US Dollar   \n",
              "85763      13171425.53          US Dollar  13171425.53        US Dollar   \n",
              "90684         14288.83          US Dollar     14288.83        US Dollar   \n",
              "...                ...                ...          ...              ...   \n",
              "7995             17.64          US Dollar        17.64        US Dollar   \n",
              "7996              3.93          US Dollar         3.93        US Dollar   \n",
              "7997          95001.11          US Dollar     95001.11        US Dollar   \n",
              "7998           5274.06          US Dollar      5274.06        US Dollar   \n",
              "7999          23590.57          US Dollar     23590.57        US Dollar   \n",
              "\n",
              "      Payment Format  Is Laundering  \n",
              "4742          Cheque              1  \n",
              "40621    Credit Card              1  \n",
              "69152    Credit Card              1  \n",
              "85763         Cheque              1  \n",
              "90684           Cash              1  \n",
              "...              ...            ...  \n",
              "7995    Reinvestment              0  \n",
              "7996     Credit Card              0  \n",
              "7997    Reinvestment              0  \n",
              "7998          Cheque              0  \n",
              "7999     Credit Card              0  \n",
              "\n",
              "[13177 rows x 11 columns]"
            ],
            "text/html": [
              "\n",
              "  <div id=\"df-5e93c48d-57ee-4a50-94e2-864cd4353b43\" class=\"colab-df-container\">\n",
              "    <div>\n",
              "<style scoped>\n",
              "    .dataframe tbody tr th:only-of-type {\n",
              "        vertical-align: middle;\n",
              "    }\n",
              "\n",
              "    .dataframe tbody tr th {\n",
              "        vertical-align: top;\n",
              "    }\n",
              "\n",
              "    .dataframe thead th {\n",
              "        text-align: right;\n",
              "    }\n",
              "</style>\n",
              "<table border=\"1\" class=\"dataframe\">\n",
              "  <thead>\n",
              "    <tr style=\"text-align: right;\">\n",
              "      <th></th>\n",
              "      <th>Timestamp</th>\n",
              "      <th>From Bank</th>\n",
              "      <th>Account</th>\n",
              "      <th>To Bank</th>\n",
              "      <th>Account.1</th>\n",
              "      <th>Amount Received</th>\n",
              "      <th>Receiving Currency</th>\n",
              "      <th>Amount Paid</th>\n",
              "      <th>Payment Currency</th>\n",
              "      <th>Payment Format</th>\n",
              "      <th>Is Laundering</th>\n",
              "    </tr>\n",
              "  </thead>\n",
              "  <tbody>\n",
              "    <tr>\n",
              "      <th>4742</th>\n",
              "      <td>2022/09/01 00:21</td>\n",
              "      <td>70</td>\n",
              "      <td>100428660</td>\n",
              "      <td>1124</td>\n",
              "      <td>800825340</td>\n",
              "      <td>389769.39</td>\n",
              "      <td>US Dollar</td>\n",
              "      <td>389769.39</td>\n",
              "      <td>US Dollar</td>\n",
              "      <td>Cheque</td>\n",
              "      <td>1</td>\n",
              "    </tr>\n",
              "    <tr>\n",
              "      <th>40621</th>\n",
              "      <td>2022/09/01 00:03</td>\n",
              "      <td>70</td>\n",
              "      <td>100428660</td>\n",
              "      <td>11474</td>\n",
              "      <td>805B716C0</td>\n",
              "      <td>29024.33</td>\n",
              "      <td>US Dollar</td>\n",
              "      <td>29024.33</td>\n",
              "      <td>US Dollar</td>\n",
              "      <td>Credit Card</td>\n",
              "      <td>1</td>\n",
              "    </tr>\n",
              "    <tr>\n",
              "      <th>69152</th>\n",
              "      <td>2022/09/01 00:01</td>\n",
              "      <td>70</td>\n",
              "      <td>100428660</td>\n",
              "      <td>15980</td>\n",
              "      <td>80B39E7B0</td>\n",
              "      <td>792.92</td>\n",
              "      <td>US Dollar</td>\n",
              "      <td>792.92</td>\n",
              "      <td>US Dollar</td>\n",
              "      <td>Credit Card</td>\n",
              "      <td>1</td>\n",
              "    </tr>\n",
              "    <tr>\n",
              "      <th>85763</th>\n",
              "      <td>2022/09/01 00:03</td>\n",
              "      <td>70</td>\n",
              "      <td>100428660</td>\n",
              "      <td>113798</td>\n",
              "      <td>80DC756E0</td>\n",
              "      <td>13171425.53</td>\n",
              "      <td>US Dollar</td>\n",
              "      <td>13171425.53</td>\n",
              "      <td>US Dollar</td>\n",
              "      <td>Cheque</td>\n",
              "      <td>1</td>\n",
              "    </tr>\n",
              "    <tr>\n",
              "      <th>90684</th>\n",
              "      <td>2022/09/01 00:23</td>\n",
              "      <td>70</td>\n",
              "      <td>100428660</td>\n",
              "      <td>32375</td>\n",
              "      <td>80E480620</td>\n",
              "      <td>14288.83</td>\n",
              "      <td>US Dollar</td>\n",
              "      <td>14288.83</td>\n",
              "      <td>US Dollar</td>\n",
              "      <td>Cash</td>\n",
              "      <td>1</td>\n",
              "    </tr>\n",
              "    <tr>\n",
              "      <th>...</th>\n",
              "      <td>...</td>\n",
              "      <td>...</td>\n",
              "      <td>...</td>\n",
              "      <td>...</td>\n",
              "      <td>...</td>\n",
              "      <td>...</td>\n",
              "      <td>...</td>\n",
              "      <td>...</td>\n",
              "      <td>...</td>\n",
              "      <td>...</td>\n",
              "      <td>...</td>\n",
              "    </tr>\n",
              "    <tr>\n",
              "      <th>7995</th>\n",
              "      <td>2022/09/01 00:11</td>\n",
              "      <td>1686</td>\n",
              "      <td>800DB4A00</td>\n",
              "      <td>1686</td>\n",
              "      <td>800DB4A00</td>\n",
              "      <td>17.64</td>\n",
              "      <td>US Dollar</td>\n",
              "      <td>17.64</td>\n",
              "      <td>US Dollar</td>\n",
              "      <td>Reinvestment</td>\n",
              "      <td>0</td>\n",
              "    </tr>\n",
              "    <tr>\n",
              "      <th>7996</th>\n",
              "      <td>2022/09/01 00:11</td>\n",
              "      <td>11904</td>\n",
              "      <td>800DB8320</td>\n",
              "      <td>908</td>\n",
              "      <td>812F2F8A0</td>\n",
              "      <td>3.93</td>\n",
              "      <td>US Dollar</td>\n",
              "      <td>3.93</td>\n",
              "      <td>US Dollar</td>\n",
              "      <td>Credit Card</td>\n",
              "      <td>0</td>\n",
              "    </tr>\n",
              "    <tr>\n",
              "      <th>7997</th>\n",
              "      <td>2022/09/01 00:04</td>\n",
              "      <td>21258</td>\n",
              "      <td>800DB92A0</td>\n",
              "      <td>21258</td>\n",
              "      <td>800DB92A0</td>\n",
              "      <td>95001.11</td>\n",
              "      <td>US Dollar</td>\n",
              "      <td>95001.11</td>\n",
              "      <td>US Dollar</td>\n",
              "      <td>Reinvestment</td>\n",
              "      <td>0</td>\n",
              "    </tr>\n",
              "    <tr>\n",
              "      <th>7998</th>\n",
              "      <td>2022/09/01 00:06</td>\n",
              "      <td>701</td>\n",
              "      <td>800411880</td>\n",
              "      <td>21258</td>\n",
              "      <td>800DB92A0</td>\n",
              "      <td>5274.06</td>\n",
              "      <td>US Dollar</td>\n",
              "      <td>5274.06</td>\n",
              "      <td>US Dollar</td>\n",
              "      <td>Cheque</td>\n",
              "      <td>0</td>\n",
              "    </tr>\n",
              "    <tr>\n",
              "      <th>7999</th>\n",
              "      <td>2022/09/01 00:01</td>\n",
              "      <td>701</td>\n",
              "      <td>800411880</td>\n",
              "      <td>21258</td>\n",
              "      <td>800DB92A0</td>\n",
              "      <td>23590.57</td>\n",
              "      <td>US Dollar</td>\n",
              "      <td>23590.57</td>\n",
              "      <td>US Dollar</td>\n",
              "      <td>Credit Card</td>\n",
              "      <td>0</td>\n",
              "    </tr>\n",
              "  </tbody>\n",
              "</table>\n",
              "<p>13177 rows × 11 columns</p>\n",
              "</div>\n",
              "    <div class=\"colab-df-buttons\">\n",
              "\n",
              "  <div class=\"colab-df-container\">\n",
              "    <button class=\"colab-df-convert\" onclick=\"convertToInteractive('df-5e93c48d-57ee-4a50-94e2-864cd4353b43')\"\n",
              "            title=\"Convert this dataframe to an interactive table.\"\n",
              "            style=\"display:none;\">\n",
              "\n",
              "  <svg xmlns=\"http://www.w3.org/2000/svg\" height=\"24px\" viewBox=\"0 -960 960 960\">\n",
              "    <path d=\"M120-120v-720h720v720H120Zm60-500h600v-160H180v160Zm220 220h160v-160H400v160Zm0 220h160v-160H400v160ZM180-400h160v-160H180v160Zm440 0h160v-160H620v160ZM180-180h160v-160H180v160Zm440 0h160v-160H620v160Z\"/>\n",
              "  </svg>\n",
              "    </button>\n",
              "\n",
              "  <style>\n",
              "    .colab-df-container {\n",
              "      display:flex;\n",
              "      gap: 12px;\n",
              "    }\n",
              "\n",
              "    .colab-df-convert {\n",
              "      background-color: #E8F0FE;\n",
              "      border: none;\n",
              "      border-radius: 50%;\n",
              "      cursor: pointer;\n",
              "      display: none;\n",
              "      fill: #1967D2;\n",
              "      height: 32px;\n",
              "      padding: 0 0 0 0;\n",
              "      width: 32px;\n",
              "    }\n",
              "\n",
              "    .colab-df-convert:hover {\n",
              "      background-color: #E2EBFA;\n",
              "      box-shadow: 0px 1px 2px rgba(60, 64, 67, 0.3), 0px 1px 3px 1px rgba(60, 64, 67, 0.15);\n",
              "      fill: #174EA6;\n",
              "    }\n",
              "\n",
              "    .colab-df-buttons div {\n",
              "      margin-bottom: 4px;\n",
              "    }\n",
              "\n",
              "    [theme=dark] .colab-df-convert {\n",
              "      background-color: #3B4455;\n",
              "      fill: #D2E3FC;\n",
              "    }\n",
              "\n",
              "    [theme=dark] .colab-df-convert:hover {\n",
              "      background-color: #434B5C;\n",
              "      box-shadow: 0px 1px 3px 1px rgba(0, 0, 0, 0.15);\n",
              "      filter: drop-shadow(0px 1px 2px rgba(0, 0, 0, 0.3));\n",
              "      fill: #FFFFFF;\n",
              "    }\n",
              "  </style>\n",
              "\n",
              "    <script>\n",
              "      const buttonEl =\n",
              "        document.querySelector('#df-5e93c48d-57ee-4a50-94e2-864cd4353b43 button.colab-df-convert');\n",
              "      buttonEl.style.display =\n",
              "        google.colab.kernel.accessAllowed ? 'block' : 'none';\n",
              "\n",
              "      async function convertToInteractive(key) {\n",
              "        const element = document.querySelector('#df-5e93c48d-57ee-4a50-94e2-864cd4353b43');\n",
              "        const dataTable =\n",
              "          await google.colab.kernel.invokeFunction('convertToInteractive',\n",
              "                                                    [key], {});\n",
              "        if (!dataTable) return;\n",
              "\n",
              "        const docLinkHtml = 'Like what you see? Visit the ' +\n",
              "          '<a target=\"_blank\" href=https://colab.research.google.com/notebooks/data_table.ipynb>data table notebook</a>'\n",
              "          + ' to learn more about interactive tables.';\n",
              "        element.innerHTML = '';\n",
              "        dataTable['output_type'] = 'display_data';\n",
              "        await google.colab.output.renderOutput(dataTable, element);\n",
              "        const docLink = document.createElement('div');\n",
              "        docLink.innerHTML = docLinkHtml;\n",
              "        element.appendChild(docLink);\n",
              "      }\n",
              "    </script>\n",
              "  </div>\n",
              "\n",
              "\n",
              "<div id=\"df-655c28d3-e14d-4e09-bcfd-f99a5b52faa2\">\n",
              "  <button class=\"colab-df-quickchart\" onclick=\"quickchart('df-655c28d3-e14d-4e09-bcfd-f99a5b52faa2')\"\n",
              "            title=\"Suggest charts.\"\n",
              "            style=\"display:none;\">\n",
              "\n",
              "<svg xmlns=\"http://www.w3.org/2000/svg\" height=\"24px\"viewBox=\"0 0 24 24\"\n",
              "     width=\"24px\">\n",
              "    <g>\n",
              "        <path d=\"M19 3H5c-1.1 0-2 .9-2 2v14c0 1.1.9 2 2 2h14c1.1 0 2-.9 2-2V5c0-1.1-.9-2-2-2zM9 17H7v-7h2v7zm4 0h-2V7h2v10zm4 0h-2v-4h2v4z\"/>\n",
              "    </g>\n",
              "</svg>\n",
              "  </button>\n",
              "\n",
              "<style>\n",
              "  .colab-df-quickchart {\n",
              "    background-color: #E8F0FE;\n",
              "    border: none;\n",
              "    border-radius: 50%;\n",
              "    cursor: pointer;\n",
              "    display: none;\n",
              "    fill: #1967D2;\n",
              "    height: 32px;\n",
              "    padding: 0 0 0 0;\n",
              "    width: 32px;\n",
              "  }\n",
              "\n",
              "  .colab-df-quickchart:hover {\n",
              "    background-color: #E2EBFA;\n",
              "    box-shadow: 0px 1px 2px rgba(60, 64, 67, 0.3), 0px 1px 3px 1px rgba(60, 64, 67, 0.15);\n",
              "    fill: #174EA6;\n",
              "  }\n",
              "\n",
              "  [theme=dark] .colab-df-quickchart {\n",
              "    background-color: #3B4455;\n",
              "    fill: #D2E3FC;\n",
              "  }\n",
              "\n",
              "  [theme=dark] .colab-df-quickchart:hover {\n",
              "    background-color: #434B5C;\n",
              "    box-shadow: 0px 1px 3px 1px rgba(0, 0, 0, 0.15);\n",
              "    filter: drop-shadow(0px 1px 2px rgba(0, 0, 0, 0.3));\n",
              "    fill: #FFFFFF;\n",
              "  }\n",
              "</style>\n",
              "\n",
              "  <script>\n",
              "    async function quickchart(key) {\n",
              "      const charts = await google.colab.kernel.invokeFunction(\n",
              "          'suggestCharts', [key], {});\n",
              "    }\n",
              "    (() => {\n",
              "      let quickchartButtonEl =\n",
              "        document.querySelector('#df-655c28d3-e14d-4e09-bcfd-f99a5b52faa2 button');\n",
              "      quickchartButtonEl.style.display =\n",
              "        google.colab.kernel.accessAllowed ? 'block' : 'none';\n",
              "    })();\n",
              "  </script>\n",
              "</div>\n",
              "    </div>\n",
              "  </div>\n"
            ]
          },
          "metadata": {},
          "execution_count": 19
        }
      ],
      "source": [
        "df"
      ]
    },
    {
      "cell_type": "markdown",
      "metadata": {
        "id": "YMZX-EBD4LKk"
      },
      "source": [
        "Checking the occurances of suspicious and non-suspicious transactions for the new dataset"
      ]
    },
    {
      "cell_type": "code",
      "execution_count": null,
      "metadata": {
        "id": "kSZm4ItM3-_I"
      },
      "outputs": [],
      "source": [
        "y = df['Is Laundering'].value_counts()"
      ]
    },
    {
      "cell_type": "code",
      "execution_count": null,
      "metadata": {
        "colab": {
          "base_uri": "https://localhost:8080/"
        },
        "id": "m_uuS7504GZ2",
        "outputId": "bfde7f40-fe40-45b4-df42-43125c8742cf"
      },
      "outputs": [
        {
          "output_type": "execute_result",
          "data": {
            "text/plain": [
              "0    7999\n",
              "1    5178\n",
              "Name: Is Laundering, dtype: int64"
            ]
          },
          "metadata": {},
          "execution_count": 21
        }
      ],
      "source": [
        "y"
      ]
    },
    {
      "cell_type": "code",
      "execution_count": null,
      "metadata": {
        "colab": {
          "base_uri": "https://localhost:8080/"
        },
        "id": "ZENB3qptI8aZ",
        "outputId": "9a8e1ca7-5fb1-49c7-94bf-5f848a6d019b"
      },
      "outputs": [
        {
          "output_type": "execute_result",
          "data": {
            "text/plain": [
              "0    0.607043\n",
              "1    0.392957\n",
              "Name: Is Laundering, dtype: float64"
            ]
          },
          "metadata": {},
          "execution_count": 22
        }
      ],
      "source": [
        "y/len(df)"
      ]
    },
    {
      "cell_type": "code",
      "execution_count": null,
      "metadata": {
        "colab": {
          "base_uri": "https://localhost:8080/"
        },
        "id": "uorMoml-4puT",
        "outputId": "cd16dbd7-7b8e-43dc-829e-74ea2a184e56"
      },
      "outputs": [
        {
          "output_type": "execute_result",
          "data": {
            "text/plain": [
              "0.6473309163645455"
            ]
          },
          "metadata": {},
          "execution_count": 23
        }
      ],
      "source": [
        "y[1]/y[0]"
      ]
    },
    {
      "cell_type": "markdown",
      "metadata": {
        "id": "N0xxBNG0JRh-"
      },
      "source": []
    },
    {
      "cell_type": "markdown",
      "metadata": {
        "id": "vhXIGb99JHzS"
      },
      "source": [
        "**Class Visualization**\n"
      ]
    },
    {
      "cell_type": "code",
      "execution_count": null,
      "metadata": {
        "colab": {
          "base_uri": "https://localhost:8080/",
          "height": 452
        },
        "id": "V57MMkNYJVfF",
        "outputId": "c93b103e-0c54-4860-f274-17ec7a43f9e5"
      },
      "outputs": [
        {
          "output_type": "execute_result",
          "data": {
            "text/plain": [
              "Text(0.5, 1.0, 'Class Distributions \\n (0:Non_Suspicious || 1: Suspicious)')"
            ]
          },
          "metadata": {},
          "execution_count": 24
        },
        {
          "output_type": "display_data",
          "data": {
            "text/plain": [
              "<Figure size 400x400 with 1 Axes>"
            ],
            "image/png": "[encoded data removed]"
          },
          "metadata": {}
        }
      ],
      "source": [
        "cls = [\"#008F8D\", \"#F9BF51\"]\n",
        "sns.set_palette(sns.color_palette(cls))\n",
        "\n",
        "fig,ax=plt.subplots(figsize=(4,4))\n",
        "\n",
        "sns.countplot( data=df,x='Is Laundering')\n",
        "plt.title('Class Distributions \\n (0:Non_Suspicious || 1: Suspicious)', fontsize=12)"
      ]
    },
    {
      "cell_type": "code",
      "execution_count": null,
      "metadata": {
        "colab": {
          "base_uri": "https://localhost:8080/",
          "height": 300
        },
        "id": "_ArbNMAAHFPU",
        "outputId": "3e1fa57f-133e-4393-febe-7aff389d9106"
      },
      "outputs": [
        {
          "output_type": "execute_result",
          "data": {
            "text/plain": [
              "           From Bank        To Bank  Amount Received   Amount Paid  \\\n",
              "count   13177.000000   13177.000000     1.317700e+04  1.317700e+04   \n",
              "mean    19885.326023   23719.104197     1.497488e+07  1.497488e+07   \n",
              "std     50500.549548   53804.241041     9.579463e+08  9.579463e+08   \n",
              "min         1.000000       1.000000     3.227000e-03  3.227000e-03   \n",
              "25%        70.000000     513.000000     3.079400e+02  3.079400e+02   \n",
              "50%      1467.000000    1665.000000     5.351830e+03  5.351830e+03   \n",
              "75%     11657.000000   17610.000000     2.418919e+04  2.418919e+04   \n",
              "max    254958.000000  256229.000000     8.485314e+10  8.485314e+10   \n",
              "\n",
              "       Is Laundering  \n",
              "count   13177.000000  \n",
              "mean        0.392957  \n",
              "std         0.488426  \n",
              "min         0.000000  \n",
              "25%         0.000000  \n",
              "50%         0.000000  \n",
              "75%         1.000000  \n",
              "max         1.000000  "
            ],
            "text/html": [
              "\n",
              "  <div id=\"df-3bcad215-dd87-4f58-bee2-fca3d976c50e\" class=\"colab-df-container\">\n",
              "    <div>\n",
              "<style scoped>\n",
              "    .dataframe tbody tr th:only-of-type {\n",
              "        vertical-align: middle;\n",
              "    }\n",
              "\n",
              "    .dataframe tbody tr th {\n",
              "        vertical-align: top;\n",
              "    }\n",
              "\n",
              "    .dataframe thead th {\n",
              "        text-align: right;\n",
              "    }\n",
              "</style>\n",
              "<table border=\"1\" class=\"dataframe\">\n",
              "  <thead>\n",
              "    <tr style=\"text-align: right;\">\n",
              "      <th></th>\n",
              "      <th>From Bank</th>\n",
              "      <th>To Bank</th>\n",
              "      <th>Amount Received</th>\n",
              "      <th>Amount Paid</th>\n",
              "      <th>Is Laundering</th>\n",
              "    </tr>\n",
              "  </thead>\n",
              "  <tbody>\n",
              "    <tr>\n",
              "      <th>count</th>\n",
              "      <td>13177.000000</td>\n",
              "      <td>13177.000000</td>\n",
              "      <td>1.317700e+04</td>\n",
              "      <td>1.317700e+04</td>\n",
              "      <td>13177.000000</td>\n",
              "    </tr>\n",
              "    <tr>\n",
              "      <th>mean</th>\n",
              "      <td>19885.326023</td>\n",
              "      <td>23719.104197</td>\n",
              "      <td>1.497488e+07</td>\n",
              "      <td>1.497488e+07</td>\n",
              "      <td>0.392957</td>\n",
              "    </tr>\n",
              "    <tr>\n",
              "      <th>std</th>\n",
              "      <td>50500.549548</td>\n",
              "      <td>53804.241041</td>\n",
              "      <td>9.579463e+08</td>\n",
              "      <td>9.579463e+08</td>\n",
              "      <td>0.488426</td>\n",
              "    </tr>\n",
              "    <tr>\n",
              "      <th>min</th>\n",
              "      <td>1.000000</td>\n",
              "      <td>1.000000</td>\n",
              "      <td>3.227000e-03</td>\n",
              "      <td>3.227000e-03</td>\n",
              "      <td>0.000000</td>\n",
              "    </tr>\n",
              "    <tr>\n",
              "      <th>25%</th>\n",
              "      <td>70.000000</td>\n",
              "      <td>513.000000</td>\n",
              "      <td>3.079400e+02</td>\n",
              "      <td>3.079400e+02</td>\n",
              "      <td>0.000000</td>\n",
              "    </tr>\n",
              "    <tr>\n",
              "      <th>50%</th>\n",
              "      <td>1467.000000</td>\n",
              "      <td>1665.000000</td>\n",
              "      <td>5.351830e+03</td>\n",
              "      <td>5.351830e+03</td>\n",
              "      <td>0.000000</td>\n",
              "    </tr>\n",
              "    <tr>\n",
              "      <th>75%</th>\n",
              "      <td>11657.000000</td>\n",
              "      <td>17610.000000</td>\n",
              "      <td>2.418919e+04</td>\n",
              "      <td>2.418919e+04</td>\n",
              "      <td>1.000000</td>\n",
              "    </tr>\n",
              "    <tr>\n",
              "      <th>max</th>\n",
              "      <td>254958.000000</td>\n",
              "      <td>256229.000000</td>\n",
              "      <td>8.485314e+10</td>\n",
              "      <td>8.485314e+10</td>\n",
              "      <td>1.000000</td>\n",
              "    </tr>\n",
              "  </tbody>\n",
              "</table>\n",
              "</div>\n",
              "    <div class=\"colab-df-buttons\">\n",
              "\n",
              "  <div class=\"colab-df-container\">\n",
              "    <button class=\"colab-df-convert\" onclick=\"convertToInteractive('df-3bcad215-dd87-4f58-bee2-fca3d976c50e')\"\n",
              "            title=\"Convert this dataframe to an interactive table.\"\n",
              "            style=\"display:none;\">\n",
              "\n",
              "  <svg xmlns=\"http://www.w3.org/2000/svg\" height=\"24px\" viewBox=\"0 -960 960 960\">\n",
              "    <path d=\"M120-120v-720h720v720H120Zm60-500h600v-160H180v160Zm220 220h160v-160H400v160Zm0 220h160v-160H400v160ZM180-400h160v-160H180v160Zm440 0h160v-160H620v160ZM180-180h160v-160H180v160Zm440 0h160v-160H620v160Z\"/>\n",
              "  </svg>\n",
              "    </button>\n",
              "\n",
              "  <style>\n",
              "    .colab-df-container {\n",
              "      display:flex;\n",
              "      gap: 12px;\n",
              "    }\n",
              "\n",
              "    .colab-df-convert {\n",
              "      background-color: #E8F0FE;\n",
              "      border: none;\n",
              "      border-radius: 50%;\n",
              "      cursor: pointer;\n",
              "      display: none;\n",
              "      fill: #1967D2;\n",
              "      height: 32px;\n",
              "      padding: 0 0 0 0;\n",
              "      width: 32px;\n",
              "    }\n",
              "\n",
              "    .colab-df-convert:hover {\n",
              "      background-color: #E2EBFA;\n",
              "      box-shadow: 0px 1px 2px rgba(60, 64, 67, 0.3), 0px 1px 3px 1px rgba(60, 64, 67, 0.15);\n",
              "      fill: #174EA6;\n",
              "    }\n",
              "\n",
              "    .colab-df-buttons div {\n",
              "      margin-bottom: 4px;\n",
              "    }\n",
              "\n",
              "    [theme=dark] .colab-df-convert {\n",
              "      background-color: #3B4455;\n",
              "      fill: #D2E3FC;\n",
              "    }\n",
              "\n",
              "    [theme=dark] .colab-df-convert:hover {\n",
              "      background-color: #434B5C;\n",
              "      box-shadow: 0px 1px 3px 1px rgba(0, 0, 0, 0.15);\n",
              "      filter: drop-shadow(0px 1px 2px rgba(0, 0, 0, 0.3));\n",
              "      fill: #FFFFFF;\n",
              "    }\n",
              "  </style>\n",
              "\n",
              "    <script>\n",
              "      const buttonEl =\n",
              "        document.querySelector('#df-3bcad215-dd87-4f58-bee2-fca3d976c50e button.colab-df-convert');\n",
              "      buttonEl.style.display =\n",
              "        google.colab.kernel.accessAllowed ? 'block' : 'none';\n",
              "\n",
              "      async function convertToInteractive(key) {\n",
              "        const element = document.querySelector('#df-3bcad215-dd87-4f58-bee2-fca3d976c50e');\n",
              "        const dataTable =\n",
              "          await google.colab.kernel.invokeFunction('convertToInteractive',\n",
              "                                                    [key], {});\n",
              "        if (!dataTable) return;\n",
              "\n",
              "        const docLinkHtml = 'Like what you see? Visit the ' +\n",
              "          '<a target=\"_blank\" href=https://colab.research.google.com/notebooks/data_table.ipynb>data table notebook</a>'\n",
              "          + ' to learn more about interactive tables.';\n",
              "        element.innerHTML = '';\n",
              "        dataTable['output_type'] = 'display_data';\n",
              "        await google.colab.output.renderOutput(dataTable, element);\n",
              "        const docLink = document.createElement('div');\n",
              "        docLink.innerHTML = docLinkHtml;\n",
              "        element.appendChild(docLink);\n",
              "      }\n",
              "    </script>\n",
              "  </div>\n",
              "\n",
              "\n",
              "<div id=\"df-a1c65b1d-fdf9-448a-8ad8-ef1d675d0ca2\">\n",
              "  <button class=\"colab-df-quickchart\" onclick=\"quickchart('df-a1c65b1d-fdf9-448a-8ad8-ef1d675d0ca2')\"\n",
              "            title=\"Suggest charts.\"\n",
              "            style=\"display:none;\">\n",
              "\n",
              "<svg xmlns=\"http://www.w3.org/2000/svg\" height=\"24px\"viewBox=\"0 0 24 24\"\n",
              "     width=\"24px\">\n",
              "    <g>\n",
              "        <path d=\"M19 3H5c-1.1 0-2 .9-2 2v14c0 1.1.9 2 2 2h14c1.1 0 2-.9 2-2V5c0-1.1-.9-2-2-2zM9 17H7v-7h2v7zm4 0h-2V7h2v10zm4 0h-2v-4h2v4z\"/>\n",
              "    </g>\n",
              "</svg>\n",
              "  </button>\n",
              "\n",
              "<style>\n",
              "  .colab-df-quickchart {\n",
              "    background-color: #E8F0FE;\n",
              "    border: none;\n",
              "    border-radius: 50%;\n",
              "    cursor: pointer;\n",
              "    display: none;\n",
              "    fill: #1967D2;\n",
              "    height: 32px;\n",
              "    padding: 0 0 0 0;\n",
              "    width: 32px;\n",
              "  }\n",
              "\n",
              "  .colab-df-quickchart:hover {\n",
              "    background-color: #E2EBFA;\n",
              "    box-shadow: 0px 1px 2px rgba(60, 64, 67, 0.3), 0px 1px 3px 1px rgba(60, 64, 67, 0.15);\n",
              "    fill: #174EA6;\n",
              "  }\n",
              "\n",
              "  [theme=dark] .colab-df-quickchart {\n",
              "    background-color: #3B4455;\n",
              "    fill: #D2E3FC;\n",
              "  }\n",
              "\n",
              "  [theme=dark] .colab-df-quickchart:hover {\n",
              "    background-color: #434B5C;\n",
              "    box-shadow: 0px 1px 3px 1px rgba(0, 0, 0, 0.15);\n",
              "    filter: drop-shadow(0px 1px 2px rgba(0, 0, 0, 0.3));\n",
              "    fill: #FFFFFF;\n",
              "  }\n",
              "</style>\n",
              "\n",
              "  <script>\n",
              "    async function quickchart(key) {\n",
              "      const charts = await google.colab.kernel.invokeFunction(\n",
              "          'suggestCharts', [key], {});\n",
              "    }\n",
              "    (() => {\n",
              "      let quickchartButtonEl =\n",
              "        document.querySelector('#df-a1c65b1d-fdf9-448a-8ad8-ef1d675d0ca2 button');\n",
              "      quickchartButtonEl.style.display =\n",
              "        google.colab.kernel.accessAllowed ? 'block' : 'none';\n",
              "    })();\n",
              "  </script>\n",
              "</div>\n",
              "    </div>\n",
              "  </div>\n"
            ]
          },
          "metadata": {},
          "execution_count": 25
        }
      ],
      "source": [
        "df.describe()"
      ]
    },
    {
      "cell_type": "code",
      "execution_count": null,
      "metadata": {
        "colab": {
          "base_uri": "https://localhost:8080/",
          "height": 206
        },
        "id": "PnyiKFcGGSxC",
        "outputId": "b02b00ce-c42f-4685-d94b-4c6001275085"
      },
      "outputs": [
        {
          "output_type": "execute_result",
          "data": {
            "text/plain": [
              "                   count          mean           std       min     25%  \\\n",
              "From Bank        13177.0  1.988533e+04  5.050055e+04  1.000000   70.00   \n",
              "To Bank          13177.0  2.371910e+04  5.380424e+04  1.000000  513.00   \n",
              "Amount Received  13177.0  1.497488e+07  9.579463e+08  0.003227  307.94   \n",
              "Amount Paid      13177.0  1.497488e+07  9.579463e+08  0.003227  307.94   \n",
              "Is Laundering    13177.0  3.929574e-01  4.884260e-01  0.000000    0.00   \n",
              "\n",
              "                     50%       75%           max  \n",
              "From Bank        1467.00  11657.00  2.549580e+05  \n",
              "To Bank          1665.00  17610.00  2.562290e+05  \n",
              "Amount Received  5351.83  24189.19  8.485314e+10  \n",
              "Amount Paid      5351.83  24189.19  8.485314e+10  \n",
              "Is Laundering       0.00      1.00  1.000000e+00  "
            ],
            "text/html": [
              "\n",
              "  <div id=\"df-0ee82fd2-8c65-4ca4-9a9c-8fdb47cdfdd1\" class=\"colab-df-container\">\n",
              "    <div>\n",
              "<style scoped>\n",
              "    .dataframe tbody tr th:only-of-type {\n",
              "        vertical-align: middle;\n",
              "    }\n",
              "\n",
              "    .dataframe tbody tr th {\n",
              "        vertical-align: top;\n",
              "    }\n",
              "\n",
              "    .dataframe thead th {\n",
              "        text-align: right;\n",
              "    }\n",
              "</style>\n",
              "<table border=\"1\" class=\"dataframe\">\n",
              "  <thead>\n",
              "    <tr style=\"text-align: right;\">\n",
              "      <th></th>\n",
              "      <th>count</th>\n",
              "      <th>mean</th>\n",
              "      <th>std</th>\n",
              "      <th>min</th>\n",
              "      <th>25%</th>\n",
              "      <th>50%</th>\n",
              "      <th>75%</th>\n",
              "      <th>max</th>\n",
              "    </tr>\n",
              "  </thead>\n",
              "  <tbody>\n",
              "    <tr>\n",
              "      <th>From Bank</th>\n",
              "      <td>13177.0</td>\n",
              "      <td>1.988533e+04</td>\n",
              "      <td>5.050055e+04</td>\n",
              "      <td>1.000000</td>\n",
              "      <td>70.00</td>\n",
              "      <td>1467.00</td>\n",
              "      <td>11657.00</td>\n",
              "      <td>2.549580e+05</td>\n",
              "    </tr>\n",
              "    <tr>\n",
              "      <th>To Bank</th>\n",
              "      <td>13177.0</td>\n",
              "      <td>2.371910e+04</td>\n",
              "      <td>5.380424e+04</td>\n",
              "      <td>1.000000</td>\n",
              "      <td>513.00</td>\n",
              "      <td>1665.00</td>\n",
              "      <td>17610.00</td>\n",
              "      <td>2.562290e+05</td>\n",
              "    </tr>\n",
              "    <tr>\n",
              "      <th>Amount Received</th>\n",
              "      <td>13177.0</td>\n",
              "      <td>1.497488e+07</td>\n",
              "      <td>9.579463e+08</td>\n",
              "      <td>0.003227</td>\n",
              "      <td>307.94</td>\n",
              "      <td>5351.83</td>\n",
              "      <td>24189.19</td>\n",
              "      <td>8.485314e+10</td>\n",
              "    </tr>\n",
              "    <tr>\n",
              "      <th>Amount Paid</th>\n",
              "      <td>13177.0</td>\n",
              "      <td>1.497488e+07</td>\n",
              "      <td>9.579463e+08</td>\n",
              "      <td>0.003227</td>\n",
              "      <td>307.94</td>\n",
              "      <td>5351.83</td>\n",
              "      <td>24189.19</td>\n",
              "      <td>8.485314e+10</td>\n",
              "    </tr>\n",
              "    <tr>\n",
              "      <th>Is Laundering</th>\n",
              "      <td>13177.0</td>\n",
              "      <td>3.929574e-01</td>\n",
              "      <td>4.884260e-01</td>\n",
              "      <td>0.000000</td>\n",
              "      <td>0.00</td>\n",
              "      <td>0.00</td>\n",
              "      <td>1.00</td>\n",
              "      <td>1.000000e+00</td>\n",
              "    </tr>\n",
              "  </tbody>\n",
              "</table>\n",
              "</div>\n",
              "    <div class=\"colab-df-buttons\">\n",
              "\n",
              "  <div class=\"colab-df-container\">\n",
              "    <button class=\"colab-df-convert\" onclick=\"convertToInteractive('df-0ee82fd2-8c65-4ca4-9a9c-8fdb47cdfdd1')\"\n",
              "            title=\"Convert this dataframe to an interactive table.\"\n",
              "            style=\"display:none;\">\n",
              "\n",
              "  <svg xmlns=\"http://www.w3.org/2000/svg\" height=\"24px\" viewBox=\"0 -960 960 960\">\n",
              "    <path d=\"M120-120v-720h720v720H120Zm60-500h600v-160H180v160Zm220 220h160v-160H400v160Zm0 220h160v-160H400v160ZM180-400h160v-160H180v160Zm440 0h160v-160H620v160ZM180-180h160v-160H180v160Zm440 0h160v-160H620v160Z\"/>\n",
              "  </svg>\n",
              "    </button>\n",
              "\n",
              "  <style>\n",
              "    .colab-df-container {\n",
              "      display:flex;\n",
              "      gap: 12px;\n",
              "    }\n",
              "\n",
              "    .colab-df-convert {\n",
              "      background-color: #E8F0FE;\n",
              "      border: none;\n",
              "      border-radius: 50%;\n",
              "      cursor: pointer;\n",
              "      display: none;\n",
              "      fill: #1967D2;\n",
              "      height: 32px;\n",
              "      padding: 0 0 0 0;\n",
              "      width: 32px;\n",
              "    }\n",
              "\n",
              "    .colab-df-convert:hover {\n",
              "      background-color: #E2EBFA;\n",
              "      box-shadow: 0px 1px 2px rgba(60, 64, 67, 0.3), 0px 1px 3px 1px rgba(60, 64, 67, 0.15);\n",
              "      fill: #174EA6;\n",
              "    }\n",
              "\n",
              "    .colab-df-buttons div {\n",
              "      margin-bottom: 4px;\n",
              "    }\n",
              "\n",
              "    [theme=dark] .colab-df-convert {\n",
              "      background-color: #3B4455;\n",
              "      fill: #D2E3FC;\n",
              "    }\n",
              "\n",
              "    [theme=dark] .colab-df-convert:hover {\n",
              "      background-color: #434B5C;\n",
              "      box-shadow: 0px 1px 3px 1px rgba(0, 0, 0, 0.15);\n",
              "      filter: drop-shadow(0px 1px 2px rgba(0, 0, 0, 0.3));\n",
              "      fill: #FFFFFF;\n",
              "    }\n",
              "  </style>\n",
              "\n",
              "    <script>\n",
              "      const buttonEl =\n",
              "        document.querySelector('#df-0ee82fd2-8c65-4ca4-9a9c-8fdb47cdfdd1 button.colab-df-convert');\n",
              "      buttonEl.style.display =\n",
              "        google.colab.kernel.accessAllowed ? 'block' : 'none';\n",
              "\n",
              "      async function convertToInteractive(key) {\n",
              "        const element = document.querySelector('#df-0ee82fd2-8c65-4ca4-9a9c-8fdb47cdfdd1');\n",
              "        const dataTable =\n",
              "          await google.colab.kernel.invokeFunction('convertToInteractive',\n",
              "                                                    [key], {});\n",
              "        if (!dataTable) return;\n",
              "\n",
              "        const docLinkHtml = 'Like what you see? Visit the ' +\n",
              "          '<a target=\"_blank\" href=https://colab.research.google.com/notebooks/data_table.ipynb>data table notebook</a>'\n",
              "          + ' to learn more about interactive tables.';\n",
              "        element.innerHTML = '';\n",
              "        dataTable['output_type'] = 'display_data';\n",
              "        await google.colab.output.renderOutput(dataTable, element);\n",
              "        const docLink = document.createElement('div');\n",
              "        docLink.innerHTML = docLinkHtml;\n",
              "        element.appendChild(docLink);\n",
              "      }\n",
              "    </script>\n",
              "  </div>\n",
              "\n",
              "\n",
              "<div id=\"df-59ff39e0-8b46-4931-8da6-dc560d933566\">\n",
              "  <button class=\"colab-df-quickchart\" onclick=\"quickchart('df-59ff39e0-8b46-4931-8da6-dc560d933566')\"\n",
              "            title=\"Suggest charts.\"\n",
              "            style=\"display:none;\">\n",
              "\n",
              "<svg xmlns=\"http://www.w3.org/2000/svg\" height=\"24px\"viewBox=\"0 0 24 24\"\n",
              "     width=\"24px\">\n",
              "    <g>\n",
              "        <path d=\"M19 3H5c-1.1 0-2 .9-2 2v14c0 1.1.9 2 2 2h14c1.1 0 2-.9 2-2V5c0-1.1-.9-2-2-2zM9 17H7v-7h2v7zm4 0h-2V7h2v10zm4 0h-2v-4h2v4z\"/>\n",
              "    </g>\n",
              "</svg>\n",
              "  </button>\n",
              "\n",
              "<style>\n",
              "  .colab-df-quickchart {\n",
              "    background-color: #E8F0FE;\n",
              "    border: none;\n",
              "    border-radius: 50%;\n",
              "    cursor: pointer;\n",
              "    display: none;\n",
              "    fill: #1967D2;\n",
              "    height: 32px;\n",
              "    padding: 0 0 0 0;\n",
              "    width: 32px;\n",
              "  }\n",
              "\n",
              "  .colab-df-quickchart:hover {\n",
              "    background-color: #E2EBFA;\n",
              "    box-shadow: 0px 1px 2px rgba(60, 64, 67, 0.3), 0px 1px 3px 1px rgba(60, 64, 67, 0.15);\n",
              "    fill: #174EA6;\n",
              "  }\n",
              "\n",
              "  [theme=dark] .colab-df-quickchart {\n",
              "    background-color: #3B4455;\n",
              "    fill: #D2E3FC;\n",
              "  }\n",
              "\n",
              "  [theme=dark] .colab-df-quickchart:hover {\n",
              "    background-color: #434B5C;\n",
              "    box-shadow: 0px 1px 3px 1px rgba(0, 0, 0, 0.15);\n",
              "    filter: drop-shadow(0px 1px 2px rgba(0, 0, 0, 0.3));\n",
              "    fill: #FFFFFF;\n",
              "  }\n",
              "</style>\n",
              "\n",
              "  <script>\n",
              "    async function quickchart(key) {\n",
              "      const charts = await google.colab.kernel.invokeFunction(\n",
              "          'suggestCharts', [key], {});\n",
              "    }\n",
              "    (() => {\n",
              "      let quickchartButtonEl =\n",
              "        document.querySelector('#df-59ff39e0-8b46-4931-8da6-dc560d933566 button');\n",
              "      quickchartButtonEl.style.display =\n",
              "        google.colab.kernel.accessAllowed ? 'block' : 'none';\n",
              "    })();\n",
              "  </script>\n",
              "</div>\n",
              "    </div>\n",
              "  </div>\n"
            ]
          },
          "metadata": {},
          "execution_count": 26
        }
      ],
      "source": [
        "df.describe().transpose()"
      ]
    },
    {
      "cell_type": "markdown",
      "metadata": {
        "id": "BpKE-uzs0st7"
      },
      "source": [
        "**Inference**"
      ]
    },
    {
      "cell_type": "markdown",
      "metadata": {
        "id": "mMjDP43Rx6wM"
      },
      "source": [
        "amount paid and the amount received.\n",
        "The data points are far spread out from the mean, which indicates a high variance in the amount paid and the amount received.(75% of the amount paid and the amount received are below 15351.83, whereas the remaining 25% are between 24189.19 and 84,853,140,000 of amount paid and received.)"
      ]
    },
    {
      "cell_type": "code",
      "execution_count": null,
      "metadata": {
        "colab": {
          "base_uri": "https://localhost:8080/"
        },
        "id": "iWSDMXbJYuOz",
        "outputId": "aa3efc38-fad8-4f08-c3da-b4ed9644c2b9"
      },
      "outputs": [
        {
          "data": {
            "text/plain": [
              "array(['US Dollar', 'Euro', 'Yuan', 'Yen', 'Canadian Dollar',\n",
              "       'Swiss Franc', 'Shekel', 'Rupee', 'Australian Dollar',\n",
              "       'Saudi Riyal', 'Mexican Peso', 'UK Pound', 'Ruble', 'Brazil Real',\n",
              "       'Bitcoin'], dtype=object)"
            ]
          },
          "execution_count": 27,
          "metadata": {},
          "output_type": "execute_result"
        }
      ],
      "source": [
        "df['Receiving Currency'].unique()"
      ]
    },
    {
      "cell_type": "code",
      "execution_count": null,
      "metadata": {
        "colab": {
          "base_uri": "https://localhost:8080/"
        },
        "id": "x36jUdmMfRf7",
        "outputId": "8f5bafdd-237d-4b40-a675-b860f6ca2bd7"
      },
      "outputs": [
        {
          "data": {
            "text/plain": [
              "array(['US Dollar', 'Euro', 'Yuan', 'Yen', 'Canadian Dollar',\n",
              "       'Swiss Franc', 'Shekel', 'Rupee', 'Australian Dollar',\n",
              "       'Saudi Riyal', 'Mexican Peso', 'UK Pound', 'Ruble', 'Brazil Real',\n",
              "       'Bitcoin'], dtype=object)"
            ]
          },
          "execution_count": 31,
          "metadata": {},
          "output_type": "execute_result"
        }
      ],
      "source": [
        "df['Payment Currency'].unique()"
      ]
    },
    {
      "cell_type": "code",
      "execution_count": null,
      "metadata": {
        "colab": {
          "base_uri": "https://localhost:8080/"
        },
        "id": "Ih_er0tQfv_h",
        "outputId": "8016fee1-7222-4f67-de29-991ebbc33de5"
      },
      "outputs": [
        {
          "data": {
            "text/plain": [
              "array(['Cheque', 'Credit Card', 'Cash', 'ACH', 'Bitcoin', 'Reinvestment',\n",
              "       'Wire'], dtype=object)"
            ]
          },
          "execution_count": 32,
          "metadata": {},
          "output_type": "execute_result"
        }
      ],
      "source": [
        "df['Payment Format'].unique()"
      ]
    },
    {
      "cell_type": "markdown",
      "metadata": {
        "id": "TS4lYOw99OMo"
      },
      "source": [
        "**Data Visualization**"
      ]
    },
    {
      "cell_type": "code",
      "execution_count": null,
      "metadata": {
        "colab": {
          "base_uri": "https://localhost:8080/",
          "height": 698
        },
        "id": "AsFGGza1hUoN",
        "outputId": "b25a82ad-24f2-4222-bf4c-6eaf79aa18de"
      },
      "outputs": [
        {
          "output_type": "stream",
          "name": "stderr",
          "text": [
            "<ipython-input-65-cfc5da31a260>:5: UserWarning: \n",
            "\n",
            "`distplot` is a deprecated function and will be removed in seaborn v0.14.0.\n",
            "\n",
            "Please adapt your code to use either `displot` (a figure-level function with\n",
            "similar flexibility) or `histplot` (an axes-level function for histograms).\n",
            "\n",
            "For a guide to updating your code to use the new functions, please see\n",
            "https://gist.github.com/mwaskom/de44147ed2974457ad6372750bbe5751\n",
            "\n",
            "  sns.distplot(df['Amount Paid'])\n"
          ]
        },
        {
          "output_type": "display_data",
          "data": {
            "text/plain": [
              "<Figure size 1000x500 with 2 Axes>"
            ],
            "image/png": "[encoded data removed]"
          },
          "metadata": {}
        }
      ],
      "source": [
        "plt.figure(figsize=(10,5))\n",
        "\n",
        "plt.subplot(1,2,1)\n",
        "plt.title('Amount Paid Distribution')\n",
        "sns.distplot(df['Amount Paid'])\n",
        "\n",
        "plt.subplot(1,2,2)\n",
        "plt.title('Amount Received Distribution')\n",
        "sns.boxplot(df['Amount Received'])\n",
        "\n",
        "plt.show()"
      ]
    },
    {
      "cell_type": "code",
      "execution_count": null,
      "metadata": {
        "colab": {
          "base_uri": "https://localhost:8080/"
        },
        "id": "g43aGpAqGhyR",
        "outputId": "0894f718-9558-4213-e9fe-43aebdb2c166"
      },
      "outputs": [
        {
          "output_type": "stream",
          "name": "stdout",
          "text": [
            "Skewness: 78.865408\n",
            "Kurtosis: 6439.980008\n"
          ]
        }
      ],
      "source": [
        "print(\"Skewness: %f\" % df['Amount Paid'].skew())\n",
        "print(\"Kurtosis: %f\" % df['Amount Paid'].kurt())"
      ]
    },
    {
      "cell_type": "markdown",
      "metadata": {
        "id": "Z1EcdVgDvjzI"
      },
      "source": [
        "The Distribution of the amount paid shows that it is not evenely distributed. The skewness and the kurtosis are greater than 1. The data right skewed, with the amount paid ranging from 0.003227 upto max of 84,853,140,000 paid. The Average amount paid in the transactions is 14,974,880.\n",
        "\n",
        "Our tails is starting from approximately 15 million so we can check how many transactions have amount paid more than 15 million. If the number is small we can split the data and remove outliers to improve the distribution.\n",
        "\n",
        " This indicates that the majority of the\n",
        "transactions have low amounts, while a few transactions have extremely high amounts. As\n",
        "a result, this suggests that the dataset contains some outliers in terms of transaction\n",
        "amounts. Therefore, when building a model for money laundering detection, it may be necessary to\n",
        "handle outliers in the Amount feature, for instance, by using a log transformation or robust\n",
        "statistical methods"
      ]
    },
    {
      "cell_type": "markdown",
      "metadata": {
        "id": "0WLAhVAwtAR1"
      },
      "source": [
        "Visualisation of Categorical Variables"
      ]
    },
    {
      "cell_type": "code",
      "execution_count": null,
      "metadata": {
        "colab": {
          "base_uri": "https://localhost:8080/",
          "height": 706
        },
        "id": "3Hx2BCh6iK44",
        "outputId": "1d75cc6c-7481-4436-a429-04eaae5cca91"
      },
      "outputs": [
        {
          "data": {
            "text/plain": [
              "[Text(0.5, 0, 'Receiving Currency'),\n",
              " Text(0, 0.5, 'Frequency of Receiving Currency')]"
            ]
          },
          "execution_count": 29,
          "metadata": {},
          "output_type": "execute_result"
        },
        {
          "data": {
            "image/png": "[encoded data removed]",
            "text/plain": [
              "<Figure size 1500x600 with 3 Axes>"
            ]
          },
          "metadata": {},
          "output_type": "display_data"
        }
      ],
      "source": [
        "plt.figure(figsize=(15, 6))\n",
        "\n",
        "plt.subplot(1,3,1)\n",
        "plt1 = df['Payment Currency'].value_counts().plot(kind='bar')\n",
        "plt.title('Payment CurrencyHistogram')\n",
        "plt1.set(xlabel = 'Payment Currency', ylabel='Frequency of Payment Currency')\n",
        "\n",
        "plt.subplot(1,3,2)\n",
        "plt1 = df['Payment Format'].value_counts().plot(kind='bar')\n",
        "plt.title('Payment Format Histogram')\n",
        "plt1.set(xlabel = 'Payment Format', ylabel='Frequency of Payment Format')\n",
        "\n",
        "plt.subplot(1,3,3)\n",
        "plt1 = df['Receiving Currency'].value_counts().plot(kind='bar')\n",
        "plt.title('Receiving Currency Histogram')\n",
        "plt1.set(xlabel = 'Receiving Currency', ylabel='Frequency of Receiving Currency')"
      ]
    },
    {
      "cell_type": "markdown",
      "metadata": {
        "id": "Pxra0BKo1A2t"
      },
      "source": [
        "**Inference**"
      ]
    },
    {
      "cell_type": "markdown",
      "metadata": {
        "id": "RJRestMD1VY0"
      },
      "source": [
        "The most used Payment Currency is US Dollar followed by Euro, Reinvestment is the most used Payment Format and the most used Receiving Currency is the US Dollar."
      ]
    },
    {
      "cell_type": "markdown",
      "metadata": {
        "id": "v871SLXF1GGs"
      },
      "source": []
    },
    {
      "cell_type": "code",
      "execution_count": null,
      "metadata": {
        "colab": {
          "base_uri": "https://localhost:8080/",
          "height": 392
        },
        "id": "k02dRsr7ufhA",
        "outputId": "03dc1f2b-f980-4d74-bebf-0814dfa042d0"
      },
      "outputs": [
        {
          "output_type": "display_data",
          "data": {
            "text/plain": [
              "<Figure size 400x400 with 1 Axes>"
            ],
            "image/png": "[encoded data removed]"
          },
          "metadata": {}
        }
      ],
      "source": [
        "plt.figure(figsize = (4, 4))\n",
        "\n",
        "plt.scatter(df['Amount Paid'], df['Is Laundering'])\n",
        "plt.xlabel('Amount Paid')\n",
        "plt.ylabel('Is Laundering')\n",
        "plt.grid(True)"
      ]
    },
    {
      "cell_type": "markdown",
      "metadata": {
        "id": "S50fxz09Pxfh"
      },
      "source": [
        "**Handling Categorical Variables**- **Label Encoding**\n"
      ]
    },
    {
      "cell_type": "code",
      "execution_count": null,
      "metadata": {
        "id": "3_HApZ7WNouy"
      },
      "outputs": [],
      "source": [
        "le= LabelEncoder()"
      ]
    },
    {
      "cell_type": "code",
      "execution_count": null,
      "metadata": {
        "colab": {
          "base_uri": "https://localhost:8080/"
        },
        "id": "PpoyPmORliKE",
        "outputId": "55536944-52b2-4ed6-f5da-da820dd1598e"
      },
      "outputs": [
        {
          "output_type": "stream",
          "name": "stdout",
          "text": [
            "Timestamp: ['2022/09/01 00:21' '2022/09/01 00:03' '2022/09/01 00:01' ...\n",
            " '2022/09/01 00:27' '2022/09/01 00:18' '2022/09/01 00:24']\n",
            "Account: ['100428660' '812EE86F0' '1004286A8' ... '800DB8320' '800DB92A0'\n",
            " '800411880']\n",
            "Account.1: ['800825340' '805B716C0' '80B39E7B0' ... '800DB4A00' '812F2F8A0'\n",
            " '800DB92A0']\n",
            "Receiving Currency: ['US Dollar' 'Euro' 'Yuan' 'Yen' 'Canadian Dollar' 'Swiss Franc' 'Shekel'\n",
            " 'Rupee' 'Australian Dollar' 'Saudi Riyal' 'Mexican Peso' 'UK Pound'\n",
            " 'Ruble' 'Brazil Real' 'Bitcoin']\n",
            "Payment Currency: ['US Dollar' 'Euro' 'Yuan' 'Yen' 'Canadian Dollar' 'Swiss Franc' 'Shekel'\n",
            " 'Rupee' 'Australian Dollar' 'Saudi Riyal' 'Mexican Peso' 'UK Pound'\n",
            " 'Ruble' 'Brazil Real' 'Bitcoin']\n",
            "Payment Format: ['Cheque' 'Credit Card' 'Cash' 'ACH' 'Bitcoin' 'Reinvestment' 'Wire']\n"
          ]
        }
      ],
      "source": [
        "for col in df.select_dtypes(include=['object']).columns:\n",
        "  #print the column name and the unique values\n",
        "  print(f\"{col}: {df[col].unique()}\")"
      ]
    },
    {
      "cell_type": "markdown",
      "metadata": {
        "id": "sQYwFArbtC_s"
      },
      "source": [
        "unique values of all the object values have been checked"
      ]
    },
    {
      "cell_type": "code",
      "execution_count": null,
      "metadata": {
        "colab": {
          "base_uri": "https://localhost:8080/"
        },
        "id": "N_IQMHRamguT",
        "outputId": "fc408219-a9fd-45de-b910-b1aaa67c6b62"
      },
      "outputs": [
        {
          "output_type": "stream",
          "name": "stdout",
          "text": [
            "Timestamp: [21  3  1 ... 27 18 24]\n",
            "Account: [   0 9143    1 ... 6243 6247 1697]\n",
            "Account.1: [3607 7113 8279 ... 5859 9605 5872]\n",
            "Receiving Currency: [12  4 14 13  3 10  9  7  0  8  5 11  6  2  1]\n",
            "Payment Currency: [12  4 14 13  3 10  9  7  0  8  5 11  6  2  1]\n",
            "Payment Format: [3 4 2 0 1 5 6]\n"
          ]
        }
      ],
      "source": [
        "#Loop over each column in the Dataframe where dtype is 'object'\n",
        "for col in df.select_dtypes(include=['object']).columns:\n",
        "  #Initialise a LabelEncoder object\n",
        "  label_encoder= preprocessing.LabelEncoder()\n",
        "\n",
        "  #Fit the encoder to the unique values in the column\n",
        "  label_encoder.fit(df[col].unique())\n",
        "\n",
        "  #Transform the column using the encoder\n",
        "  df[col]= label_encoder.transform(df[col])\n",
        "\n",
        "  #print the column name and the unique encoded values\n",
        "  print(f\"{col}: {df[col].unique()}\")"
      ]
    },
    {
      "cell_type": "markdown",
      "metadata": {
        "id": "hZr-jIZSyrzH"
      },
      "source": [
        "Dataset after label encoding"
      ]
    },
    {
      "cell_type": "code",
      "execution_count": null,
      "metadata": {
        "colab": {
          "base_uri": "https://localhost:8080/",
          "height": 423
        },
        "id": "so4eUwZ8rHzf",
        "outputId": "5f5f65ba-f7aa-4db3-e08e-28eac1c7b130"
      },
      "outputs": [
        {
          "output_type": "execute_result",
          "data": {
            "text/plain": [
              "       Timestamp  From Bank  Account  To Bank  Account.1  Amount Received  \\\n",
              "4742          21         70        0     1124       3607        389769.39   \n",
              "40621          3         70        0    11474       7113         29024.33   \n",
              "69152          1         70        0    15980       8279           792.92   \n",
              "85763          3         70        0   113798       8780      13171425.53   \n",
              "90684         23         70        0    32375       8886         14288.83   \n",
              "...          ...        ...      ...      ...        ...              ...   \n",
              "7995          11       1686     6231     1686       5859            17.64   \n",
              "7996          11      11904     6243      908       9605             3.93   \n",
              "7997           4      21258     6247    21258       5872         95001.11   \n",
              "7998           6        701     1697    21258       5872          5274.06   \n",
              "7999           1        701     1697    21258       5872         23590.57   \n",
              "\n",
              "       Receiving Currency  Amount Paid  Payment Currency  Payment Format  \\\n",
              "4742                   12    389769.39                12               3   \n",
              "40621                  12     29024.33                12               4   \n",
              "69152                  12       792.92                12               4   \n",
              "85763                  12  13171425.53                12               3   \n",
              "90684                  12     14288.83                12               2   \n",
              "...                   ...          ...               ...             ...   \n",
              "7995                   12        17.64                12               5   \n",
              "7996                   12         3.93                12               4   \n",
              "7997                   12     95001.11                12               5   \n",
              "7998                   12      5274.06                12               3   \n",
              "7999                   12     23590.57                12               4   \n",
              "\n",
              "       Is Laundering  \n",
              "4742               1  \n",
              "40621              1  \n",
              "69152              1  \n",
              "85763              1  \n",
              "90684              1  \n",
              "...              ...  \n",
              "7995               0  \n",
              "7996               0  \n",
              "7997               0  \n",
              "7998               0  \n",
              "7999               0  \n",
              "\n",
              "[13177 rows x 11 columns]"
            ],
            "text/html": [
              "\n",
              "  <div id=\"df-55a7132f-c229-47bb-8fe7-73de9d084ced\" class=\"colab-df-container\">\n",
              "    <div>\n",
              "<style scoped>\n",
              "    .dataframe tbody tr th:only-of-type {\n",
              "        vertical-align: middle;\n",
              "    }\n",
              "\n",
              "    .dataframe tbody tr th {\n",
              "        vertical-align: top;\n",
              "    }\n",
              "\n",
              "    .dataframe thead th {\n",
              "        text-align: right;\n",
              "    }\n",
              "</style>\n",
              "<table border=\"1\" class=\"dataframe\">\n",
              "  <thead>\n",
              "    <tr style=\"text-align: right;\">\n",
              "      <th></th>\n",
              "      <th>Timestamp</th>\n",
              "      <th>From Bank</th>\n",
              "      <th>Account</th>\n",
              "      <th>To Bank</th>\n",
              "      <th>Account.1</th>\n",
              "      <th>Amount Received</th>\n",
              "      <th>Receiving Currency</th>\n",
              "      <th>Amount Paid</th>\n",
              "      <th>Payment Currency</th>\n",
              "      <th>Payment Format</th>\n",
              "      <th>Is Laundering</th>\n",
              "    </tr>\n",
              "  </thead>\n",
              "  <tbody>\n",
              "    <tr>\n",
              "      <th>4742</th>\n",
              "      <td>21</td>\n",
              "      <td>70</td>\n",
              "      <td>0</td>\n",
              "      <td>1124</td>\n",
              "      <td>3607</td>\n",
              "      <td>389769.39</td>\n",
              "      <td>12</td>\n",
              "      <td>389769.39</td>\n",
              "      <td>12</td>\n",
              "      <td>3</td>\n",
              "      <td>1</td>\n",
              "    </tr>\n",
              "    <tr>\n",
              "      <th>40621</th>\n",
              "      <td>3</td>\n",
              "      <td>70</td>\n",
              "      <td>0</td>\n",
              "      <td>11474</td>\n",
              "      <td>7113</td>\n",
              "      <td>29024.33</td>\n",
              "      <td>12</td>\n",
              "      <td>29024.33</td>\n",
              "      <td>12</td>\n",
              "      <td>4</td>\n",
              "      <td>1</td>\n",
              "    </tr>\n",
              "    <tr>\n",
              "      <th>69152</th>\n",
              "      <td>1</td>\n",
              "      <td>70</td>\n",
              "      <td>0</td>\n",
              "      <td>15980</td>\n",
              "      <td>8279</td>\n",
              "      <td>792.92</td>\n",
              "      <td>12</td>\n",
              "      <td>792.92</td>\n",
              "      <td>12</td>\n",
              "      <td>4</td>\n",
              "      <td>1</td>\n",
              "    </tr>\n",
              "    <tr>\n",
              "      <th>85763</th>\n",
              "      <td>3</td>\n",
              "      <td>70</td>\n",
              "      <td>0</td>\n",
              "      <td>113798</td>\n",
              "      <td>8780</td>\n",
              "      <td>13171425.53</td>\n",
              "      <td>12</td>\n",
              "      <td>13171425.53</td>\n",
              "      <td>12</td>\n",
              "      <td>3</td>\n",
              "      <td>1</td>\n",
              "    </tr>\n",
              "    <tr>\n",
              "      <th>90684</th>\n",
              "      <td>23</td>\n",
              "      <td>70</td>\n",
              "      <td>0</td>\n",
              "      <td>32375</td>\n",
              "      <td>8886</td>\n",
              "      <td>14288.83</td>\n",
              "      <td>12</td>\n",
              "      <td>14288.83</td>\n",
              "      <td>12</td>\n",
              "      <td>2</td>\n",
              "      <td>1</td>\n",
              "    </tr>\n",
              "    <tr>\n",
              "      <th>...</th>\n",
              "      <td>...</td>\n",
              "      <td>...</td>\n",
              "      <td>...</td>\n",
              "      <td>...</td>\n",
              "      <td>...</td>\n",
              "      <td>...</td>\n",
              "      <td>...</td>\n",
              "      <td>...</td>\n",
              "      <td>...</td>\n",
              "      <td>...</td>\n",
              "      <td>...</td>\n",
              "    </tr>\n",
              "    <tr>\n",
              "      <th>7995</th>\n",
              "      <td>11</td>\n",
              "      <td>1686</td>\n",
              "      <td>6231</td>\n",
              "      <td>1686</td>\n",
              "      <td>5859</td>\n",
              "      <td>17.64</td>\n",
              "      <td>12</td>\n",
              "      <td>17.64</td>\n",
              "      <td>12</td>\n",
              "      <td>5</td>\n",
              "      <td>0</td>\n",
              "    </tr>\n",
              "    <tr>\n",
              "      <th>7996</th>\n",
              "      <td>11</td>\n",
              "      <td>11904</td>\n",
              "      <td>6243</td>\n",
              "      <td>908</td>\n",
              "      <td>9605</td>\n",
              "      <td>3.93</td>\n",
              "      <td>12</td>\n",
              "      <td>3.93</td>\n",
              "      <td>12</td>\n",
              "      <td>4</td>\n",
              "      <td>0</td>\n",
              "    </tr>\n",
              "    <tr>\n",
              "      <th>7997</th>\n",
              "      <td>4</td>\n",
              "      <td>21258</td>\n",
              "      <td>6247</td>\n",
              "      <td>21258</td>\n",
              "      <td>5872</td>\n",
              "      <td>95001.11</td>\n",
              "      <td>12</td>\n",
              "      <td>95001.11</td>\n",
              "      <td>12</td>\n",
              "      <td>5</td>\n",
              "      <td>0</td>\n",
              "    </tr>\n",
              "    <tr>\n",
              "      <th>7998</th>\n",
              "      <td>6</td>\n",
              "      <td>701</td>\n",
              "      <td>1697</td>\n",
              "      <td>21258</td>\n",
              "      <td>5872</td>\n",
              "      <td>5274.06</td>\n",
              "      <td>12</td>\n",
              "      <td>5274.06</td>\n",
              "      <td>12</td>\n",
              "      <td>3</td>\n",
              "      <td>0</td>\n",
              "    </tr>\n",
              "    <tr>\n",
              "      <th>7999</th>\n",
              "      <td>1</td>\n",
              "      <td>701</td>\n",
              "      <td>1697</td>\n",
              "      <td>21258</td>\n",
              "      <td>5872</td>\n",
              "      <td>23590.57</td>\n",
              "      <td>12</td>\n",
              "      <td>23590.57</td>\n",
              "      <td>12</td>\n",
              "      <td>4</td>\n",
              "      <td>0</td>\n",
              "    </tr>\n",
              "  </tbody>\n",
              "</table>\n",
              "<p>13177 rows × 11 columns</p>\n",
              "</div>\n",
              "    <div class=\"colab-df-buttons\">\n",
              "\n",
              "  <div class=\"colab-df-container\">\n",
              "    <button class=\"colab-df-convert\" onclick=\"convertToInteractive('df-55a7132f-c229-47bb-8fe7-73de9d084ced')\"\n",
              "            title=\"Convert this dataframe to an interactive table.\"\n",
              "            style=\"display:none;\">\n",
              "\n",
              "  <svg xmlns=\"http://www.w3.org/2000/svg\" height=\"24px\" viewBox=\"0 -960 960 960\">\n",
              "    <path d=\"M120-120v-720h720v720H120Zm60-500h600v-160H180v160Zm220 220h160v-160H400v160Zm0 220h160v-160H400v160ZM180-400h160v-160H180v160Zm440 0h160v-160H620v160ZM180-180h160v-160H180v160Zm440 0h160v-160H620v160Z\"/>\n",
              "  </svg>\n",
              "    </button>\n",
              "\n",
              "  <style>\n",
              "    .colab-df-container {\n",
              "      display:flex;\n",
              "      gap: 12px;\n",
              "    }\n",
              "\n",
              "    .colab-df-convert {\n",
              "      background-color: #E8F0FE;\n",
              "      border: none;\n",
              "      border-radius: 50%;\n",
              "      cursor: pointer;\n",
              "      display: none;\n",
              "      fill: #1967D2;\n",
              "      height: 32px;\n",
              "      padding: 0 0 0 0;\n",
              "      width: 32px;\n",
              "    }\n",
              "\n",
              "    .colab-df-convert:hover {\n",
              "      background-color: #E2EBFA;\n",
              "      box-shadow: 0px 1px 2px rgba(60, 64, 67, 0.3), 0px 1px 3px 1px rgba(60, 64, 67, 0.15);\n",
              "      fill: #174EA6;\n",
              "    }\n",
              "\n",
              "    .colab-df-buttons div {\n",
              "      margin-bottom: 4px;\n",
              "    }\n",
              "\n",
              "    [theme=dark] .colab-df-convert {\n",
              "      background-color: #3B4455;\n",
              "      fill: #D2E3FC;\n",
              "    }\n",
              "\n",
              "    [theme=dark] .colab-df-convert:hover {\n",
              "      background-color: #434B5C;\n",
              "      box-shadow: 0px 1px 3px 1px rgba(0, 0, 0, 0.15);\n",
              "      filter: drop-shadow(0px 1px 2px rgba(0, 0, 0, 0.3));\n",
              "      fill: #FFFFFF;\n",
              "    }\n",
              "  </style>\n",
              "\n",
              "    <script>\n",
              "      const buttonEl =\n",
              "        document.querySelector('#df-55a7132f-c229-47bb-8fe7-73de9d084ced button.colab-df-convert');\n",
              "      buttonEl.style.display =\n",
              "        google.colab.kernel.accessAllowed ? 'block' : 'none';\n",
              "\n",
              "      async function convertToInteractive(key) {\n",
              "        const element = document.querySelector('#df-55a7132f-c229-47bb-8fe7-73de9d084ced');\n",
              "        const dataTable =\n",
              "          await google.colab.kernel.invokeFunction('convertToInteractive',\n",
              "                                                    [key], {});\n",
              "        if (!dataTable) return;\n",
              "\n",
              "        const docLinkHtml = 'Like what you see? Visit the ' +\n",
              "          '<a target=\"_blank\" href=https://colab.research.google.com/notebooks/data_table.ipynb>data table notebook</a>'\n",
              "          + ' to learn more about interactive tables.';\n",
              "        element.innerHTML = '';\n",
              "        dataTable['output_type'] = 'display_data';\n",
              "        await google.colab.output.renderOutput(dataTable, element);\n",
              "        const docLink = document.createElement('div');\n",
              "        docLink.innerHTML = docLinkHtml;\n",
              "        element.appendChild(docLink);\n",
              "      }\n",
              "    </script>\n",
              "  </div>\n",
              "\n",
              "\n",
              "<div id=\"df-87776f13-ce01-4fb3-ab99-86a400cb4797\">\n",
              "  <button class=\"colab-df-quickchart\" onclick=\"quickchart('df-87776f13-ce01-4fb3-ab99-86a400cb4797')\"\n",
              "            title=\"Suggest charts.\"\n",
              "            style=\"display:none;\">\n",
              "\n",
              "<svg xmlns=\"http://www.w3.org/2000/svg\" height=\"24px\"viewBox=\"0 0 24 24\"\n",
              "     width=\"24px\">\n",
              "    <g>\n",
              "        <path d=\"M19 3H5c-1.1 0-2 .9-2 2v14c0 1.1.9 2 2 2h14c1.1 0 2-.9 2-2V5c0-1.1-.9-2-2-2zM9 17H7v-7h2v7zm4 0h-2V7h2v10zm4 0h-2v-4h2v4z\"/>\n",
              "    </g>\n",
              "</svg>\n",
              "  </button>\n",
              "\n",
              "<style>\n",
              "  .colab-df-quickchart {\n",
              "    background-color: #E8F0FE;\n",
              "    border: none;\n",
              "    border-radius: 50%;\n",
              "    cursor: pointer;\n",
              "    display: none;\n",
              "    fill: #1967D2;\n",
              "    height: 32px;\n",
              "    padding: 0 0 0 0;\n",
              "    width: 32px;\n",
              "  }\n",
              "\n",
              "  .colab-df-quickchart:hover {\n",
              "    background-color: #E2EBFA;\n",
              "    box-shadow: 0px 1px 2px rgba(60, 64, 67, 0.3), 0px 1px 3px 1px rgba(60, 64, 67, 0.15);\n",
              "    fill: #174EA6;\n",
              "  }\n",
              "\n",
              "  [theme=dark] .colab-df-quickchart {\n",
              "    background-color: #3B4455;\n",
              "    fill: #D2E3FC;\n",
              "  }\n",
              "\n",
              "  [theme=dark] .colab-df-quickchart:hover {\n",
              "    background-color: #434B5C;\n",
              "    box-shadow: 0px 1px 3px 1px rgba(0, 0, 0, 0.15);\n",
              "    filter: drop-shadow(0px 1px 2px rgba(0, 0, 0, 0.3));\n",
              "    fill: #FFFFFF;\n",
              "  }\n",
              "</style>\n",
              "\n",
              "  <script>\n",
              "    async function quickchart(key) {\n",
              "      const charts = await google.colab.kernel.invokeFunction(\n",
              "          'suggestCharts', [key], {});\n",
              "    }\n",
              "    (() => {\n",
              "      let quickchartButtonEl =\n",
              "        document.querySelector('#df-87776f13-ce01-4fb3-ab99-86a400cb4797 button');\n",
              "      quickchartButtonEl.style.display =\n",
              "        google.colab.kernel.accessAllowed ? 'block' : 'none';\n",
              "    })();\n",
              "  </script>\n",
              "</div>\n",
              "    </div>\n",
              "  </div>\n"
            ]
          },
          "metadata": {},
          "execution_count": 35
        }
      ],
      "source": [
        "df"
      ]
    },
    {
      "cell_type": "code",
      "execution_count": null,
      "metadata": {
        "colab": {
          "base_uri": "https://localhost:8080/",
          "height": 394
        },
        "id": "w2O6Q7Wjrce1",
        "outputId": "5104b98e-4e48-4225-c910-df9146b901c2"
      },
      "outputs": [
        {
          "output_type": "execute_result",
          "data": {
            "text/plain": [
              "                    Timestamp  From Bank   Account   To Bank  Account.1  \\\n",
              "Timestamp            1.000000   0.322963  0.469162  0.299671   0.519867   \n",
              "From Bank            0.322963   1.000000  0.482463  0.258872   0.384995   \n",
              "Account              0.469162   0.482463  1.000000  0.300307   0.687334   \n",
              "To Bank              0.299671   0.258872  0.300307  1.000000   0.496972   \n",
              "Account.1            0.519867   0.384995  0.687334  0.496972   1.000000   \n",
              "Amount Received     -0.005096  -0.002323  0.015365  0.010584   0.012968   \n",
              "Receiving Currency  -0.467880  -0.218509 -0.284659 -0.232190  -0.366697   \n",
              "Amount Paid         -0.005096  -0.002323  0.015365  0.010584   0.012968   \n",
              "Payment Currency    -0.468686  -0.218894 -0.284798 -0.232622  -0.367108   \n",
              "Payment Format      -0.726717  -0.401268 -0.570806 -0.338468  -0.579847   \n",
              "Is Laundering        0.807534   0.402241  0.548469  0.403004   0.676695   \n",
              "\n",
              "                    Amount Received  Receiving Currency  Amount Paid  \\\n",
              "Timestamp                 -0.005096           -0.467880    -0.005096   \n",
              "From Bank                 -0.002323           -0.218509    -0.002323   \n",
              "Account                    0.015365           -0.284659     0.015365   \n",
              "To Bank                    0.010584           -0.232190     0.010584   \n",
              "Account.1                  0.012968           -0.366697     0.012968   \n",
              "Amount Received            1.000000           -0.020770     1.000000   \n",
              "Receiving Currency        -0.020770            1.000000    -0.020770   \n",
              "Amount Paid                1.000000           -0.020770     1.000000   \n",
              "Payment Currency          -0.020796            0.998910    -0.020796   \n",
              "Payment Format            -0.018535            0.502957    -0.018535   \n",
              "Is Laundering              0.017767           -0.576813     0.017767   \n",
              "\n",
              "                    Payment Currency  Payment Format  Is Laundering  \n",
              "Timestamp                  -0.468686       -0.726717       0.807534  \n",
              "From Bank                  -0.218894       -0.401268       0.402241  \n",
              "Account                    -0.284798       -0.570806       0.548469  \n",
              "To Bank                    -0.232622       -0.338468       0.403004  \n",
              "Account.1                  -0.367108       -0.579847       0.676695  \n",
              "Amount Received            -0.020796       -0.018535       0.017767  \n",
              "Receiving Currency          0.998910        0.502957      -0.576813  \n",
              "Amount Paid                -0.020796       -0.018535       0.017767  \n",
              "Payment Currency            1.000000        0.502479      -0.577812  \n",
              "Payment Format              0.502479        1.000000      -0.864772  \n",
              "Is Laundering              -0.577812       -0.864772       1.000000  "
            ],
            "text/html": [
              "\n",
              "  <div id=\"df-d5ef802d-cc0c-42a3-91ad-547d495e12c6\" class=\"colab-df-container\">\n",
              "    <div>\n",
              "<style scoped>\n",
              "    .dataframe tbody tr th:only-of-type {\n",
              "        vertical-align: middle;\n",
              "    }\n",
              "\n",
              "    .dataframe tbody tr th {\n",
              "        vertical-align: top;\n",
              "    }\n",
              "\n",
              "    .dataframe thead th {\n",
              "        text-align: right;\n",
              "    }\n",
              "</style>\n",
              "<table border=\"1\" class=\"dataframe\">\n",
              "  <thead>\n",
              "    <tr style=\"text-align: right;\">\n",
              "      <th></th>\n",
              "      <th>Timestamp</th>\n",
              "      <th>From Bank</th>\n",
              "      <th>Account</th>\n",
              "      <th>To Bank</th>\n",
              "      <th>Account.1</th>\n",
              "      <th>Amount Received</th>\n",
              "      <th>Receiving Currency</th>\n",
              "      <th>Amount Paid</th>\n",
              "      <th>Payment Currency</th>\n",
              "      <th>Payment Format</th>\n",
              "      <th>Is Laundering</th>\n",
              "    </tr>\n",
              "  </thead>\n",
              "  <tbody>\n",
              "    <tr>\n",
              "      <th>Timestamp</th>\n",
              "      <td>1.000000</td>\n",
              "      <td>0.322963</td>\n",
              "      <td>0.469162</td>\n",
              "      <td>0.299671</td>\n",
              "      <td>0.519867</td>\n",
              "      <td>-0.005096</td>\n",
              "      <td>-0.467880</td>\n",
              "      <td>-0.005096</td>\n",
              "      <td>-0.468686</td>\n",
              "      <td>-0.726717</td>\n",
              "      <td>0.807534</td>\n",
              "    </tr>\n",
              "    <tr>\n",
              "      <th>From Bank</th>\n",
              "      <td>0.322963</td>\n",
              "      <td>1.000000</td>\n",
              "      <td>0.482463</td>\n",
              "      <td>0.258872</td>\n",
              "      <td>0.384995</td>\n",
              "      <td>-0.002323</td>\n",
              "      <td>-0.218509</td>\n",
              "      <td>-0.002323</td>\n",
              "      <td>-0.218894</td>\n",
              "      <td>-0.401268</td>\n",
              "      <td>0.402241</td>\n",
              "    </tr>\n",
              "    <tr>\n",
              "      <th>Account</th>\n",
              "      <td>0.469162</td>\n",
              "      <td>0.482463</td>\n",
              "      <td>1.000000</td>\n",
              "      <td>0.300307</td>\n",
              "      <td>0.687334</td>\n",
              "      <td>0.015365</td>\n",
              "      <td>-0.284659</td>\n",
              "      <td>0.015365</td>\n",
              "      <td>-0.284798</td>\n",
              "      <td>-0.570806</td>\n",
              "      <td>0.548469</td>\n",
              "    </tr>\n",
              "    <tr>\n",
              "      <th>To Bank</th>\n",
              "      <td>0.299671</td>\n",
              "      <td>0.258872</td>\n",
              "      <td>0.300307</td>\n",
              "      <td>1.000000</td>\n",
              "      <td>0.496972</td>\n",
              "      <td>0.010584</td>\n",
              "      <td>-0.232190</td>\n",
              "      <td>0.010584</td>\n",
              "      <td>-0.232622</td>\n",
              "      <td>-0.338468</td>\n",
              "      <td>0.403004</td>\n",
              "    </tr>\n",
              "    <tr>\n",
              "      <th>Account.1</th>\n",
              "      <td>0.519867</td>\n",
              "      <td>0.384995</td>\n",
              "      <td>0.687334</td>\n",
              "      <td>0.496972</td>\n",
              "      <td>1.000000</td>\n",
              "      <td>0.012968</td>\n",
              "      <td>-0.366697</td>\n",
              "      <td>0.012968</td>\n",
              "      <td>-0.367108</td>\n",
              "      <td>-0.579847</td>\n",
              "      <td>0.676695</td>\n",
              "    </tr>\n",
              "    <tr>\n",
              "      <th>Amount Received</th>\n",
              "      <td>-0.005096</td>\n",
              "      <td>-0.002323</td>\n",
              "      <td>0.015365</td>\n",
              "      <td>0.010584</td>\n",
              "      <td>0.012968</td>\n",
              "      <td>1.000000</td>\n",
              "      <td>-0.020770</td>\n",
              "      <td>1.000000</td>\n",
              "      <td>-0.020796</td>\n",
              "      <td>-0.018535</td>\n",
              "      <td>0.017767</td>\n",
              "    </tr>\n",
              "    <tr>\n",
              "      <th>Receiving Currency</th>\n",
              "      <td>-0.467880</td>\n",
              "      <td>-0.218509</td>\n",
              "      <td>-0.284659</td>\n",
              "      <td>-0.232190</td>\n",
              "      <td>-0.366697</td>\n",
              "      <td>-0.020770</td>\n",
              "      <td>1.000000</td>\n",
              "      <td>-0.020770</td>\n",
              "      <td>0.998910</td>\n",
              "      <td>0.502957</td>\n",
              "      <td>-0.576813</td>\n",
              "    </tr>\n",
              "    <tr>\n",
              "      <th>Amount Paid</th>\n",
              "      <td>-0.005096</td>\n",
              "      <td>-0.002323</td>\n",
              "      <td>0.015365</td>\n",
              "      <td>0.010584</td>\n",
              "      <td>0.012968</td>\n",
              "      <td>1.000000</td>\n",
              "      <td>-0.020770</td>\n",
              "      <td>1.000000</td>\n",
              "      <td>-0.020796</td>\n",
              "      <td>-0.018535</td>\n",
              "      <td>0.017767</td>\n",
              "    </tr>\n",
              "    <tr>\n",
              "      <th>Payment Currency</th>\n",
              "      <td>-0.468686</td>\n",
              "      <td>-0.218894</td>\n",
              "      <td>-0.284798</td>\n",
              "      <td>-0.232622</td>\n",
              "      <td>-0.367108</td>\n",
              "      <td>-0.020796</td>\n",
              "      <td>0.998910</td>\n",
              "      <td>-0.020796</td>\n",
              "      <td>1.000000</td>\n",
              "      <td>0.502479</td>\n",
              "      <td>-0.577812</td>\n",
              "    </tr>\n",
              "    <tr>\n",
              "      <th>Payment Format</th>\n",
              "      <td>-0.726717</td>\n",
              "      <td>-0.401268</td>\n",
              "      <td>-0.570806</td>\n",
              "      <td>-0.338468</td>\n",
              "      <td>-0.579847</td>\n",
              "      <td>-0.018535</td>\n",
              "      <td>0.502957</td>\n",
              "      <td>-0.018535</td>\n",
              "      <td>0.502479</td>\n",
              "      <td>1.000000</td>\n",
              "      <td>-0.864772</td>\n",
              "    </tr>\n",
              "    <tr>\n",
              "      <th>Is Laundering</th>\n",
              "      <td>0.807534</td>\n",
              "      <td>0.402241</td>\n",
              "      <td>0.548469</td>\n",
              "      <td>0.403004</td>\n",
              "      <td>0.676695</td>\n",
              "      <td>0.017767</td>\n",
              "      <td>-0.576813</td>\n",
              "      <td>0.017767</td>\n",
              "      <td>-0.577812</td>\n",
              "      <td>-0.864772</td>\n",
              "      <td>1.000000</td>\n",
              "    </tr>\n",
              "  </tbody>\n",
              "</table>\n",
              "</div>\n",
              "    <div class=\"colab-df-buttons\">\n",
              "\n",
              "  <div class=\"colab-df-container\">\n",
              "    <button class=\"colab-df-convert\" onclick=\"convertToInteractive('df-d5ef802d-cc0c-42a3-91ad-547d495e12c6')\"\n",
              "            title=\"Convert this dataframe to an interactive table.\"\n",
              "            style=\"display:none;\">\n",
              "\n",
              "  <svg xmlns=\"http://www.w3.org/2000/svg\" height=\"24px\" viewBox=\"0 -960 960 960\">\n",
              "    <path d=\"M120-120v-720h720v720H120Zm60-500h600v-160H180v160Zm220 220h160v-160H400v160Zm0 220h160v-160H400v160ZM180-400h160v-160H180v160Zm440 0h160v-160H620v160ZM180-180h160v-160H180v160Zm440 0h160v-160H620v160Z\"/>\n",
              "  </svg>\n",
              "    </button>\n",
              "\n",
              "  <style>\n",
              "    .colab-df-container {\n",
              "      display:flex;\n",
              "      gap: 12px;\n",
              "    }\n",
              "\n",
              "    .colab-df-convert {\n",
              "      background-color: #E8F0FE;\n",
              "      border: none;\n",
              "      border-radius: 50%;\n",
              "      cursor: pointer;\n",
              "      display: none;\n",
              "      fill: #1967D2;\n",
              "      height: 32px;\n",
              "      padding: 0 0 0 0;\n",
              "      width: 32px;\n",
              "    }\n",
              "\n",
              "    .colab-df-convert:hover {\n",
              "      background-color: #E2EBFA;\n",
              "      box-shadow: 0px 1px 2px rgba(60, 64, 67, 0.3), 0px 1px 3px 1px rgba(60, 64, 67, 0.15);\n",
              "      fill: #174EA6;\n",
              "    }\n",
              "\n",
              "    .colab-df-buttons div {\n",
              "      margin-bottom: 4px;\n",
              "    }\n",
              "\n",
              "    [theme=dark] .colab-df-convert {\n",
              "      background-color: #3B4455;\n",
              "      fill: #D2E3FC;\n",
              "    }\n",
              "\n",
              "    [theme=dark] .colab-df-convert:hover {\n",
              "      background-color: #434B5C;\n",
              "      box-shadow: 0px 1px 3px 1px rgba(0, 0, 0, 0.15);\n",
              "      filter: drop-shadow(0px 1px 2px rgba(0, 0, 0, 0.3));\n",
              "      fill: #FFFFFF;\n",
              "    }\n",
              "  </style>\n",
              "\n",
              "    <script>\n",
              "      const buttonEl =\n",
              "        document.querySelector('#df-d5ef802d-cc0c-42a3-91ad-547d495e12c6 button.colab-df-convert');\n",
              "      buttonEl.style.display =\n",
              "        google.colab.kernel.accessAllowed ? 'block' : 'none';\n",
              "\n",
              "      async function convertToInteractive(key) {\n",
              "        const element = document.querySelector('#df-d5ef802d-cc0c-42a3-91ad-547d495e12c6');\n",
              "        const dataTable =\n",
              "          await google.colab.kernel.invokeFunction('convertToInteractive',\n",
              "                                                    [key], {});\n",
              "        if (!dataTable) return;\n",
              "\n",
              "        const docLinkHtml = 'Like what you see? Visit the ' +\n",
              "          '<a target=\"_blank\" href=https://colab.research.google.com/notebooks/data_table.ipynb>data table notebook</a>'\n",
              "          + ' to learn more about interactive tables.';\n",
              "        element.innerHTML = '';\n",
              "        dataTable['output_type'] = 'display_data';\n",
              "        await google.colab.output.renderOutput(dataTable, element);\n",
              "        const docLink = document.createElement('div');\n",
              "        docLink.innerHTML = docLinkHtml;\n",
              "        element.appendChild(docLink);\n",
              "      }\n",
              "    </script>\n",
              "  </div>\n",
              "\n",
              "\n",
              "<div id=\"df-fb46e80a-869c-4ca3-9a6f-bef35f2b42cf\">\n",
              "  <button class=\"colab-df-quickchart\" onclick=\"quickchart('df-fb46e80a-869c-4ca3-9a6f-bef35f2b42cf')\"\n",
              "            title=\"Suggest charts.\"\n",
              "            style=\"display:none;\">\n",
              "\n",
              "<svg xmlns=\"http://www.w3.org/2000/svg\" height=\"24px\"viewBox=\"0 0 24 24\"\n",
              "     width=\"24px\">\n",
              "    <g>\n",
              "        <path d=\"M19 3H5c-1.1 0-2 .9-2 2v14c0 1.1.9 2 2 2h14c1.1 0 2-.9 2-2V5c0-1.1-.9-2-2-2zM9 17H7v-7h2v7zm4 0h-2V7h2v10zm4 0h-2v-4h2v4z\"/>\n",
              "    </g>\n",
              "</svg>\n",
              "  </button>\n",
              "\n",
              "<style>\n",
              "  .colab-df-quickchart {\n",
              "    background-color: #E8F0FE;\n",
              "    border: none;\n",
              "    border-radius: 50%;\n",
              "    cursor: pointer;\n",
              "    display: none;\n",
              "    fill: #1967D2;\n",
              "    height: 32px;\n",
              "    padding: 0 0 0 0;\n",
              "    width: 32px;\n",
              "  }\n",
              "\n",
              "  .colab-df-quickchart:hover {\n",
              "    background-color: #E2EBFA;\n",
              "    box-shadow: 0px 1px 2px rgba(60, 64, 67, 0.3), 0px 1px 3px 1px rgba(60, 64, 67, 0.15);\n",
              "    fill: #174EA6;\n",
              "  }\n",
              "\n",
              "  [theme=dark] .colab-df-quickchart {\n",
              "    background-color: #3B4455;\n",
              "    fill: #D2E3FC;\n",
              "  }\n",
              "\n",
              "  [theme=dark] .colab-df-quickchart:hover {\n",
              "    background-color: #434B5C;\n",
              "    box-shadow: 0px 1px 3px 1px rgba(0, 0, 0, 0.15);\n",
              "    filter: drop-shadow(0px 1px 2px rgba(0, 0, 0, 0.3));\n",
              "    fill: #FFFFFF;\n",
              "  }\n",
              "</style>\n",
              "\n",
              "  <script>\n",
              "    async function quickchart(key) {\n",
              "      const charts = await google.colab.kernel.invokeFunction(\n",
              "          'suggestCharts', [key], {});\n",
              "    }\n",
              "    (() => {\n",
              "      let quickchartButtonEl =\n",
              "        document.querySelector('#df-fb46e80a-869c-4ca3-9a6f-bef35f2b42cf button');\n",
              "      quickchartButtonEl.style.display =\n",
              "        google.colab.kernel.accessAllowed ? 'block' : 'none';\n",
              "    })();\n",
              "  </script>\n",
              "</div>\n",
              "    </div>\n",
              "  </div>\n"
            ]
          },
          "metadata": {},
          "execution_count": 36
        }
      ],
      "source": [
        "df.corr()"
      ]
    },
    {
      "cell_type": "code",
      "execution_count": null,
      "metadata": {
        "colab": {
          "base_uri": "https://localhost:8080/",
          "height": 819
        },
        "id": "bQR2JcqWuplH",
        "outputId": "16bcef30-8dcf-47d5-fc4c-62cdbfdfa395"
      },
      "outputs": [
        {
          "output_type": "execute_result",
          "data": {
            "text/plain": [
              "<Axes: >"
            ]
          },
          "metadata": {},
          "execution_count": 71
        },
        {
          "output_type": "display_data",
          "data": {
            "text/plain": [
              "<Figure size 1500x800 with 2 Axes>"
            ],
            "image/png": "[encoded data removed]"
          },
          "metadata": {}
        }
      ],
      "source": [
        "plt.figure(figsize=(15,8))\n",
        "sns.heatmap(df.corr(), annot=True)"
      ]
    },
    {
      "cell_type": "markdown",
      "metadata": {
        "id": "mNA-wROGDKdK"
      },
      "source": [
        " From the heatmap, it can be observed that there is strong positive and negative\n",
        "correlations between some pairs of variables in the dataset. The strongest correlations are\n",
        "found:\n",
        "• Is Laundering and Time,\n",
        "• Is Laundering and Account.1,\n",
        "Although these correlations are relatively high, the risk of multicollinearity is not expected\n",
        "to be significant. Overall, the heatmap suggests that there is no correlation betwwen Is Laundering and amount paid and received"
      ]
    },
    {
      "cell_type": "markdown",
      "metadata": {
        "id": "msoxWCBhwQSX"
      },
      "source": [
        "Showing Correlation Between Is Laundering (Target variable) and other independent variables.\n"
      ]
    },
    {
      "cell_type": "code",
      "execution_count": null,
      "metadata": {
        "id": "3CXQPMvVwts8"
      },
      "outputs": [],
      "source": [
        "Correlation= df.corr()"
      ]
    },
    {
      "cell_type": "code",
      "execution_count": null,
      "metadata": {
        "colab": {
          "base_uri": "https://localhost:8080/"
        },
        "id": "GtaeuggBxtDs",
        "outputId": "a0bd5c31-213f-4b1a-85c6-d40b0a15a633"
      },
      "outputs": [
        {
          "output_type": "execute_result",
          "data": {
            "text/plain": [
              "Timestamp             0.807534\n",
              "From Bank             0.402241\n",
              "Account               0.548469\n",
              "To Bank               0.403004\n",
              "Account.1             0.676695\n",
              "Amount Received       0.017767\n",
              "Receiving Currency   -0.576813\n",
              "Amount Paid           0.017767\n",
              "Payment Currency     -0.577812\n",
              "Payment Format       -0.864772\n",
              "Is Laundering         1.000000\n",
              "Name: Is Laundering, dtype: float64"
            ]
          },
          "metadata": {},
          "execution_count": 39
        }
      ],
      "source": [
        "Correlation[\"Is Laundering\"]"
      ]
    },
    {
      "cell_type": "markdown",
      "metadata": {
        "id": "FKoVWOvW1cCb"
      },
      "source": [
        "Spliting Dataset for Training"
      ]
    },
    {
      "cell_type": "markdown",
      "metadata": {
        "id": "_hw2aAidghP8"
      },
      "source": [
        "**MACHINE LEARNING**"
      ]
    },
    {
      "cell_type": "code",
      "execution_count": null,
      "metadata": {
        "id": "ur7RUgck1iy_"
      },
      "outputs": [],
      "source": [
        "x_train, x_test, y_train, y_test = train_test_split(df.drop('Is Laundering', axis=1), df['Is Laundering'], test_size=0.2, random_state=42)"
      ]
    },
    {
      "cell_type": "code",
      "execution_count": null,
      "metadata": {
        "id": "alfSTRJiRjwp"
      },
      "outputs": [],
      "source": [
        "# Standardization method\n",
        "from sklearn.preprocessing import StandardScaler"
      ]
    },
    {
      "cell_type": "code",
      "execution_count": null,
      "metadata": {
        "id": "LOq_thnyR5Mq"
      },
      "outputs": [],
      "source": [
        "# Instantiate the Scaler\n",
        "scaler = StandardScaler()"
      ]
    },
    {
      "cell_type": "code",
      "execution_count": null,
      "metadata": {
        "colab": {
          "base_uri": "https://localhost:8080/",
          "height": 206
        },
        "id": "knJqsEJLf0-c",
        "outputId": "b9ab00ef-d591-4478-8369-643dcf16fd68"
      },
      "outputs": [
        {
          "output_type": "execute_result",
          "data": {
            "text/plain": [
              "         Timestamp  From Bank  Account  To Bank  Account.1  Amount Received  \\\n",
              "2064799        989         70       10       10       8711        -0.016615   \n",
              "2611992       2375      27241     6903    16871       9325        -0.016605   \n",
              "3686745       2569      15447     8586   225156       8839        -0.016617   \n",
              "2112             8       1601     1965     1601       1758        -0.016618   \n",
              "4738            23        220     3920      220       3600        -0.014781   \n",
              "\n",
              "         Receiving Currency  Amount Paid  Payment Currency  Payment Format  \n",
              "2064799                   2    -0.016615                 2               4  \n",
              "2611992                   4    -0.016605                 4               0  \n",
              "3686745                  12    -0.016617                12               0  \n",
              "2112                     12    -0.016618                12               5  \n",
              "4738                     12    -0.014781                12               5  "
            ],
            "text/html": [
              "\n",
              "  <div id=\"df-071ff240-44d6-4125-8030-0981807758ed\" class=\"colab-df-container\">\n",
              "    <div>\n",
              "<style scoped>\n",
              "    .dataframe tbody tr th:only-of-type {\n",
              "        vertical-align: middle;\n",
              "    }\n",
              "\n",
              "    .dataframe tbody tr th {\n",
              "        vertical-align: top;\n",
              "    }\n",
              "\n",
              "    .dataframe thead th {\n",
              "        text-align: right;\n",
              "    }\n",
              "</style>\n",
              "<table border=\"1\" class=\"dataframe\">\n",
              "  <thead>\n",
              "    <tr style=\"text-align: right;\">\n",
              "      <th></th>\n",
              "      <th>Timestamp</th>\n",
              "      <th>From Bank</th>\n",
              "      <th>Account</th>\n",
              "      <th>To Bank</th>\n",
              "      <th>Account.1</th>\n",
              "      <th>Amount Received</th>\n",
              "      <th>Receiving Currency</th>\n",
              "      <th>Amount Paid</th>\n",
              "      <th>Payment Currency</th>\n",
              "      <th>Payment Format</th>\n",
              "    </tr>\n",
              "  </thead>\n",
              "  <tbody>\n",
              "    <tr>\n",
              "      <th>2064799</th>\n",
              "      <td>989</td>\n",
              "      <td>70</td>\n",
              "      <td>10</td>\n",
              "      <td>10</td>\n",
              "      <td>8711</td>\n",
              "      <td>-0.016615</td>\n",
              "      <td>2</td>\n",
              "      <td>-0.016615</td>\n",
              "      <td>2</td>\n",
              "      <td>4</td>\n",
              "    </tr>\n",
              "    <tr>\n",
              "      <th>2611992</th>\n",
              "      <td>2375</td>\n",
              "      <td>27241</td>\n",
              "      <td>6903</td>\n",
              "      <td>16871</td>\n",
              "      <td>9325</td>\n",
              "      <td>-0.016605</td>\n",
              "      <td>4</td>\n",
              "      <td>-0.016605</td>\n",
              "      <td>4</td>\n",
              "      <td>0</td>\n",
              "    </tr>\n",
              "    <tr>\n",
              "      <th>3686745</th>\n",
              "      <td>2569</td>\n",
              "      <td>15447</td>\n",
              "      <td>8586</td>\n",
              "      <td>225156</td>\n",
              "      <td>8839</td>\n",
              "      <td>-0.016617</td>\n",
              "      <td>12</td>\n",
              "      <td>-0.016617</td>\n",
              "      <td>12</td>\n",
              "      <td>0</td>\n",
              "    </tr>\n",
              "    <tr>\n",
              "      <th>2112</th>\n",
              "      <td>8</td>\n",
              "      <td>1601</td>\n",
              "      <td>1965</td>\n",
              "      <td>1601</td>\n",
              "      <td>1758</td>\n",
              "      <td>-0.016618</td>\n",
              "      <td>12</td>\n",
              "      <td>-0.016618</td>\n",
              "      <td>12</td>\n",
              "      <td>5</td>\n",
              "    </tr>\n",
              "    <tr>\n",
              "      <th>4738</th>\n",
              "      <td>23</td>\n",
              "      <td>220</td>\n",
              "      <td>3920</td>\n",
              "      <td>220</td>\n",
              "      <td>3600</td>\n",
              "      <td>-0.014781</td>\n",
              "      <td>12</td>\n",
              "      <td>-0.014781</td>\n",
              "      <td>12</td>\n",
              "      <td>5</td>\n",
              "    </tr>\n",
              "  </tbody>\n",
              "</table>\n",
              "</div>\n",
              "    <div class=\"colab-df-buttons\">\n",
              "\n",
              "  <div class=\"colab-df-container\">\n",
              "    <button class=\"colab-df-convert\" onclick=\"convertToInteractive('df-071ff240-44d6-4125-8030-0981807758ed')\"\n",
              "            title=\"Convert this dataframe to an interactive table.\"\n",
              "            style=\"display:none;\">\n",
              "\n",
              "  <svg xmlns=\"http://www.w3.org/2000/svg\" height=\"24px\" viewBox=\"0 -960 960 960\">\n",
              "    <path d=\"M120-120v-720h720v720H120Zm60-500h600v-160H180v160Zm220 220h160v-160H400v160Zm0 220h160v-160H400v160ZM180-400h160v-160H180v160Zm440 0h160v-160H620v160ZM180-180h160v-160H180v160Zm440 0h160v-160H620v160Z\"/>\n",
              "  </svg>\n",
              "    </button>\n",
              "\n",
              "  <style>\n",
              "    .colab-df-container {\n",
              "      display:flex;\n",
              "      gap: 12px;\n",
              "    }\n",
              "\n",
              "    .colab-df-convert {\n",
              "      background-color: #E8F0FE;\n",
              "      border: none;\n",
              "      border-radius: 50%;\n",
              "      cursor: pointer;\n",
              "      display: none;\n",
              "      fill: #1967D2;\n",
              "      height: 32px;\n",
              "      padding: 0 0 0 0;\n",
              "      width: 32px;\n",
              "    }\n",
              "\n",
              "    .colab-df-convert:hover {\n",
              "      background-color: #E2EBFA;\n",
              "      box-shadow: 0px 1px 2px rgba(60, 64, 67, 0.3), 0px 1px 3px 1px rgba(60, 64, 67, 0.15);\n",
              "      fill: #174EA6;\n",
              "    }\n",
              "\n",
              "    .colab-df-buttons div {\n",
              "      margin-bottom: 4px;\n",
              "    }\n",
              "\n",
              "    [theme=dark] .colab-df-convert {\n",
              "      background-color: #3B4455;\n",
              "      fill: #D2E3FC;\n",
              "    }\n",
              "\n",
              "    [theme=dark] .colab-df-convert:hover {\n",
              "      background-color: #434B5C;\n",
              "      box-shadow: 0px 1px 3px 1px rgba(0, 0, 0, 0.15);\n",
              "      filter: drop-shadow(0px 1px 2px rgba(0, 0, 0, 0.3));\n",
              "      fill: #FFFFFF;\n",
              "    }\n",
              "  </style>\n",
              "\n",
              "    <script>\n",
              "      const buttonEl =\n",
              "        document.querySelector('#df-071ff240-44d6-4125-8030-0981807758ed button.colab-df-convert');\n",
              "      buttonEl.style.display =\n",
              "        google.colab.kernel.accessAllowed ? 'block' : 'none';\n",
              "\n",
              "      async function convertToInteractive(key) {\n",
              "        const element = document.querySelector('#df-071ff240-44d6-4125-8030-0981807758ed');\n",
              "        const dataTable =\n",
              "          await google.colab.kernel.invokeFunction('convertToInteractive',\n",
              "                                                    [key], {});\n",
              "        if (!dataTable) return;\n",
              "\n",
              "        const docLinkHtml = 'Like what you see? Visit the ' +\n",
              "          '<a target=\"_blank\" href=https://colab.research.google.com/notebooks/data_table.ipynb>data table notebook</a>'\n",
              "          + ' to learn more about interactive tables.';\n",
              "        element.innerHTML = '';\n",
              "        dataTable['output_type'] = 'display_data';\n",
              "        await google.colab.output.renderOutput(dataTable, element);\n",
              "        const docLink = document.createElement('div');\n",
              "        docLink.innerHTML = docLinkHtml;\n",
              "        element.appendChild(docLink);\n",
              "      }\n",
              "    </script>\n",
              "  </div>\n",
              "\n",
              "\n",
              "<div id=\"df-d1be9c2e-809d-43fa-9384-635c6a984a76\">\n",
              "  <button class=\"colab-df-quickchart\" onclick=\"quickchart('df-d1be9c2e-809d-43fa-9384-635c6a984a76')\"\n",
              "            title=\"Suggest charts.\"\n",
              "            style=\"display:none;\">\n",
              "\n",
              "<svg xmlns=\"http://www.w3.org/2000/svg\" height=\"24px\"viewBox=\"0 0 24 24\"\n",
              "     width=\"24px\">\n",
              "    <g>\n",
              "        <path d=\"M19 3H5c-1.1 0-2 .9-2 2v14c0 1.1.9 2 2 2h14c1.1 0 2-.9 2-2V5c0-1.1-.9-2-2-2zM9 17H7v-7h2v7zm4 0h-2V7h2v10zm4 0h-2v-4h2v4z\"/>\n",
              "    </g>\n",
              "</svg>\n",
              "  </button>\n",
              "\n",
              "<style>\n",
              "  .colab-df-quickchart {\n",
              "    background-color: #E8F0FE;\n",
              "    border: none;\n",
              "    border-radius: 50%;\n",
              "    cursor: pointer;\n",
              "    display: none;\n",
              "    fill: #1967D2;\n",
              "    height: 32px;\n",
              "    padding: 0 0 0 0;\n",
              "    width: 32px;\n",
              "  }\n",
              "\n",
              "  .colab-df-quickchart:hover {\n",
              "    background-color: #E2EBFA;\n",
              "    box-shadow: 0px 1px 2px rgba(60, 64, 67, 0.3), 0px 1px 3px 1px rgba(60, 64, 67, 0.15);\n",
              "    fill: #174EA6;\n",
              "  }\n",
              "\n",
              "  [theme=dark] .colab-df-quickchart {\n",
              "    background-color: #3B4455;\n",
              "    fill: #D2E3FC;\n",
              "  }\n",
              "\n",
              "  [theme=dark] .colab-df-quickchart:hover {\n",
              "    background-color: #434B5C;\n",
              "    box-shadow: 0px 1px 3px 1px rgba(0, 0, 0, 0.15);\n",
              "    filter: drop-shadow(0px 1px 2px rgba(0, 0, 0, 0.3));\n",
              "    fill: #FFFFFF;\n",
              "  }\n",
              "</style>\n",
              "\n",
              "  <script>\n",
              "    async function quickchart(key) {\n",
              "      const charts = await google.colab.kernel.invokeFunction(\n",
              "          'suggestCharts', [key], {});\n",
              "    }\n",
              "    (() => {\n",
              "      let quickchartButtonEl =\n",
              "        document.querySelector('#df-d1be9c2e-809d-43fa-9384-635c6a984a76 button');\n",
              "      quickchartButtonEl.style.display =\n",
              "        google.colab.kernel.accessAllowed ? 'block' : 'none';\n",
              "    })();\n",
              "  </script>\n",
              "</div>\n",
              "    </div>\n",
              "  </div>\n"
            ]
          },
          "metadata": {},
          "execution_count": 43
        }
      ],
      "source": [
        "# Fit the data into scaler and transform\n",
        "x_train['Amount Received'] = scaler.fit_transform(x_train[['Amount Received']])\n",
        "x_train['Amount Paid'] = scaler.fit_transform(x_train[['Amount Paid']])\n",
        "\n",
        "x_train. head()"
      ]
    },
    {
      "cell_type": "markdown",
      "metadata": {
        "id": "sp_gwhxc8cDe"
      },
      "source": [
        "**RANDOM FOREST**"
      ]
    },
    {
      "cell_type": "code",
      "execution_count": null,
      "metadata": {
        "id": "e4lzg_wNM9Ip"
      },
      "outputs": [],
      "source": [
        "model = RandomForestClassifier(random_state=5, n_estimators=20)"
      ]
    },
    {
      "cell_type": "code",
      "execution_count": null,
      "metadata": {
        "colab": {
          "base_uri": "https://localhost:8080/",
          "height": 74
        },
        "id": "ldfyKzbFM-9j",
        "outputId": "5a9396ea-67cc-4e2b-bfe1-3448caf4a943"
      },
      "outputs": [
        {
          "output_type": "execute_result",
          "data": {
            "text/plain": [
              "RandomForestClassifier(n_estimators=20, random_state=5)"
            ],
            "text/html": [
              "<style>#sk-container-id-1 {color: black;background-color: white;}#sk-container-id-1 pre{padding: 0;}#sk-container-id-1 div.sk-toggleable {background-color: white;}#sk-container-id-1 label.sk-toggleable__label {cursor: pointer;display: block;width: 100%;margin-bottom: 0;padding: 0.3em;box-sizing: border-box;text-align: center;}#sk-container-id-1 label.sk-toggleable__label-arrow:before {content: \"▸\";float: left;margin-right: 0.25em;color: #696969;}#sk-container-id-1 label.sk-toggleable__label-arrow:hover:before {color: black;}#sk-container-id-1 div.sk-estimator:hover label.sk-toggleable__label-arrow:before {color: black;}#sk-container-id-1 div.sk-toggleable__content {max-height: 0;max-width: 0;overflow: hidden;text-align: left;background-color: #f0f8ff;}#sk-container-id-1 div.sk-toggleable__content pre {margin: 0.2em;color: black;border-radius: 0.25em;background-color: #f0f8ff;}#sk-container-id-1 input.sk-toggleable__control:checked~div.sk-toggleable__content {max-height: 200px;max-width: 100%;overflow: auto;}#sk-container-id-1 input.sk-toggleable__control:checked~label.sk-toggleable__label-arrow:before {content: \"▾\";}#sk-container-id-1 div.sk-estimator input.sk-toggleable__control:checked~label.sk-toggleable__label {background-color: #d4ebff;}#sk-container-id-1 div.sk-label input.sk-toggleable__control:checked~label.sk-toggleable__label {background-color: #d4ebff;}#sk-container-id-1 input.sk-hidden--visually {border: 0;clip: rect(1px 1px 1px 1px);clip: rect(1px, 1px, 1px, 1px);height: 1px;margin: -1px;overflow: hidden;padding: 0;position: absolute;width: 1px;}#sk-container-id-1 div.sk-estimator {font-family: monospace;background-color: #f0f8ff;border: 1px dotted black;border-radius: 0.25em;box-sizing: border-box;margin-bottom: 0.5em;}#sk-container-id-1 div.sk-estimator:hover {background-color: #d4ebff;}#sk-container-id-1 div.sk-parallel-item::after {content: \"\";width: 100%;border-bottom: 1px solid gray;flex-grow: 1;}#sk-container-id-1 div.sk-label:hover label.sk-toggleable__label {background-color: #d4ebff;}#sk-container-id-1 div.sk-serial::before {content: \"\";position: absolute;border-left: 1px solid gray;box-sizing: border-box;top: 0;bottom: 0;left: 50%;z-index: 0;}#sk-container-id-1 div.sk-serial {display: flex;flex-direction: column;align-items: center;background-color: white;padding-right: 0.2em;padding-left: 0.2em;position: relative;}#sk-container-id-1 div.sk-item {position: relative;z-index: 1;}#sk-container-id-1 div.sk-parallel {display: flex;align-items: stretch;justify-content: center;background-color: white;position: relative;}#sk-container-id-1 div.sk-item::before, #sk-container-id-1 div.sk-parallel-item::before {content: \"\";position: absolute;border-left: 1px solid gray;box-sizing: border-box;top: 0;bottom: 0;left: 50%;z-index: -1;}#sk-container-id-1 div.sk-parallel-item {display: flex;flex-direction: column;z-index: 1;position: relative;background-color: white;}#sk-container-id-1 div.sk-parallel-item:first-child::after {align-self: flex-end;width: 50%;}#sk-container-id-1 div.sk-parallel-item:last-child::after {align-self: flex-start;width: 50%;}#sk-container-id-1 div.sk-parallel-item:only-child::after {width: 0;}#sk-container-id-1 div.sk-dashed-wrapped {border: 1px dashed gray;margin: 0 0.4em 0.5em 0.4em;box-sizing: border-box;padding-bottom: 0.4em;background-color: white;}#sk-container-id-1 div.sk-label label {font-family: monospace;font-weight: bold;display: inline-block;line-height: 1.2em;}#sk-container-id-1 div.sk-label-container {text-align: center;}#sk-container-id-1 div.sk-container {/* jupyter's `normalize.less` sets `[hidden] { display: none; }` but bootstrap.min.css set `[hidden] { display: none !important; }` so we also need the `!important` here to be able to override the default hidden behavior on the sphinx rendered scikit-learn.org. See: https://github.com/scikit-learn/scikit-learn/issues/21755 */display: inline-block !important;position: relative;}#sk-container-id-1 div.sk-text-repr-fallback {display: none;}</style><div id=\"sk-container-id-1\" class=\"sk-top-container\"><div class=\"sk-text-repr-fallback\"><pre>RandomForestClassifier(n_estimators=20, random_state=5)</pre><b>In a Jupyter environment, please rerun this cell to show the HTML representation or trust the notebook. <br />On GitHub, the HTML representation is unable to render, please try loading this page with nbviewer.org.</b></div><div class=\"sk-container\" hidden><div class=\"sk-item\"><div class=\"sk-estimator sk-toggleable\"><input class=\"sk-toggleable__control sk-hidden--visually\" id=\"sk-estimator-id-1\" type=\"checkbox\" checked><label for=\"sk-estimator-id-1\" class=\"sk-toggleable__label sk-toggleable__label-arrow\">RandomForestClassifier</label><div class=\"sk-toggleable__content\"><pre>RandomForestClassifier(n_estimators=20, random_state=5)</pre></div></div></div></div></div>"
            ]
          },
          "metadata": {},
          "execution_count": 45
        }
      ],
      "source": [
        "model.fit(x_train, y_train)"
      ]
    },
    {
      "cell_type": "code",
      "execution_count": null,
      "metadata": {
        "id": "CAzoR_CgNLDA"
      },
      "outputs": [],
      "source": [
        "rf_predicted = model.predict(x_test)"
      ]
    },
    {
      "cell_type": "code",
      "execution_count": null,
      "metadata": {
        "colab": {
          "base_uri": "https://localhost:8080/"
        },
        "id": "udFVh-_PNaQN",
        "outputId": "694c7f04-d9c3-4b19-9c37-45964bb094d0"
      },
      "outputs": [
        {
          "output_type": "execute_result",
          "data": {
            "text/plain": [
              "array([0, 0, 1, ..., 1, 1, 0])"
            ]
          },
          "metadata": {},
          "execution_count": 47
        }
      ],
      "source": [
        "rf_predicted"
      ]
    },
    {
      "cell_type": "code",
      "execution_count": null,
      "metadata": {
        "id": "CVuRfWyDNkxF"
      },
      "outputs": [],
      "source": [
        "probs = model.predict_proba(x_test)"
      ]
    },
    {
      "cell_type": "code",
      "execution_count": null,
      "metadata": {
        "colab": {
          "base_uri": "https://localhost:8080/"
        },
        "id": "uofwAzGKN9CR",
        "outputId": "384a1ee4-7b0d-4fe2-bfcd-b060c86f631f"
      },
      "outputs": [
        {
          "output_type": "stream",
          "name": "stdout",
          "text": [
            "Accuracy Score: 0.999\n"
          ]
        }
      ],
      "source": [
        "print(f'Accuracy Score: {accuracy_score(y_test, rf_predicted):0.3f}')"
      ]
    },
    {
      "cell_type": "code",
      "execution_count": null,
      "metadata": {
        "colab": {
          "base_uri": "https://localhost:8080/",
          "height": 420
        },
        "id": "tKIx90IE1yBm",
        "outputId": "7065094c-b528-44dc-adb9-3ace1439feb2"
      },
      "outputs": [
        {
          "output_type": "stream",
          "name": "stdout",
          "text": [
            "Random Forest Confusion matrix for the test set\n",
            "[[1587    0]\n",
            " [   3 1046]]\n"
          ]
        },
        {
          "output_type": "display_data",
          "data": {
            "text/plain": [
              "<Figure size 400x400 with 1 Axes>"
            ],
            "image/png": "[encoded data removed]"
          },
          "metadata": {}
        }
      ],
      "source": [
        "print(\"Random Forest Confusion matrix for the test set\")\n",
        "fig = plt.figure(figsize=(4,4))\n",
        "print(confusion_matrix(y_test, rf_predicted))\n",
        "conf_mat = confusion_matrix(y_test,rf_predicted)\n",
        "sns.heatmap(conf_mat, square=True, annot=True, cmap=cls, fmt='d', cbar=False)\n",
        "\n",
        "plt.show()"
      ]
    },
    {
      "cell_type": "code",
      "execution_count": null,
      "metadata": {
        "colab": {
          "base_uri": "https://localhost:8080/",
          "height": 482
        },
        "id": "PoquyFdfRRrk",
        "outputId": "8b462380-bd6e-4926-989a-bbbf27b3b563"
      },
      "outputs": [
        {
          "output_type": "stream",
          "name": "stdout",
          "text": [
            "============Confusion matrix===========\n",
            "\n"
          ]
        },
        {
          "output_type": "execute_result",
          "data": {
            "text/plain": [
              "<Axes: >"
            ]
          },
          "metadata": {},
          "execution_count": 51
        },
        {
          "output_type": "display_data",
          "data": {
            "text/plain": [
              "<Figure size 640x480 with 2 Axes>"
            ],
            "image/png": "[encoded data removed]"
          },
          "metadata": {}
        }
      ],
      "source": [
        "cf_matrix = confusion_matrix(y_test, rf_predicted)\n",
        "print('============Confusion matrix===========\\n')\n",
        "sns.heatmap(cf_matrix, annot=True)"
      ]
    },
    {
      "cell_type": "code",
      "execution_count": null,
      "metadata": {
        "colab": {
          "base_uri": "https://localhost:8080/"
        },
        "id": "PSMplVSHPorL",
        "outputId": "a72ccca2-1556-45d5-80a0-55aed7973d14"
      },
      "outputs": [
        {
          "output_type": "stream",
          "name": "stdout",
          "text": [
            "Precision: [0.39795144 1.         1.        ]\n",
            "Recall: [1.         0.99714013 0.        ]\n"
          ]
        }
      ],
      "source": [
        "# Obtain precision and recall\n",
        "precision, recall, _ = precision_recall_curve(y_test, rf_predicted)\n",
        "print(f'Precision: {precision}\\nRecall: {recall}')"
      ]
    },
    {
      "cell_type": "code",
      "execution_count": null,
      "metadata": {
        "colab": {
          "base_uri": "https://localhost:8080/"
        },
        "id": "wM2UHasERh_X",
        "outputId": "e3467dbc-7ddb-46bb-f403-ec8de52b3e76"
      },
      "outputs": [
        {
          "output_type": "execute_result",
          "data": {
            "text/plain": [
              "0.9982782214725782"
            ]
          },
          "metadata": {},
          "execution_count": 53
        }
      ],
      "source": [
        "# Calculate average precision and the PR curve\n",
        "average_precision = average_precision_score(y_test, rf_predicted)\n",
        "average_precision"
      ]
    },
    {
      "cell_type": "code",
      "execution_count": null,
      "metadata": {
        "colab": {
          "base_uri": "https://localhost:8080/"
        },
        "id": "mEkCGN9_Rmrn",
        "outputId": "c99b4a56-babf-41c9-ee5b-64ad102798d3"
      },
      "outputs": [
        {
          "output_type": "stream",
          "name": "stdout",
          "text": [
            "\n",
            "Classification Report:\n",
            "              precision    recall  f1-score   support\n",
            "\n",
            "           0       1.00      1.00      1.00      1587\n",
            "           1       1.00      1.00      1.00      1049\n",
            "\n",
            "    accuracy                           1.00      2636\n",
            "   macro avg       1.00      1.00      1.00      2636\n",
            "weighted avg       1.00      1.00      1.00      2636\n",
            "\n"
          ]
        }
      ],
      "source": [
        "print('\\nClassification Report:')\n",
        "print(classification_report(y_test, rf_predicted))"
      ]
    },
    {
      "cell_type": "markdown",
      "metadata": {
        "id": "iG-vrLG_OqKX"
      },
      "source": [
        "The model predicts 1046 cases of money laundering, out of which 1049 are actual fraud. There is only 1 false positive. This is really good, and as a result you have a very high precision score. However the model miss 3 cases of actual fraud.\n"
      ]
    },
    {
      "cell_type": "markdown",
      "metadata": {
        "id": "Ip4eKo-lWIFN"
      },
      "source": [
        "GridSearchCV for hyperparameter tuning"
      ]
    },
    {
      "cell_type": "code",
      "execution_count": null,
      "metadata": {
        "colab": {
          "base_uri": "https://localhost:8080/"
        },
        "id": "JuID9_ODUfYn",
        "outputId": "496b7101-fe71-4213-b1f7-0dbdc72fe217"
      },
      "outputs": [
        {
          "output_type": "stream",
          "name": "stderr",
          "text": [
            "/usr/local/lib/python3.10/dist-packages/sklearn/model_selection/_search.py:952: UserWarning: One or more of the test scores are non-finite: [nan nan nan nan nan nan nan nan nan nan nan nan nan nan nan nan nan nan\n",
            " nan nan nan nan nan nan nan nan nan nan nan nan nan nan nan nan nan nan\n",
            " nan nan nan nan nan nan nan nan nan nan nan nan nan nan nan nan nan nan\n",
            " nan nan nan nan nan nan nan nan nan nan nan nan nan nan nan nan nan nan\n",
            " nan nan nan nan nan nan nan nan nan nan nan nan nan nan nan nan nan nan\n",
            " nan nan nan nan nan nan nan nan nan nan nan nan nan nan nan nan nan nan\n",
            " nan nan nan nan nan nan nan nan nan nan nan nan nan nan nan nan nan nan\n",
            " nan nan nan nan nan nan nan nan nan nan nan nan nan nan nan nan nan nan\n",
            " nan nan nan nan nan nan nan nan nan nan nan nan nan nan nan nan nan nan\n",
            " nan nan nan nan nan nan nan nan nan nan nan nan nan nan nan nan nan nan\n",
            " nan nan nan nan nan nan nan nan nan nan nan nan nan nan nan nan nan nan\n",
            " nan nan nan nan nan nan nan nan nan nan nan nan nan nan nan nan nan nan\n",
            " nan nan nan nan nan nan nan nan nan nan nan nan nan nan nan nan nan nan\n",
            " nan nan nan nan nan nan nan nan nan nan nan nan nan nan nan nan nan nan\n",
            " nan nan nan nan nan nan nan nan nan nan nan nan nan nan nan nan nan nan\n",
            " nan nan nan nan nan nan nan nan nan nan nan nan nan nan nan nan nan nan]\n",
            "  warnings.warn(\n"
          ]
        },
        {
          "output_type": "execute_result",
          "data": {
            "text/plain": [
              "{'bootstrap': True,\n",
              " 'max_depth': 80,\n",
              " 'max_features': 3,\n",
              " 'min_samples_leaf': 5,\n",
              " 'min_samples_split': 12,\n",
              " 'n_estimators': 100}"
            ]
          },
          "metadata": {},
          "execution_count": 55
        }
      ],
      "source": [
        "# Create the parameter grid\n",
        "param_grid = {'max_depth': [80, 90, 100, 110],\n",
        "              'max_features': [2, 3],\n",
        "              'min_samples_leaf': [3, 4, 5],\n",
        "              'min_samples_split': [8, 10, 12],\n",
        "              'n_estimators': [100, 200, 300, 1000]}\n",
        "\n",
        "              # Define which model to use\n",
        "model = RandomForestRegressor()\n",
        "\n",
        "# Instantiate the grid search model\n",
        "grid_search_model = GridSearchCV(estimator = model,\n",
        "                                 param_grid = param_grid,\n",
        "                                 cv = 5,\n",
        "                                 n_jobs = -1,\n",
        "                                 scoring='f1')\n",
        "\n",
        "# Fit the grid search to the data\n",
        "resultsgd=grid_search_model.fit(x_train, y_train)\n",
        "\n",
        "# Get the optimal parameters\n",
        "grid_search_model.best_params_\n",
        "\n",
        "{'bootstrap': True,\n",
        " 'max_depth': 80,\n",
        " 'max_features': 3,\n",
        " 'min_samples_leaf': 5,\n",
        " 'min_samples_split': 12,\n",
        " 'n_estimators': 100}\n",
        "\n"
      ]
    },
    {
      "cell_type": "code",
      "execution_count": null,
      "metadata": {
        "colab": {
          "base_uri": "https://localhost:8080/"
        },
        "id": "9prywseAEgiZ",
        "outputId": "dfc548bc-c6bf-4842-f0e1-c22f6a0f1806"
      },
      "outputs": [
        {
          "output_type": "stream",
          "name": "stderr",
          "text": [
            "/usr/local/lib/python3.10/dist-packages/sklearn/model_selection/_search.py:952: UserWarning: One or more of the test scores are non-finite: [nan nan nan nan nan nan nan nan nan nan nan nan nan nan nan nan nan nan\n",
            " nan nan nan nan nan nan nan nan nan nan nan nan nan nan nan nan nan nan\n",
            " nan nan nan nan nan nan nan nan nan nan nan nan nan nan nan nan nan nan\n",
            " nan nan nan nan nan nan nan nan nan nan nan nan nan nan nan nan nan nan\n",
            " nan nan nan nan nan nan nan nan nan nan nan nan nan nan nan nan nan nan\n",
            " nan nan nan nan nan nan nan nan nan nan nan nan nan nan nan nan nan nan\n",
            " nan nan nan nan nan nan nan nan nan nan nan nan nan nan nan nan nan nan\n",
            " nan nan nan nan nan nan nan nan nan nan nan nan nan nan nan nan nan nan\n",
            " nan nan nan nan nan nan nan nan nan nan nan nan nan nan nan nan nan nan\n",
            " nan nan nan nan nan nan nan nan nan nan nan nan nan nan nan nan nan nan\n",
            " nan nan nan nan nan nan nan nan nan nan nan nan nan nan nan nan nan nan\n",
            " nan nan nan nan nan nan nan nan nan nan nan nan nan nan nan nan nan nan\n",
            " nan nan nan nan nan nan nan nan nan nan nan nan nan nan nan nan nan nan\n",
            " nan nan nan nan nan nan nan nan nan nan nan nan nan nan nan nan nan nan\n",
            " nan nan nan nan nan nan nan nan nan nan nan nan nan nan nan nan nan nan\n",
            " nan nan nan nan nan nan nan nan nan nan nan nan nan nan nan nan nan nan]\n",
            "  warnings.warn(\n"
          ]
        }
      ],
      "source": [
        "rf_results= grid_search_model.fit(x_train, y_train)"
      ]
    },
    {
      "cell_type": "code",
      "execution_count": null,
      "metadata": {
        "colab": {
          "base_uri": "https://localhost:8080/"
        },
        "id": "OV1huz0ADek8",
        "outputId": "71167578-40d0-407a-a17d-eab46d8730f0"
      },
      "outputs": [
        {
          "output_type": "stream",
          "name": "stdout",
          "text": [
            "Best Recall Score of Random Forest model: nan\n",
            "Best Hyperparameters of Random Forest model: {'max_depth': 80, 'max_features': 2, 'min_samples_leaf': 3, 'min_samples_split': 8, 'n_estimators': 100}\n"
          ]
        }
      ],
      "source": [
        "print('Best Recall Score of Random Forest model: %s' %resultsgd.best_score_)\n",
        "print('Best Hyperparameters of Random Forest model: %s' % resultsgd.best_params_)"
      ]
    },
    {
      "cell_type": "code",
      "execution_count": null,
      "metadata": {
        "colab": {
          "base_uri": "https://localhost:8080/"
        },
        "id": "XJoI_qwjKdOH",
        "outputId": "ff602d5e-08bb-4d00-f747-df79348665f2"
      },
      "outputs": [
        {
          "output_type": "stream",
          "name": "stdout",
          "text": [
            "ROC Score:\n",
            "0.9998654463127785\n",
            "\n",
            "Classification Report:\n",
            "              precision    recall  f1-score   support\n",
            "\n",
            "           0       1.00      1.00      1.00      1587\n",
            "           1       1.00      1.00      1.00      1049\n",
            "\n",
            "    accuracy                           1.00      2636\n",
            "   macro avg       1.00      1.00      1.00      2636\n",
            "weighted avg       1.00      1.00      1.00      2636\n",
            "\n",
            "\n",
            "Confusion Matrix:\n",
            "[[1587    0]\n",
            " [   3 1046]]\n"
          ]
        }
      ],
      "source": [
        "# Define the model with balanced subsample\n",
        "model = RandomForestClassifier(class_weight='balanced_subsample', random_state=5, n_estimators=100)\n",
        "\n",
        "# Fit your training model to your training set\n",
        "model.fit(x_train, y_train)\n",
        "\n",
        "# Obtain the predicted values and probabilities from the model\n",
        "predicted = model.predict(x_test)\n",
        "probs = model.predict_proba(x_test)\n",
        "\n",
        "# Print the ROC curve, classification report and confusion matrix\n",
        "print('ROC Score:')\n",
        "print(roc_auc_score(y_test, probs[:,1]))\n",
        "print('\\nClassification Report:')\n",
        "print(classification_report(y_test, predicted))\n",
        "print('\\nConfusion Matrix:')\n",
        "print(confusion_matrix(y_test, predicted))"
      ]
    },
    {
      "cell_type": "markdown",
      "metadata": {
        "id": "AcCgt8ItPoRJ"
      },
      "source": [
        "The model results don't improve drastically. The 3 false negatives(cases of money laundering not detected) have not changed, but now we have zero false positives (cases of false money laundering detected). If we mostly care about catching fraud, and not so much about the false positives, this does actually not improve our model at all."
      ]
    },
    {
      "cell_type": "code",
      "execution_count": null,
      "metadata": {
        "id": "GrM8-GEmS1Q6"
      },
      "outputs": [],
      "source": [
        "def get_model_results(x_train: np.ndarray, y_train: np.ndarray,\n",
        "                      x_test: np.ndarray, y_test: np.ndarray, model):\n",
        "    \"\"\"\n",
        "    model: sklearn model (e.g. RandomForestClassifier)\n",
        "    \"\"\"\n",
        "    # Fit your training model to your training set\n",
        "    model.fit(x_train, y_train)\n",
        "\n",
        "    # Obtain the predicted values and probabilities from the model\n",
        "    predicted = model.predict(x_test)\n",
        "\n",
        "    try:\n",
        "        probs = model.predict_proba(x_test)\n",
        "        print('ROC Score:')\n",
        "        print(roc_auc_score(y_test, probs[:,1]))\n",
        "    except AttributeError:\n",
        "        pass\n",
        "         # Print the ROC curve, classification report and confusion matrix\n",
        "    print('\\nClassification Report:')\n",
        "    print(classification_report(y_test, predicted))\n",
        "    print('\\nConfusion Matrix:')\n",
        "    print(confusion_matrix(y_test, predicted))"
      ]
    },
    {
      "cell_type": "code",
      "execution_count": null,
      "metadata": {
        "colab": {
          "base_uri": "https://localhost:8080/"
        },
        "id": "RpNDETrEUMC6",
        "outputId": "63907823-4d63-4802-ef35-999ac36c6f46"
      },
      "outputs": [
        {
          "output_type": "stream",
          "name": "stdout",
          "text": [
            "ROC Score:\n",
            "0.9998330092631804\n",
            "\n",
            "Classification Report:\n",
            "              precision    recall  f1-score   support\n",
            "\n",
            "           0       1.00      1.00      1.00      1587\n",
            "           1       1.00      1.00      1.00      1049\n",
            "\n",
            "    accuracy                           1.00      2636\n",
            "   macro avg       1.00      1.00      1.00      2636\n",
            "weighted avg       1.00      1.00      1.00      2636\n",
            "\n",
            "\n",
            "Confusion Matrix:\n",
            "[[1587    0]\n",
            " [   3 1046]]\n"
          ]
        }
      ],
      "source": [
        "# Change the model options\n",
        "model = RandomForestClassifier(bootstrap=True,\n",
        "                               class_weight={0:1, 1:12},\n",
        "                               criterion='entropy',\n",
        "                               # Change depth of model\n",
        "                               max_depth=10,\n",
        "                               # Change the number of samples in leaf nodes\n",
        "                               min_samples_leaf=10,\n",
        "                               # Change the number of trees to use\n",
        "                               n_estimators=20,\n",
        "                               n_jobs=-1,\n",
        "                               random_state=5)\n",
        "# Run the function get_model_results\n",
        "get_model_results(x_train, y_train, x_test, y_test, model)"
      ]
    },
    {
      "cell_type": "code",
      "execution_count": null,
      "metadata": {
        "id": "knXobRQzC4_L"
      },
      "outputs": [],
      "source": [
        "from sklearn.model_selection import GridSearchCV"
      ]
    },
    {
      "cell_type": "markdown",
      "metadata": {
        "id": "Hf43tuIdW7B6"
      },
      "source": [
        "once GridSearchCV and model are fit to the data, obtain the parameters belonging to the optimal model by using the best_params_ attribute\n"
      ]
    },
    {
      "cell_type": "markdown",
      "metadata": {
        "id": "CBYwPfvRkB_4"
      },
      "source": [
        "**LOGISTIC REGRESSION**"
      ]
    },
    {
      "cell_type": "code",
      "execution_count": null,
      "metadata": {
        "id": "XVekWK7yFJB0"
      },
      "outputs": [],
      "source": [
        "results = pd.DataFrame(columns=['Model Name', 'Accuracy', 'F1-score', 'ROC'])"
      ]
    },
    {
      "cell_type": "code",
      "execution_count": null,
      "metadata": {
        "id": "uIh-z2GHFMRc"
      },
      "outputs": [],
      "source": [
        "# ROC Curve function\n",
        "\n",
        "def draw_roc( actual, probs ):\n",
        "    fpr, tpr, thresholds = metrics.roc_curve( actual, probs,\n",
        "                                              drop_intermediate = False )\n",
        "    auc_score = metrics.roc_auc_score( actual, probs )\n",
        "    plt.figure(figsize=(5, 5))\n",
        "    plt.plot( fpr, tpr, label='ROC curve (area = %0.2f)' % auc_score )\n",
        "    plt.plot([0, 1], [0, 1], 'k--')\n",
        "    plt.xlim([0.0, 1.0])\n",
        "    plt.ylim([0.0, 1.05])\n",
        "    plt.xlabel('False Positive Rate or [1 - True Negative Rate]')\n",
        "    plt.ylabel('True Positive Rate')\n",
        "    plt.title('Receiver operating characteristic example')\n",
        "    plt.legend(loc=\"lower right\")\n",
        "    plt.show()\n",
        "\n",
        "    return None"
      ]
    },
    {
      "cell_type": "code",
      "execution_count": null,
      "metadata": {
        "id": "ibvkSGo0AzST"
      },
      "outputs": [],
      "source": [
        "logistic = LogisticRegression(C=0.01)"
      ]
    },
    {
      "cell_type": "code",
      "execution_count": null,
      "metadata": {
        "id": "6XQnrcsUC0ik"
      },
      "outputs": [],
      "source": [
        "# Fit the model on the train set\n",
        "logistic_model = logistic.fit(x_train, y_train)\n"
      ]
    },
    {
      "cell_type": "code",
      "execution_count": null,
      "metadata": {
        "id": "CBJU3MPlC5ax"
      },
      "outputs": [],
      "source": [
        "# Prepare results function\n",
        "def display_test_results(model_name, model):\n",
        "\n",
        "    # Prediction on the test set\n",
        "    y_test_pred = model.predict(x_test)\n",
        "\n",
        "    # Confusion matrix\n",
        "    print(\"------------------ Confusion Matrix --------------------\")\n",
        "    c_matrix = metrics.confusion_matrix(y_test, y_test_pred)\n",
        "    print(c_matrix)\n",
        "\n",
        "    cm_display = ConfusionMatrixDisplay(confusion_matrix=c_matrix)\n",
        "    cm_display.plot(cmap=plt.cm.Blues)\n",
        "    plt.show()\n",
        "\n",
        "\n",
        "    # classification_report\n",
        "    print(\"------------------ classification_report --------------------\")\n",
        "    print(classification_report(y_test, y_test_pred))\n",
        "\n",
        "    print(\"------------------ More Specific classification_report --------------------\")\n",
        "    TP = c_matrix[1,1] # true positive\n",
        "    TN = c_matrix[0,0] # true negatives\n",
        "    FP = c_matrix[0,1] # false positives\n",
        "    FN = c_matrix[1,0] # false negatives\n",
        "\n",
        "    # Accuracy\n",
        "    print(\"Accuracy:-\",metrics.accuracy_score(y_test, y_test_pred))\n",
        "\n",
        "    # Sensitivity\n",
        "    print(\"Sensitivity:-\",TP / float(TP+FN))\n",
        "\n",
        "# Specificity\n",
        "    print(\"Specificity:-\", TN / float(TN+FP))\n",
        "\n",
        "    # F1 score\n",
        "    print(\"F1-Score:-\", f1_score(y_test, y_test_pred))\n",
        "\n",
        "    # Predicted probability\n",
        "    y_test_pred_proba = model.predict_proba(x_test)[:,1]\n",
        "\n",
        "    # roc_auc\n",
        "    print(\"------------------ ROC --------------------\")\n",
        "    roc_auc = metrics.roc_auc_score(y_test, y_test_pred_proba)\n",
        "\n",
        "    # Plot the ROC curve\n",
        "    draw_roc(y_test, y_test_pred_proba)\n",
        "\n",
        "    # add all metrics score in final result store\n",
        "    results.loc[len(results)] = [model_name, metrics.accuracy_score(y_test, y_test_pred), f1_score(y_test, y_test_pred), roc_auc]\n",
        "\n",
        "    return None"
      ]
    },
    {
      "cell_type": "code",
      "execution_count": null,
      "metadata": {
        "colab": {
          "base_uri": "https://localhost:8080/",
          "height": 1000
        },
        "id": "u5UDxgxTDoN7",
        "outputId": "c0361ba6-84a9-4e6a-b19d-3d2f0971a451"
      },
      "outputs": [
        {
          "name": "stdout",
          "output_type": "stream",
          "text": [
            "------------------ Confusion Matrix --------------------\n",
            "[[ 630  957]\n",
            " [   0 1049]]\n"
          ]
        },
        {
          "data": {
            "image/png": "[encoded data removed]",
            "text/plain": [
              "<Figure size 640x480 with 2 Axes>"
            ]
          },
          "metadata": {},
          "output_type": "display_data"
        },
        {
          "name": "stdout",
          "output_type": "stream",
          "text": [
            "------------------ classification_report --------------------\n",
            "              precision    recall  f1-score   support\n",
            "\n",
            "           0       1.00      0.40      0.57      1587\n",
            "           1       0.52      1.00      0.69      1049\n",
            "\n",
            "    accuracy                           0.64      2636\n",
            "   macro avg       0.76      0.70      0.63      2636\n",
            "weighted avg       0.81      0.64      0.62      2636\n",
            "\n",
            "------------------ More Specific classification_report --------------------\n",
            "Accuracy:- 0.6369499241274659\n",
            "Sensitivity:- 1.0\n",
            "Specificity:- 0.39697542533081287\n",
            "F1-Score:- 0.6867430441898527\n",
            "------------------ ROC --------------------\n"
          ]
        },
        {
          "data": {
            "image/png": "[encoded data removed]",
            "text/plain": [
              "<Figure size 500x500 with 1 Axes>"
            ]
          },
          "metadata": {},
          "output_type": "display_data"
        }
      ],
      "source": [
        "display_test_results(\"Logistic Regression\", logistic_model)"
      ]
    },
    {
      "cell_type": "markdown",
      "metadata": {
        "id": "XeFLq6vzFbL2"
      },
      "source": [
        "ROC on the test set is 0.76 which is not bad."
      ]
    },
    {
      "cell_type": "markdown",
      "metadata": {
        "id": "4dqhuFhA8DBP"
      },
      "source": [
        "**SUPPORT VECTOR MACHINE**"
      ]
    },
    {
      "cell_type": "code",
      "execution_count": null,
      "metadata": {
        "id": "eP2d_NQ38IdF"
      },
      "outputs": [],
      "source": [
        "svc_model = SVC()"
      ]
    },
    {
      "cell_type": "code",
      "execution_count": null,
      "metadata": {
        "colab": {
          "base_uri": "https://localhost:8080/",
          "height": 74
        },
        "id": "qCLZvMHC2hlb",
        "outputId": "6888e3ab-6133-4929-882f-6c15c1f183b3"
      },
      "outputs": [
        {
          "data": {
            "text/html": [
              "<style>#sk-container-id-2 {color: black;background-color: white;}#sk-container-id-2 pre{padding: 0;}#sk-container-id-2 div.sk-toggleable {background-color: white;}#sk-container-id-2 label.sk-toggleable__label {cursor: pointer;display: block;width: 100%;margin-bottom: 0;padding: 0.3em;box-sizing: border-box;text-align: center;}#sk-container-id-2 label.sk-toggleable__label-arrow:before {content: \"▸\";float: left;margin-right: 0.25em;color: #696969;}#sk-container-id-2 label.sk-toggleable__label-arrow:hover:before {color: black;}#sk-container-id-2 div.sk-estimator:hover label.sk-toggleable__label-arrow:before {color: black;}#sk-container-id-2 div.sk-toggleable__content {max-height: 0;max-width: 0;overflow: hidden;text-align: left;background-color: #f0f8ff;}#sk-container-id-2 div.sk-toggleable__content pre {margin: 0.2em;color: black;border-radius: 0.25em;background-color: #f0f8ff;}#sk-container-id-2 input.sk-toggleable__control:checked~div.sk-toggleable__content {max-height: 200px;max-width: 100%;overflow: auto;}#sk-container-id-2 input.sk-toggleable__control:checked~label.sk-toggleable__label-arrow:before {content: \"▾\";}#sk-container-id-2 div.sk-estimator input.sk-toggleable__control:checked~label.sk-toggleable__label {background-color: #d4ebff;}#sk-container-id-2 div.sk-label input.sk-toggleable__control:checked~label.sk-toggleable__label {background-color: #d4ebff;}#sk-container-id-2 input.sk-hidden--visually {border: 0;clip: rect(1px 1px 1px 1px);clip: rect(1px, 1px, 1px, 1px);height: 1px;margin: -1px;overflow: hidden;padding: 0;position: absolute;width: 1px;}#sk-container-id-2 div.sk-estimator {font-family: monospace;background-color: #f0f8ff;border: 1px dotted black;border-radius: 0.25em;box-sizing: border-box;margin-bottom: 0.5em;}#sk-container-id-2 div.sk-estimator:hover {background-color: #d4ebff;}#sk-container-id-2 div.sk-parallel-item::after {content: \"\";width: 100%;border-bottom: 1px solid gray;flex-grow: 1;}#sk-container-id-2 div.sk-label:hover label.sk-toggleable__label {background-color: #d4ebff;}#sk-container-id-2 div.sk-serial::before {content: \"\";position: absolute;border-left: 1px solid gray;box-sizing: border-box;top: 0;bottom: 0;left: 50%;z-index: 0;}#sk-container-id-2 div.sk-serial {display: flex;flex-direction: column;align-items: center;background-color: white;padding-right: 0.2em;padding-left: 0.2em;position: relative;}#sk-container-id-2 div.sk-item {position: relative;z-index: 1;}#sk-container-id-2 div.sk-parallel {display: flex;align-items: stretch;justify-content: center;background-color: white;position: relative;}#sk-container-id-2 div.sk-item::before, #sk-container-id-2 div.sk-parallel-item::before {content: \"\";position: absolute;border-left: 1px solid gray;box-sizing: border-box;top: 0;bottom: 0;left: 50%;z-index: -1;}#sk-container-id-2 div.sk-parallel-item {display: flex;flex-direction: column;z-index: 1;position: relative;background-color: white;}#sk-container-id-2 div.sk-parallel-item:first-child::after {align-self: flex-end;width: 50%;}#sk-container-id-2 div.sk-parallel-item:last-child::after {align-self: flex-start;width: 50%;}#sk-container-id-2 div.sk-parallel-item:only-child::after {width: 0;}#sk-container-id-2 div.sk-dashed-wrapped {border: 1px dashed gray;margin: 0 0.4em 0.5em 0.4em;box-sizing: border-box;padding-bottom: 0.4em;background-color: white;}#sk-container-id-2 div.sk-label label {font-family: monospace;font-weight: bold;display: inline-block;line-height: 1.2em;}#sk-container-id-2 div.sk-label-container {text-align: center;}#sk-container-id-2 div.sk-container {/* jupyter's `normalize.less` sets `[hidden] { display: none; }` but bootstrap.min.css set `[hidden] { display: none !important; }` so we also need the `!important` here to be able to override the default hidden behavior on the sphinx rendered scikit-learn.org. See: https://github.com/scikit-learn/scikit-learn/issues/21755 */display: inline-block !important;position: relative;}#sk-container-id-2 div.sk-text-repr-fallback {display: none;}</style><div id=\"sk-container-id-2\" class=\"sk-top-container\"><div class=\"sk-text-repr-fallback\"><pre>SVC()</pre><b>In a Jupyter environment, please rerun this cell to show the HTML representation or trust the notebook. <br />On GitHub, the HTML representation is unable to render, please try loading this page with nbviewer.org.</b></div><div class=\"sk-container\" hidden><div class=\"sk-item\"><div class=\"sk-estimator sk-toggleable\"><input class=\"sk-toggleable__control sk-hidden--visually\" id=\"sk-estimator-id-2\" type=\"checkbox\" checked><label for=\"sk-estimator-id-2\" class=\"sk-toggleable__label sk-toggleable__label-arrow\">SVC</label><div class=\"sk-toggleable__content\"><pre>SVC()</pre></div></div></div></div></div>"
            ],
            "text/plain": [
              "SVC()"
            ]
          },
          "execution_count": 58,
          "metadata": {},
          "output_type": "execute_result"
        }
      ],
      "source": [
        "svc_model.fit(x_train,y_train)"
      ]
    },
    {
      "cell_type": "code",
      "execution_count": null,
      "metadata": {
        "colab": {
          "base_uri": "https://localhost:8080/"
        },
        "id": "qc_iH2l--tkR",
        "outputId": "9828ded0-5e63-47d8-c2aa-d760d4fc7f42"
      },
      "outputs": [
        {
          "data": {
            "text/plain": [
              "array([1, 0, 1, ..., 0, 1, 1])"
            ]
          },
          "execution_count": 59,
          "metadata": {},
          "output_type": "execute_result"
        }
      ],
      "source": [
        "y3_pred = svc_model.predict(x_test)\n",
        "y3_pred"
      ]
    },
    {
      "cell_type": "code",
      "execution_count": null,
      "metadata": {
        "id": "GAEhh9o9_Bo8"
      },
      "outputs": [],
      "source": [
        "cm_svm = confusion_matrix(y_test, y3_pred)"
      ]
    },
    {
      "cell_type": "code",
      "execution_count": null,
      "metadata": {
        "colab": {
          "base_uri": "https://localhost:8080/",
          "height": 447
        },
        "id": "1fHD3LIt_FuH",
        "outputId": "58302ba5-900f-4735-ff6d-6462b1c8e18d"
      },
      "outputs": [
        {
          "data": {
            "text/plain": [
              "<Axes: >"
            ]
          },
          "execution_count": 61,
          "metadata": {},
          "output_type": "execute_result"
        },
        {
          "data": {
            "image/png": "[encoded data removed]",
            "text/plain": [
              "<Figure size 640x480 with 2 Axes>"
            ]
          },
          "metadata": {},
          "output_type": "display_data"
        }
      ],
      "source": [
        "sns.heatmap(cm_svm, annot = True, fmt ='d')"
      ]
    },
    {
      "cell_type": "code",
      "execution_count": null,
      "metadata": {
        "colab": {
          "base_uri": "https://localhost:8080/"
        },
        "id": "SVKprwyH_KIZ",
        "outputId": "165fae2c-8e5b-4aac-a0f2-6102e9ab4d2c"
      },
      "outputs": [
        {
          "name": "stdout",
          "output_type": "stream",
          "text": [
            "              precision    recall  f1-score   support\n",
            "\n",
            "           0       0.92      0.74      0.82      1587\n",
            "           1       0.70      0.90      0.79      1049\n",
            "\n",
            "    accuracy                           0.81      2636\n",
            "   macro avg       0.81      0.82      0.81      2636\n",
            "weighted avg       0.83      0.81      0.81      2636\n",
            "\n"
          ]
        }
      ],
      "source": [
        "print(classification_report(y_test, y3_pred))"
      ]
    },
    {
      "cell_type": "code",
      "execution_count": null,
      "metadata": {
        "id": "w9lw_c5uABhO"
      },
      "outputs": [],
      "source": [
        "param_grid = {'C':[0.1, 1, 10, 100], 'gamma': [1, 0.1, 0.01, 0.001], 'kernel': ['rbf']}"
      ]
    },
    {
      "cell_type": "code",
      "execution_count": null,
      "metadata": {
        "id": "0tgVEMCMAXcI"
      },
      "outputs": [],
      "source": [
        "from sklearn.model_selection import GridSearchCV"
      ]
    },
    {
      "cell_type": "code",
      "execution_count": null,
      "metadata": {
        "id": "4L4XrtggAclz"
      },
      "outputs": [],
      "source": [
        "grid = GridSearchCV(SVC(), param_grid, refit = True, verbose = 4)"
      ]
    },
    {
      "cell_type": "code",
      "execution_count": null,
      "metadata": {
        "colab": {
          "base_uri": "https://localhost:8080/",
          "height": 1000
        },
        "id": "aIatBdOeAgdk",
        "outputId": "c753cc21-2653-4f88-9156-aa2fd8a53d36"
      },
      "outputs": [
        {
          "name": "stdout",
          "output_type": "stream",
          "text": [
            "Fitting 5 folds for each of 16 candidates, totalling 80 fits\n",
            "[CV 1/5] END ........C=0.1, gamma=1, kernel=rbf;, score=0.608 total time=   7.7s\n",
            "[CV 2/5] END ........C=0.1, gamma=1, kernel=rbf;, score=0.608 total time=   8.4s\n",
            "[CV 3/5] END ........C=0.1, gamma=1, kernel=rbf;, score=0.608 total time=   8.7s\n",
            "[CV 4/5] END ........C=0.1, gamma=1, kernel=rbf;, score=0.608 total time=   7.2s\n",
            "[CV 5/5] END ........C=0.1, gamma=1, kernel=rbf;, score=0.609 total time=   9.1s\n",
            "[CV 1/5] END ......C=0.1, gamma=0.1, kernel=rbf;, score=0.608 total time=   6.4s\n",
            "[CV 2/5] END ......C=0.1, gamma=0.1, kernel=rbf;, score=0.608 total time=   8.7s\n",
            "[CV 3/5] END ......C=0.1, gamma=0.1, kernel=rbf;, score=0.608 total time=   6.4s\n",
            "[CV 4/5] END ......C=0.1, gamma=0.1, kernel=rbf;, score=0.608 total time=   8.7s\n",
            "[CV 5/5] END ......C=0.1, gamma=0.1, kernel=rbf;, score=0.609 total time=   6.4s\n",
            "[CV 1/5] END .....C=0.1, gamma=0.01, kernel=rbf;, score=0.608 total time=   8.5s\n",
            "[CV 2/5] END .....C=0.1, gamma=0.01, kernel=rbf;, score=0.608 total time=   6.3s\n",
            "[CV 3/5] END .....C=0.1, gamma=0.01, kernel=rbf;, score=0.608 total time=   8.5s\n",
            "[CV 4/5] END .....C=0.1, gamma=0.01, kernel=rbf;, score=0.608 total time=   6.3s\n",
            "[CV 5/5] END .....C=0.1, gamma=0.01, kernel=rbf;, score=0.609 total time=   8.5s\n",
            "[CV 1/5] END ....C=0.1, gamma=0.001, kernel=rbf;, score=0.608 total time=   5.2s\n",
            "[CV 2/5] END ....C=0.1, gamma=0.001, kernel=rbf;, score=0.608 total time=   7.0s\n",
            "[CV 3/5] END ....C=0.1, gamma=0.001, kernel=rbf;, score=0.608 total time=   5.2s\n",
            "[CV 4/5] END ....C=0.1, gamma=0.001, kernel=rbf;, score=0.608 total time=   5.4s\n",
            "[CV 5/5] END ....C=0.1, gamma=0.001, kernel=rbf;, score=0.609 total time=   8.2s\n",
            "[CV 1/5] END ..........C=1, gamma=1, kernel=rbf;, score=0.608 total time=   9.5s\n",
            "[CV 2/5] END ..........C=1, gamma=1, kernel=rbf;, score=0.608 total time=   7.8s\n",
            "[CV 3/5] END ..........C=1, gamma=1, kernel=rbf;, score=0.608 total time=   8.6s\n",
            "[CV 4/5] END ..........C=1, gamma=1, kernel=rbf;, score=0.608 total time=   6.5s\n",
            "[CV 5/5] END ..........C=1, gamma=1, kernel=rbf;, score=0.609 total time=   8.9s\n",
            "[CV 1/5] END ........C=1, gamma=0.1, kernel=rbf;, score=0.608 total time=   6.8s\n",
            "[CV 2/5] END ........C=1, gamma=0.1, kernel=rbf;, score=0.608 total time=   9.1s\n",
            "[CV 3/5] END ........C=1, gamma=0.1, kernel=rbf;, score=0.608 total time=   6.9s\n",
            "[CV 4/5] END ........C=1, gamma=0.1, kernel=rbf;, score=0.608 total time=   9.2s\n",
            "[CV 5/5] END ........C=1, gamma=0.1, kernel=rbf;, score=0.609 total time=   7.1s\n",
            "[CV 1/5] END .......C=1, gamma=0.01, kernel=rbf;, score=0.608 total time=  11.1s\n",
            "[CV 2/5] END .......C=1, gamma=0.01, kernel=rbf;, score=0.608 total time=   9.5s\n",
            "[CV 3/5] END .......C=1, gamma=0.01, kernel=rbf;, score=0.608 total time=   6.9s\n",
            "[CV 4/5] END .......C=1, gamma=0.01, kernel=rbf;, score=0.608 total time=   9.2s\n",
            "[CV 5/5] END .......C=1, gamma=0.01, kernel=rbf;, score=0.609 total time=   6.5s\n",
            "[CV 1/5] END ......C=1, gamma=0.001, kernel=rbf;, score=0.852 total time=  11.3s\n",
            "[CV 2/5] END ......C=1, gamma=0.001, kernel=rbf;, score=0.842 total time=  10.7s\n",
            "[CV 3/5] END ......C=1, gamma=0.001, kernel=rbf;, score=0.840 total time=  10.4s\n",
            "[CV 4/5] END ......C=1, gamma=0.001, kernel=rbf;, score=0.844 total time=   9.8s\n",
            "[CV 5/5] END ......C=1, gamma=0.001, kernel=rbf;, score=0.860 total time=  11.0s\n",
            "[CV 1/5] END .........C=10, gamma=1, kernel=rbf;, score=0.608 total time=  19.6s\n",
            "[CV 2/5] END .........C=10, gamma=1, kernel=rbf;, score=0.608 total time=  25.2s\n",
            "[CV 3/5] END .........C=10, gamma=1, kernel=rbf;, score=0.608 total time=  19.3s\n",
            "[CV 4/5] END .........C=10, gamma=1, kernel=rbf;, score=0.608 total time=  22.3s\n",
            "[CV 5/5] END .........C=10, gamma=1, kernel=rbf;, score=0.609 total time=  19.6s\n",
            "[CV 1/5] END .......C=10, gamma=0.1, kernel=rbf;, score=0.608 total time=  16.0s\n",
            "[CV 2/5] END .......C=10, gamma=0.1, kernel=rbf;, score=0.608 total time=  15.7s\n",
            "[CV 3/5] END .......C=10, gamma=0.1, kernel=rbf;, score=0.608 total time=  16.3s\n",
            "[CV 4/5] END .......C=10, gamma=0.1, kernel=rbf;, score=0.608 total time=  16.8s\n",
            "[CV 5/5] END .......C=10, gamma=0.1, kernel=rbf;, score=0.609 total time=  17.8s\n",
            "[CV 1/5] END ......C=10, gamma=0.01, kernel=rbf;, score=0.608 total time=  10.6s\n",
            "[CV 2/5] END ......C=10, gamma=0.01, kernel=rbf;, score=0.608 total time=  12.5s\n",
            "[CV 3/5] END ......C=10, gamma=0.01, kernel=rbf;, score=0.608 total time=  12.1s\n",
            "[CV 4/5] END ......C=10, gamma=0.01, kernel=rbf;, score=0.608 total time=  12.9s\n",
            "[CV 5/5] END ......C=10, gamma=0.01, kernel=rbf;, score=0.609 total time=  15.0s\n",
            "[CV 1/5] END .....C=10, gamma=0.001, kernel=rbf;, score=0.856 total time=  12.6s\n",
            "[CV 2/5] END .....C=10, gamma=0.001, kernel=rbf;, score=0.846 total time=   9.8s\n",
            "[CV 3/5] END .....C=10, gamma=0.001, kernel=rbf;, score=0.846 total time=  12.2s\n",
            "[CV 4/5] END .....C=10, gamma=0.001, kernel=rbf;, score=0.848 total time=  12.0s\n",
            "[CV 5/5] END .....C=10, gamma=0.001, kernel=rbf;, score=0.864 total time=  12.2s\n",
            "[CV 1/5] END ........C=100, gamma=1, kernel=rbf;, score=0.608 total time=  19.6s\n",
            "[CV 2/5] END ........C=100, gamma=1, kernel=rbf;, score=0.608 total time=  24.1s\n",
            "[CV 3/5] END ........C=100, gamma=1, kernel=rbf;, score=0.608 total time=  20.6s\n",
            "[CV 4/5] END ........C=100, gamma=1, kernel=rbf;, score=0.608 total time=  20.6s\n",
            "[CV 5/5] END ........C=100, gamma=1, kernel=rbf;, score=0.609 total time=  21.3s\n",
            "[CV 1/5] END ......C=100, gamma=0.1, kernel=rbf;, score=0.608 total time=  16.1s\n",
            "[CV 2/5] END ......C=100, gamma=0.1, kernel=rbf;, score=0.608 total time=  15.8s\n",
            "[CV 3/5] END ......C=100, gamma=0.1, kernel=rbf;, score=0.608 total time=  19.0s\n",
            "[CV 4/5] END ......C=100, gamma=0.1, kernel=rbf;, score=0.608 total time=  16.2s\n",
            "[CV 5/5] END ......C=100, gamma=0.1, kernel=rbf;, score=0.609 total time=  16.4s\n",
            "[CV 1/5] END .....C=100, gamma=0.01, kernel=rbf;, score=0.608 total time=  12.4s\n",
            "[CV 2/5] END .....C=100, gamma=0.01, kernel=rbf;, score=0.608 total time=  12.5s\n",
            "[CV 3/5] END .....C=100, gamma=0.01, kernel=rbf;, score=0.608 total time=  12.1s\n",
            "[CV 4/5] END .....C=100, gamma=0.01, kernel=rbf;, score=0.608 total time=  12.9s\n",
            "[CV 5/5] END .....C=100, gamma=0.01, kernel=rbf;, score=0.609 total time=  12.9s\n",
            "[CV 1/5] END ....C=100, gamma=0.001, kernel=rbf;, score=0.856 total time=  10.0s\n",
            "[CV 2/5] END ....C=100, gamma=0.001, kernel=rbf;, score=0.846 total time=  12.1s\n",
            "[CV 3/5] END ....C=100, gamma=0.001, kernel=rbf;, score=0.846 total time=  12.3s\n",
            "[CV 4/5] END ....C=100, gamma=0.001, kernel=rbf;, score=0.848 total time=  12.0s\n",
            "[CV 5/5] END ....C=100, gamma=0.001, kernel=rbf;, score=0.864 total time=  12.2s\n"
          ]
        },
        {
          "data": {
            "text/html": [
              "<style>#sk-container-id-3 {color: black;background-color: white;}#sk-container-id-3 pre{padding: 0;}#sk-container-id-3 div.sk-toggleable {background-color: white;}#sk-container-id-3 label.sk-toggleable__label {cursor: pointer;display: block;width: 100%;margin-bottom: 0;padding: 0.3em;box-sizing: border-box;text-align: center;}#sk-container-id-3 label.sk-toggleable__label-arrow:before {content: \"▸\";float: left;margin-right: 0.25em;color: #696969;}#sk-container-id-3 label.sk-toggleable__label-arrow:hover:before {color: black;}#sk-container-id-3 div.sk-estimator:hover label.sk-toggleable__label-arrow:before {color: black;}#sk-container-id-3 div.sk-toggleable__content {max-height: 0;max-width: 0;overflow: hidden;text-align: left;background-color: #f0f8ff;}#sk-container-id-3 div.sk-toggleable__content pre {margin: 0.2em;color: black;border-radius: 0.25em;background-color: #f0f8ff;}#sk-container-id-3 input.sk-toggleable__control:checked~div.sk-toggleable__content {max-height: 200px;max-width: 100%;overflow: auto;}#sk-container-id-3 input.sk-toggleable__control:checked~label.sk-toggleable__label-arrow:before {content: \"▾\";}#sk-container-id-3 div.sk-estimator input.sk-toggleable__control:checked~label.sk-toggleable__label {background-color: #d4ebff;}#sk-container-id-3 div.sk-label input.sk-toggleable__control:checked~label.sk-toggleable__label {background-color: #d4ebff;}#sk-container-id-3 input.sk-hidden--visually {border: 0;clip: rect(1px 1px 1px 1px);clip: rect(1px, 1px, 1px, 1px);height: 1px;margin: -1px;overflow: hidden;padding: 0;position: absolute;width: 1px;}#sk-container-id-3 div.sk-estimator {font-family: monospace;background-color: #f0f8ff;border: 1px dotted black;border-radius: 0.25em;box-sizing: border-box;margin-bottom: 0.5em;}#sk-container-id-3 div.sk-estimator:hover {background-color: #d4ebff;}#sk-container-id-3 div.sk-parallel-item::after {content: \"\";width: 100%;border-bottom: 1px solid gray;flex-grow: 1;}#sk-container-id-3 div.sk-label:hover label.sk-toggleable__label {background-color: #d4ebff;}#sk-container-id-3 div.sk-serial::before {content: \"\";position: absolute;border-left: 1px solid gray;box-sizing: border-box;top: 0;bottom: 0;left: 50%;z-index: 0;}#sk-container-id-3 div.sk-serial {display: flex;flex-direction: column;align-items: center;background-color: white;padding-right: 0.2em;padding-left: 0.2em;position: relative;}#sk-container-id-3 div.sk-item {position: relative;z-index: 1;}#sk-container-id-3 div.sk-parallel {display: flex;align-items: stretch;justify-content: center;background-color: white;position: relative;}#sk-container-id-3 div.sk-item::before, #sk-container-id-3 div.sk-parallel-item::before {content: \"\";position: absolute;border-left: 1px solid gray;box-sizing: border-box;top: 0;bottom: 0;left: 50%;z-index: -1;}#sk-container-id-3 div.sk-parallel-item {display: flex;flex-direction: column;z-index: 1;position: relative;background-color: white;}#sk-container-id-3 div.sk-parallel-item:first-child::after {align-self: flex-end;width: 50%;}#sk-container-id-3 div.sk-parallel-item:last-child::after {align-self: flex-start;width: 50%;}#sk-container-id-3 div.sk-parallel-item:only-child::after {width: 0;}#sk-container-id-3 div.sk-dashed-wrapped {border: 1px dashed gray;margin: 0 0.4em 0.5em 0.4em;box-sizing: border-box;padding-bottom: 0.4em;background-color: white;}#sk-container-id-3 div.sk-label label {font-family: monospace;font-weight: bold;display: inline-block;line-height: 1.2em;}#sk-container-id-3 div.sk-label-container {text-align: center;}#sk-container-id-3 div.sk-container {/* jupyter's `normalize.less` sets `[hidden] { display: none; }` but bootstrap.min.css set `[hidden] { display: none !important; }` so we also need the `!important` here to be able to override the default hidden behavior on the sphinx rendered scikit-learn.org. See: https://github.com/scikit-learn/scikit-learn/issues/21755 */display: inline-block !important;position: relative;}#sk-container-id-3 div.sk-text-repr-fallback {display: none;}</style><div id=\"sk-container-id-3\" class=\"sk-top-container\"><div class=\"sk-text-repr-fallback\"><pre>GridSearchCV(estimator=SVC(),\n",
              "             param_grid={&#x27;C&#x27;: [0.1, 1, 10, 100], &#x27;gamma&#x27;: [1, 0.1, 0.01, 0.001],\n",
              "                         &#x27;kernel&#x27;: [&#x27;rbf&#x27;]},\n",
              "             verbose=4)</pre><b>In a Jupyter environment, please rerun this cell to show the HTML representation or trust the notebook. <br />On GitHub, the HTML representation is unable to render, please try loading this page with nbviewer.org.</b></div><div class=\"sk-container\" hidden><div class=\"sk-item sk-dashed-wrapped\"><div class=\"sk-label-container\"><div class=\"sk-label sk-toggleable\"><input class=\"sk-toggleable__control sk-hidden--visually\" id=\"sk-estimator-id-3\" type=\"checkbox\" ><label for=\"sk-estimator-id-3\" class=\"sk-toggleable__label sk-toggleable__label-arrow\">GridSearchCV</label><div class=\"sk-toggleable__content\"><pre>GridSearchCV(estimator=SVC(),\n",
              "             param_grid={&#x27;C&#x27;: [0.1, 1, 10, 100], &#x27;gamma&#x27;: [1, 0.1, 0.01, 0.001],\n",
              "                         &#x27;kernel&#x27;: [&#x27;rbf&#x27;]},\n",
              "             verbose=4)</pre></div></div></div><div class=\"sk-parallel\"><div class=\"sk-parallel-item\"><div class=\"sk-item\"><div class=\"sk-label-container\"><div class=\"sk-label sk-toggleable\"><input class=\"sk-toggleable__control sk-hidden--visually\" id=\"sk-estimator-id-4\" type=\"checkbox\" ><label for=\"sk-estimator-id-4\" class=\"sk-toggleable__label sk-toggleable__label-arrow\">estimator: SVC</label><div class=\"sk-toggleable__content\"><pre>SVC()</pre></div></div></div><div class=\"sk-serial\"><div class=\"sk-item\"><div class=\"sk-estimator sk-toggleable\"><input class=\"sk-toggleable__control sk-hidden--visually\" id=\"sk-estimator-id-5\" type=\"checkbox\" ><label for=\"sk-estimator-id-5\" class=\"sk-toggleable__label sk-toggleable__label-arrow\">SVC</label><div class=\"sk-toggleable__content\"><pre>SVC()</pre></div></div></div></div></div></div></div></div></div></div>"
            ],
            "text/plain": [
              "GridSearchCV(estimator=SVC(),\n",
              "             param_grid={'C': [0.1, 1, 10, 100], 'gamma': [1, 0.1, 0.01, 0.001],\n",
              "                         'kernel': ['rbf']},\n",
              "             verbose=4)"
            ]
          },
          "execution_count": 66,
          "metadata": {},
          "output_type": "execute_result"
        }
      ],
      "source": [
        "grid.fit(x_train, y_train)"
      ]
    },
    {
      "cell_type": "code",
      "execution_count": null,
      "metadata": {
        "colab": {
          "base_uri": "https://localhost:8080/"
        },
        "id": "r7B-jwxXISaI",
        "outputId": "2bb7818b-cbb2-4358-c79e-d16b3b0aadc3"
      },
      "outputs": [
        {
          "data": {
            "text/plain": [
              "{'C': 10, 'gamma': 0.001, 'kernel': 'rbf'}"
            ]
          },
          "execution_count": 67,
          "metadata": {},
          "output_type": "execute_result"
        }
      ],
      "source": [
        "grid.best_params_"
      ]
    },
    {
      "cell_type": "code",
      "execution_count": null,
      "metadata": {
        "id": "Ls4AMN_dIVAS"
      },
      "outputs": [],
      "source": [
        "grid_pred = grid.predict(x_test)"
      ]
    },
    {
      "cell_type": "code",
      "execution_count": null,
      "metadata": {
        "id": "_0_uGMAVIo8m"
      },
      "outputs": [],
      "source": [
        "cms = confusion_matrix(y_test, grid_pred)"
      ]
    },
    {
      "cell_type": "code",
      "execution_count": null,
      "metadata": {
        "colab": {
          "base_uri": "https://localhost:8080/",
          "height": 447
        },
        "id": "NP8Eam9IIt-P",
        "outputId": "25deca98-5c20-40af-fbb7-794e79dbd4c1"
      },
      "outputs": [
        {
          "data": {
            "text/plain": [
              "<Axes: >"
            ]
          },
          "execution_count": 70,
          "metadata": {},
          "output_type": "execute_result"
        },
        {
          "data": {
            "image/png": "[encoded data removed]",
            "text/plain": [
              "<Figure size 640x480 with 2 Axes>"
            ]
          },
          "metadata": {},
          "output_type": "display_data"
        }
      ],
      "source": [
        "sns.heatmap(cms, annot = True)"
      ]
    },
    {
      "cell_type": "code",
      "execution_count": null,
      "metadata": {
        "colab": {
          "base_uri": "https://localhost:8080/"
        },
        "id": "vW0Jj1afIw1U",
        "outputId": "9c7882d7-a782-4ec9-a19a-b5399801757f"
      },
      "outputs": [
        {
          "name": "stdout",
          "output_type": "stream",
          "text": [
            "              precision    recall  f1-score   support\n",
            "\n",
            "           0       1.00      0.26      0.41      1587\n",
            "           1       0.47      1.00      0.64      1049\n",
            "\n",
            "    accuracy                           0.55      2636\n",
            "   macro avg       0.74      0.63      0.52      2636\n",
            "weighted avg       0.79      0.55      0.50      2636\n",
            "\n"
          ]
        }
      ],
      "source": [
        "print(classification_report(y_test, grid_pred))"
      ]
    },
    {
      "cell_type": "code",
      "execution_count": null,
      "metadata": {
        "id": "QKCMPuh-JA1h"
      },
      "outputs": [],
      "source": []
    }
  ],
  "metadata": {
    "colab": {
      "provenance": [],
      "mount_file_id": "15r7lNY0D9fJuXXY30rpEfY284qHaOjYS",
      "authorship_tag": "ABX9TyO9AqXSjzi5+CNwG0DrlTBZ",
      "include_colab_link": true
    },
    "kernelspec": {
      "display_name": "Python 3",
      "name": "python3"
    },
    "language_info": {
      "name": "python"
    }
  },
  "nbformat": 4,
  "nbformat_minor": 0
}